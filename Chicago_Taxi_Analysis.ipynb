{
  "cells": [
    {
      "cell_type": "markdown",
      "metadata": {
        "id": "view-in-github",
        "colab_type": "text"
      },
      "source": [
        "<a href=\"https://colab.research.google.com/github/AJoshEdwards/chicago-taxi/blob/main/Chicago_Taxi_Analysis.ipynb\" target=\"_parent\"><img src=\"https://colab.research.google.com/assets/colab-badge.svg\" alt=\"Open In Colab\"/></a>"
      ]
    },
    {
      "cell_type": "markdown",
      "id": "16f135e3-1fb8-48ae-b791-78caeb2e1d16",
      "metadata": {
        "tags": [],
        "id": "16f135e3-1fb8-48ae-b791-78caeb2e1d16"
      },
      "source": [
        "# <h1>Chicago Taxi Analysis</h1>"
      ]
    },
    {
      "cell_type": "markdown",
      "id": "2dcfd829-41af-47bc-98ba-df189a55261d",
      "metadata": {
        "tags": [],
        "id": "2dcfd829-41af-47bc-98ba-df189a55261d"
      },
      "source": [
        "## <h2>Introduction</h2>"
      ]
    },
    {
      "cell_type": "markdown",
      "id": "9cce05ea-6ba0-4933-bb2e-d4c8853957bd",
      "metadata": {
        "id": "9cce05ea-6ba0-4933-bb2e-d4c8853957bd"
      },
      "source": [
        "<b>\"How can a company increase their total number of taxi trips?\"</b><br>\n",
        "\n",
        "In this notebook I'll look to explore the public bigquery dataset for Chicago Taxi Trips 2022 and look to answer the question \"How can a company increase their total number of taxi trips?\"<br> Having briefly looked at the dataset I have a few initial ideas to investigate:<br>\n",
        "\n",
        "*   Does the amount of Taxis a company owns affect the amount of Trips they can do?\n",
        "*   Is there a Community Area that the majority of Trips take place in?\n",
        "*   How does the amount of trips change throughout the year?\n",
        "*   Does the Day of the Week affect the amount of trips? What about time of day?\n",
        "*   How does the Duration of a Trip affect the amount of Trips a Taxi Company can do?\n",
        "\n",
        "<b>Methodology</b>\n",
        "\n",
        "1.   Import the relevant libraries and successfully connect to the dataset\n",
        "2.   Clean and transform the data as appropriate\n",
        "3.   Apply different exploratory data analysis techniques to understand the data and explore my initial ideas, producing visualisations using plotly express\n",
        "4.   Answer the question \"How can a company increase their total number of taxi trips?\""
      ]
    },
    {
      "cell_type": "markdown",
      "id": "4c67ab9d-c868-4205-aeac-9c1676895603",
      "metadata": {
        "tags": [],
        "id": "4c67ab9d-c868-4205-aeac-9c1676895603"
      },
      "source": [
        "### <h3>Import Libraries</h3>"
      ]
    },
    {
      "cell_type": "code",
      "execution_count": null,
      "id": "df090dad-cb5e-429d-a8e3-6e07d7f59ab2",
      "metadata": {
        "id": "df090dad-cb5e-429d-a8e3-6e07d7f59ab2"
      },
      "outputs": [],
      "source": [
        "import numpy as np\n",
        "import pandas as pd\n",
        "import seaborn as sns\n",
        "import matplotlib.pyplot as plt\n",
        "from matplotlib.ticker import PercentFormatter\n",
        "from IPython.display import Markdown\n",
        "import plotly\n",
        "import plotly.express as px\n",
        "import plotly.offline as py\n",
        "import plotly.graph_objs as go\n",
        "import plotly.figure_factory as ff\n",
        "import plotly.tools as tls\n",
        "from plotly.subplots import make_subplots\n",
        "from google.colab import data_table\n",
        "data_table.enable_dataframe_formatter()"
      ]
    },
    {
      "cell_type": "markdown",
      "id": "e0ea6c67-8310-4ba8-83a6-9fae28ed9628",
      "metadata": {
        "id": "e0ea6c67-8310-4ba8-83a6-9fae28ed9628"
      },
      "source": [
        "### <h3>Create and Test Connection</h3>"
      ]
    },
    {
      "cell_type": "code",
      "source": [
        "from google.colab import auth\n",
        "auth.authenticate_user()"
      ],
      "metadata": {
        "id": "4qQAf1w4BTcl"
      },
      "id": "4qQAf1w4BTcl",
      "execution_count": null,
      "outputs": []
    },
    {
      "cell_type": "code",
      "execution_count": null,
      "id": "674d97b4-f42b-4a6a-9bba-e364d896d28a",
      "metadata": {
        "id": "674d97b4-f42b-4a6a-9bba-e364d896d28a",
        "colab": {
          "base_uri": "https://localhost:8080/",
          "height": 490
        },
        "outputId": "0ea5e095-e423-44d8-fb7e-50aab4e439e4"
      },
      "outputs": [
        {
          "output_type": "stream",
          "name": "stdout",
          "text": [
            "Warning: Total number of columns (23) exceeds max_columns (20). Falling back to pandas display.\n"
          ]
        },
        {
          "output_type": "execute_result",
          "data": {
            "text/plain": [
              "                                 unique_key  \\\n",
              "0  d4603bb03afe6c91ca4bd030faaab52f94ad0511   \n",
              "1  ad88c83e4c627275c50bad4f15466cc2a8685778   \n",
              "2  aa5ba4bb0ab693c898bd0621497191821166d9d9   \n",
              "3  b2f6cf29f63f0e601e6e5f51131026da9b5ac70e   \n",
              "4  15102b6ef5bd9d1beabe29a0f363dc81c29d43c9   \n",
              "\n",
              "                                             taxi_id  \\\n",
              "0  c09f5ee2dc22a2a3c342dd27432eb0fe98506ef3698f5b...   \n",
              "1  4c437b70b55212de32439053c915572d336a8cc2fb7129...   \n",
              "2  d3068abc56994f67ba73bdbd3610e9baf804a34c6e9e5d...   \n",
              "3  22c2c92ba4cc6458780df495b72b3fb22a83cfd79728bf...   \n",
              "4  39c7de06f8b47eaeaaba57dc5d6f9b1691ff67d5534fc3...   \n",
              "\n",
              "       trip_start_timestamp        trip_end_timestamp  trip_seconds  \\\n",
              "0 2022-05-28 16:45:00+00:00 2022-05-28 17:00:00+00:00           608   \n",
              "1 2022-02-01 08:45:00+00:00 2022-02-01 09:15:00+00:00          1920   \n",
              "2 2022-02-11 15:00:00+00:00 2022-02-11 15:00:00+00:00            20   \n",
              "3 2022-02-27 17:15:00+00:00 2022-02-27 17:30:00+00:00          1200   \n",
              "4 2022-06-07 05:15:00+00:00 2022-06-07 05:15:00+00:00             0   \n",
              "\n",
              "   trip_miles  pickup_census_tract  dropoff_census_tract  \\\n",
              "0        2.13          17031833000           17031081403   \n",
              "1        7.10                 <NA>                  <NA>   \n",
              "2        0.00                 <NA>                  <NA>   \n",
              "3        0.60                 <NA>                  <NA>   \n",
              "4        0.00                 <NA>                  <NA>   \n",
              "\n",
              "   pickup_community_area  dropoff_community_area  ...  extras  trip_total  \\\n",
              "0                     28                       8  ...     0.0       16.24   \n",
              "1                     18                      29  ...     0.0       22.25   \n",
              "2                     15                      15  ...     1.0        4.25   \n",
              "3                     73                      34  ...     0.0       27.00   \n",
              "4                     59                      59  ...     0.0        3.25   \n",
              "\n",
              "   payment_type                    company  pickup_latitude pickup_longitude  \\\n",
              "0        Mobile                   Sun Taxi        41.885281       -87.657233   \n",
              "1       Unknown  Taxi Affiliation Services        41.929297       -87.798032   \n",
              "2          Cash                   Sun Taxi        41.954028       -87.763399   \n",
              "3       Unknown  Taxi Affiliation Services        41.717493       -87.648895   \n",
              "4          Cash  Taxi Affiliation Services        41.829922       -87.672503   \n",
              "\n",
              "                        pickup_location  dropoff_latitude  dropoff_longitude  \\\n",
              "0  POINT (-87.6572331997 41.8852813201)         41.890922         -87.618868   \n",
              "1  POINT (-87.7980321814 41.9292973683)         41.860190         -87.717220   \n",
              "2  POINT (-87.7633990316 41.9540276487)         41.954028         -87.763399   \n",
              "3  POINT (-87.6488950721 41.7174930361)         41.842076         -87.633973   \n",
              "4  POINT (-87.6725026464 41.8299223039)         41.829922         -87.672503   \n",
              "\n",
              "                       dropoff_location  \n",
              "0  POINT (-87.6188683546 41.8909220259)  \n",
              "1     POINT (-87.7172201 41.8601900192)  \n",
              "2  POINT (-87.7633990316 41.9540276487)  \n",
              "3  POINT (-87.6339734222 41.8420761168)  \n",
              "4  POINT (-87.6725026464 41.8299223039)  \n",
              "\n",
              "[5 rows x 23 columns]"
            ],
            "text/html": [
              "\n",
              "  <div id=\"df-af16cbed-bd44-4323-99c4-63dd595217f0\">\n",
              "    <div class=\"colab-df-container\">\n",
              "      <div>\n",
              "<style scoped>\n",
              "    .dataframe tbody tr th:only-of-type {\n",
              "        vertical-align: middle;\n",
              "    }\n",
              "\n",
              "    .dataframe tbody tr th {\n",
              "        vertical-align: top;\n",
              "    }\n",
              "\n",
              "    .dataframe thead th {\n",
              "        text-align: right;\n",
              "    }\n",
              "</style>\n",
              "<table border=\"1\" class=\"dataframe\">\n",
              "  <thead>\n",
              "    <tr style=\"text-align: right;\">\n",
              "      <th></th>\n",
              "      <th>unique_key</th>\n",
              "      <th>taxi_id</th>\n",
              "      <th>trip_start_timestamp</th>\n",
              "      <th>trip_end_timestamp</th>\n",
              "      <th>trip_seconds</th>\n",
              "      <th>trip_miles</th>\n",
              "      <th>pickup_census_tract</th>\n",
              "      <th>dropoff_census_tract</th>\n",
              "      <th>pickup_community_area</th>\n",
              "      <th>dropoff_community_area</th>\n",
              "      <th>...</th>\n",
              "      <th>extras</th>\n",
              "      <th>trip_total</th>\n",
              "      <th>payment_type</th>\n",
              "      <th>company</th>\n",
              "      <th>pickup_latitude</th>\n",
              "      <th>pickup_longitude</th>\n",
              "      <th>pickup_location</th>\n",
              "      <th>dropoff_latitude</th>\n",
              "      <th>dropoff_longitude</th>\n",
              "      <th>dropoff_location</th>\n",
              "    </tr>\n",
              "  </thead>\n",
              "  <tbody>\n",
              "    <tr>\n",
              "      <th>0</th>\n",
              "      <td>d4603bb03afe6c91ca4bd030faaab52f94ad0511</td>\n",
              "      <td>c09f5ee2dc22a2a3c342dd27432eb0fe98506ef3698f5b...</td>\n",
              "      <td>2022-05-28 16:45:00+00:00</td>\n",
              "      <td>2022-05-28 17:00:00+00:00</td>\n",
              "      <td>608</td>\n",
              "      <td>2.13</td>\n",
              "      <td>17031833000</td>\n",
              "      <td>17031081403</td>\n",
              "      <td>28</td>\n",
              "      <td>8</td>\n",
              "      <td>...</td>\n",
              "      <td>0.0</td>\n",
              "      <td>16.24</td>\n",
              "      <td>Mobile</td>\n",
              "      <td>Sun Taxi</td>\n",
              "      <td>41.885281</td>\n",
              "      <td>-87.657233</td>\n",
              "      <td>POINT (-87.6572331997 41.8852813201)</td>\n",
              "      <td>41.890922</td>\n",
              "      <td>-87.618868</td>\n",
              "      <td>POINT (-87.6188683546 41.8909220259)</td>\n",
              "    </tr>\n",
              "    <tr>\n",
              "      <th>1</th>\n",
              "      <td>ad88c83e4c627275c50bad4f15466cc2a8685778</td>\n",
              "      <td>4c437b70b55212de32439053c915572d336a8cc2fb7129...</td>\n",
              "      <td>2022-02-01 08:45:00+00:00</td>\n",
              "      <td>2022-02-01 09:15:00+00:00</td>\n",
              "      <td>1920</td>\n",
              "      <td>7.10</td>\n",
              "      <td>&lt;NA&gt;</td>\n",
              "      <td>&lt;NA&gt;</td>\n",
              "      <td>18</td>\n",
              "      <td>29</td>\n",
              "      <td>...</td>\n",
              "      <td>0.0</td>\n",
              "      <td>22.25</td>\n",
              "      <td>Unknown</td>\n",
              "      <td>Taxi Affiliation Services</td>\n",
              "      <td>41.929297</td>\n",
              "      <td>-87.798032</td>\n",
              "      <td>POINT (-87.7980321814 41.9292973683)</td>\n",
              "      <td>41.860190</td>\n",
              "      <td>-87.717220</td>\n",
              "      <td>POINT (-87.7172201 41.8601900192)</td>\n",
              "    </tr>\n",
              "    <tr>\n",
              "      <th>2</th>\n",
              "      <td>aa5ba4bb0ab693c898bd0621497191821166d9d9</td>\n",
              "      <td>d3068abc56994f67ba73bdbd3610e9baf804a34c6e9e5d...</td>\n",
              "      <td>2022-02-11 15:00:00+00:00</td>\n",
              "      <td>2022-02-11 15:00:00+00:00</td>\n",
              "      <td>20</td>\n",
              "      <td>0.00</td>\n",
              "      <td>&lt;NA&gt;</td>\n",
              "      <td>&lt;NA&gt;</td>\n",
              "      <td>15</td>\n",
              "      <td>15</td>\n",
              "      <td>...</td>\n",
              "      <td>1.0</td>\n",
              "      <td>4.25</td>\n",
              "      <td>Cash</td>\n",
              "      <td>Sun Taxi</td>\n",
              "      <td>41.954028</td>\n",
              "      <td>-87.763399</td>\n",
              "      <td>POINT (-87.7633990316 41.9540276487)</td>\n",
              "      <td>41.954028</td>\n",
              "      <td>-87.763399</td>\n",
              "      <td>POINT (-87.7633990316 41.9540276487)</td>\n",
              "    </tr>\n",
              "    <tr>\n",
              "      <th>3</th>\n",
              "      <td>b2f6cf29f63f0e601e6e5f51131026da9b5ac70e</td>\n",
              "      <td>22c2c92ba4cc6458780df495b72b3fb22a83cfd79728bf...</td>\n",
              "      <td>2022-02-27 17:15:00+00:00</td>\n",
              "      <td>2022-02-27 17:30:00+00:00</td>\n",
              "      <td>1200</td>\n",
              "      <td>0.60</td>\n",
              "      <td>&lt;NA&gt;</td>\n",
              "      <td>&lt;NA&gt;</td>\n",
              "      <td>73</td>\n",
              "      <td>34</td>\n",
              "      <td>...</td>\n",
              "      <td>0.0</td>\n",
              "      <td>27.00</td>\n",
              "      <td>Unknown</td>\n",
              "      <td>Taxi Affiliation Services</td>\n",
              "      <td>41.717493</td>\n",
              "      <td>-87.648895</td>\n",
              "      <td>POINT (-87.6488950721 41.7174930361)</td>\n",
              "      <td>41.842076</td>\n",
              "      <td>-87.633973</td>\n",
              "      <td>POINT (-87.6339734222 41.8420761168)</td>\n",
              "    </tr>\n",
              "    <tr>\n",
              "      <th>4</th>\n",
              "      <td>15102b6ef5bd9d1beabe29a0f363dc81c29d43c9</td>\n",
              "      <td>39c7de06f8b47eaeaaba57dc5d6f9b1691ff67d5534fc3...</td>\n",
              "      <td>2022-06-07 05:15:00+00:00</td>\n",
              "      <td>2022-06-07 05:15:00+00:00</td>\n",
              "      <td>0</td>\n",
              "      <td>0.00</td>\n",
              "      <td>&lt;NA&gt;</td>\n",
              "      <td>&lt;NA&gt;</td>\n",
              "      <td>59</td>\n",
              "      <td>59</td>\n",
              "      <td>...</td>\n",
              "      <td>0.0</td>\n",
              "      <td>3.25</td>\n",
              "      <td>Cash</td>\n",
              "      <td>Taxi Affiliation Services</td>\n",
              "      <td>41.829922</td>\n",
              "      <td>-87.672503</td>\n",
              "      <td>POINT (-87.6725026464 41.8299223039)</td>\n",
              "      <td>41.829922</td>\n",
              "      <td>-87.672503</td>\n",
              "      <td>POINT (-87.6725026464 41.8299223039)</td>\n",
              "    </tr>\n",
              "  </tbody>\n",
              "</table>\n",
              "<p>5 rows × 23 columns</p>\n",
              "</div>\n",
              "      <button class=\"colab-df-convert\" onclick=\"convertToInteractive('df-af16cbed-bd44-4323-99c4-63dd595217f0')\"\n",
              "              title=\"Convert this dataframe to an interactive table.\"\n",
              "              style=\"display:none;\">\n",
              "        \n",
              "  <svg xmlns=\"http://www.w3.org/2000/svg\" height=\"24px\"viewBox=\"0 0 24 24\"\n",
              "       width=\"24px\">\n",
              "    <path d=\"M0 0h24v24H0V0z\" fill=\"none\"/>\n",
              "    <path d=\"M18.56 5.44l.94 2.06.94-2.06 2.06-.94-2.06-.94-.94-2.06-.94 2.06-2.06.94zm-11 1L8.5 8.5l.94-2.06 2.06-.94-2.06-.94L8.5 2.5l-.94 2.06-2.06.94zm10 10l.94 2.06.94-2.06 2.06-.94-2.06-.94-.94-2.06-.94 2.06-2.06.94z\"/><path d=\"M17.41 7.96l-1.37-1.37c-.4-.4-.92-.59-1.43-.59-.52 0-1.04.2-1.43.59L10.3 9.45l-7.72 7.72c-.78.78-.78 2.05 0 2.83L4 21.41c.39.39.9.59 1.41.59.51 0 1.02-.2 1.41-.59l7.78-7.78 2.81-2.81c.8-.78.8-2.07 0-2.86zM5.41 20L4 18.59l7.72-7.72 1.47 1.35L5.41 20z\"/>\n",
              "  </svg>\n",
              "      </button>\n",
              "      \n",
              "  <style>\n",
              "    .colab-df-container {\n",
              "      display:flex;\n",
              "      flex-wrap:wrap;\n",
              "      gap: 12px;\n",
              "    }\n",
              "\n",
              "    .colab-df-convert {\n",
              "      background-color: #E8F0FE;\n",
              "      border: none;\n",
              "      border-radius: 50%;\n",
              "      cursor: pointer;\n",
              "      display: none;\n",
              "      fill: #1967D2;\n",
              "      height: 32px;\n",
              "      padding: 0 0 0 0;\n",
              "      width: 32px;\n",
              "    }\n",
              "\n",
              "    .colab-df-convert:hover {\n",
              "      background-color: #E2EBFA;\n",
              "      box-shadow: 0px 1px 2px rgba(60, 64, 67, 0.3), 0px 1px 3px 1px rgba(60, 64, 67, 0.15);\n",
              "      fill: #174EA6;\n",
              "    }\n",
              "\n",
              "    [theme=dark] .colab-df-convert {\n",
              "      background-color: #3B4455;\n",
              "      fill: #D2E3FC;\n",
              "    }\n",
              "\n",
              "    [theme=dark] .colab-df-convert:hover {\n",
              "      background-color: #434B5C;\n",
              "      box-shadow: 0px 1px 3px 1px rgba(0, 0, 0, 0.15);\n",
              "      filter: drop-shadow(0px 1px 2px rgba(0, 0, 0, 0.3));\n",
              "      fill: #FFFFFF;\n",
              "    }\n",
              "  </style>\n",
              "\n",
              "      <script>\n",
              "        const buttonEl =\n",
              "          document.querySelector('#df-af16cbed-bd44-4323-99c4-63dd595217f0 button.colab-df-convert');\n",
              "        buttonEl.style.display =\n",
              "          google.colab.kernel.accessAllowed ? 'block' : 'none';\n",
              "\n",
              "        async function convertToInteractive(key) {\n",
              "          const element = document.querySelector('#df-af16cbed-bd44-4323-99c4-63dd595217f0');\n",
              "          const dataTable =\n",
              "            await google.colab.kernel.invokeFunction('convertToInteractive',\n",
              "                                                     [key], {});\n",
              "          if (!dataTable) return;\n",
              "\n",
              "          const docLinkHtml = 'Like what you see? Visit the ' +\n",
              "            '<a target=\"_blank\" href=https://colab.research.google.com/notebooks/data_table.ipynb>data table notebook</a>'\n",
              "            + ' to learn more about interactive tables.';\n",
              "          element.innerHTML = '';\n",
              "          dataTable['output_type'] = 'display_data';\n",
              "          await google.colab.output.renderOutput(dataTable, element);\n",
              "          const docLink = document.createElement('div');\n",
              "          docLink.innerHTML = docLinkHtml;\n",
              "          element.appendChild(docLink);\n",
              "        }\n",
              "      </script>\n",
              "    </div>\n",
              "  </div>\n",
              "  "
            ]
          },
          "metadata": {},
          "execution_count": 4
        }
      ],
      "source": [
        "from google.cloud import bigquery\n",
        "client = bigquery.Client(project='chicagotaxi-380117')\n",
        "#sql query for 2022 data\n",
        "sql = \"\"\"\n",
        "SELECT *\n",
        "FROM `bigquery-public-data.chicago_taxi_trips.taxi_trips`\n",
        "WHERE FORMAT_TIMESTAMP(\"%Y\", trip_start_timestamp) = '2022';\n",
        "\"\"\"\n",
        "#create dataframe from query outputs\n",
        "df = client.query(sql).to_dataframe()\n",
        "#display first rows of dataframe to confirm loaded correctly\n",
        "df.head()"
      ]
    },
    {
      "cell_type": "markdown",
      "id": "58094b9f-bb46-4737-ad08-532c6ca433bb",
      "metadata": {
        "id": "58094b9f-bb46-4737-ad08-532c6ca433bb"
      },
      "source": [
        "With the connection tested and data loading, we can explore the data and decide what kind of pre-processing will be needed."
      ]
    },
    {
      "cell_type": "markdown",
      "id": "fc514810-22a3-46b7-83f3-e4509549d7f5",
      "metadata": {
        "id": "fc514810-22a3-46b7-83f3-e4509549d7f5"
      },
      "source": [
        "## <h2>Data Cleaning</h2>"
      ]
    },
    {
      "cell_type": "code",
      "execution_count": null,
      "id": "a600c4d4-938d-4567-ba49-86a25c092006",
      "metadata": {
        "colab": {
          "base_uri": "https://localhost:8080/"
        },
        "id": "a600c4d4-938d-4567-ba49-86a25c092006",
        "outputId": "8f258add-299a-4ef7-8a0d-9acb3e9e9930"
      },
      "outputs": [
        {
          "output_type": "execute_result",
          "data": {
            "text/plain": [
              "(6382071, 23)"
            ]
          },
          "metadata": {},
          "execution_count": 5
        }
      ],
      "source": [
        "#How many rows and columns are in the dataset?\n",
        "rows_count = len(df.index)\n",
        "df.shape"
      ]
    },
    {
      "cell_type": "code",
      "execution_count": null,
      "id": "608267a5-2d95-44d1-91f2-2d896b6fdb8f",
      "metadata": {
        "colab": {
          "base_uri": "https://localhost:8080/"
        },
        "id": "608267a5-2d95-44d1-91f2-2d896b6fdb8f",
        "outputId": "fa49592a-97e2-4dd7-8e34-d260713a5182"
      },
      "outputs": [
        {
          "output_type": "execute_result",
          "data": {
            "text/plain": [
              "unique_key                             object\n",
              "taxi_id                                object\n",
              "trip_start_timestamp      datetime64[ns, UTC]\n",
              "trip_end_timestamp        datetime64[ns, UTC]\n",
              "trip_seconds                            Int64\n",
              "trip_miles                            float64\n",
              "pickup_census_tract                     Int64\n",
              "dropoff_census_tract                    Int64\n",
              "pickup_community_area                   Int64\n",
              "dropoff_community_area                  Int64\n",
              "fare                                  float64\n",
              "tips                                  float64\n",
              "tolls                                 float64\n",
              "extras                                float64\n",
              "trip_total                            float64\n",
              "payment_type                           object\n",
              "company                                object\n",
              "pickup_latitude                       float64\n",
              "pickup_longitude                      float64\n",
              "pickup_location                        object\n",
              "dropoff_latitude                      float64\n",
              "dropoff_longitude                     float64\n",
              "dropoff_location                       object\n",
              "dtype: object"
            ]
          },
          "metadata": {},
          "execution_count": 6
        }
      ],
      "source": [
        "#What are the column types stored as?\n",
        "df.dtypes"
      ]
    },
    {
      "cell_type": "code",
      "execution_count": null,
      "id": "417dd936-152b-4a27-b153-5baf834fb376",
      "metadata": {
        "colab": {
          "base_uri": "https://localhost:8080/"
        },
        "id": "417dd936-152b-4a27-b153-5baf834fb376",
        "outputId": "49227fb6-3429-4457-8e00-51e0dd18d167"
      },
      "outputs": [
        {
          "output_type": "execute_result",
          "data": {
            "text/plain": [
              "unique_key                      0\n",
              "taxi_id                         0\n",
              "trip_start_timestamp            0\n",
              "trip_end_timestamp            211\n",
              "trip_seconds                 1464\n",
              "trip_miles                     56\n",
              "pickup_census_tract       3758241\n",
              "dropoff_census_tract      3706741\n",
              "pickup_community_area      513501\n",
              "dropoff_community_area     633332\n",
              "fare                         3533\n",
              "tips                         3533\n",
              "tolls                        3533\n",
              "extras                       3533\n",
              "trip_total                   3533\n",
              "payment_type                    0\n",
              "company                         0\n",
              "pickup_latitude            511199\n",
              "pickup_longitude           511199\n",
              "pickup_location            511199\n",
              "dropoff_latitude           597579\n",
              "dropoff_longitude          597579\n",
              "dropoff_location           597579\n",
              "dtype: int64"
            ]
          },
          "metadata": {},
          "execution_count": 7
        }
      ],
      "source": [
        "#How many null values exist?\n",
        "df.isnull().sum()"
      ]
    },
    {
      "cell_type": "code",
      "source": [
        "#@title Initial Data Overview\n",
        "display(Markdown(f\"###The dataset consists of **{rows_count:,}** rows and 23 columns for 2022. There are missing values in 18 out of the 23 columns, with pickup_census_tract and dropoff_census_tract both containing **over 50%** missing values.\"))\n",
        "display(Markdown(f\"###<li>Firstly I will remove both of these columns from the dataset as well as only keeping in the pickup_community_area and dropoff_community_area for location columns for any location analysis.</li>\"))\n",
        "display(Markdown(f\"###<li>Secondly I will remove the 3533 null rows from the fare column as this means the fare has not been recorded.</li>\"))\n",
        "display(Markdown(f\"###<li>Finally I will remove the rows where trip seconds = null as well as trip_miles = null (probable data errors).</li>\"))"
      ],
      "metadata": {
        "colab": {
          "base_uri": "https://localhost:8080/",
          "height": 208
        },
        "cellView": "form",
        "id": "DjGvoVmoFabm",
        "outputId": "d7bcae51-270b-4bcc-bcc2-7088e45e804d"
      },
      "id": "DjGvoVmoFabm",
      "execution_count": null,
      "outputs": [
        {
          "output_type": "display_data",
          "data": {
            "text/plain": [
              "<IPython.core.display.Markdown object>"
            ],
            "text/markdown": "###The dataset consists of **6,382,071** rows and 23 columns for 2022. There are missing values in 18 out of the 23 columns, with pickup_census_tract and dropoff_census_tract both containing **over 50%** missing values."
          },
          "metadata": {}
        },
        {
          "output_type": "display_data",
          "data": {
            "text/plain": [
              "<IPython.core.display.Markdown object>"
            ],
            "text/markdown": "###<li>Firstly I will remove both of these columns from the dataset as well as only keeping in the pickup_community_area and dropoff_community_area for location columns for any location analysis.</li>"
          },
          "metadata": {}
        },
        {
          "output_type": "display_data",
          "data": {
            "text/plain": [
              "<IPython.core.display.Markdown object>"
            ],
            "text/markdown": "###<li>Secondly I will remove the 3533 null rows from the fare column as this means the fare has not been recorded.</li>"
          },
          "metadata": {}
        },
        {
          "output_type": "display_data",
          "data": {
            "text/plain": [
              "<IPython.core.display.Markdown object>"
            ],
            "text/markdown": "###<li>Finally I will remove the rows where trip seconds = null as well as trip_miles = null (probable data errors).</li>"
          },
          "metadata": {}
        }
      ]
    },
    {
      "cell_type": "code",
      "execution_count": null,
      "id": "6b043676-1b09-4b92-9c3f-83cda3511a4f",
      "metadata": {
        "colab": {
          "base_uri": "https://localhost:8080/"
        },
        "id": "6b043676-1b09-4b92-9c3f-83cda3511a4f",
        "outputId": "0e3d7cd2-eea0-417c-f567-9c34ddbf43d1"
      },
      "outputs": [
        {
          "output_type": "execute_result",
          "data": {
            "text/plain": [
              "unique_key                0\n",
              "taxi_id                   0\n",
              "trip_start_timestamp      0\n",
              "trip_end_timestamp        0\n",
              "trip_seconds              0\n",
              "trip_miles                0\n",
              "pickup_community_area     0\n",
              "dropoff_community_area    0\n",
              "fare                      0\n",
              "tips                      0\n",
              "tolls                     0\n",
              "extras                    0\n",
              "trip_total                0\n",
              "payment_type              0\n",
              "company                   0\n",
              "dtype: int64"
            ]
          },
          "metadata": {},
          "execution_count": 9
        }
      ],
      "source": [
        "#remove unnecessary columns\n",
        "df_clean = df.drop(columns=['pickup_census_tract', 'dropoff_census_tract','pickup_latitude','pickup_longitude','pickup_location','dropoff_latitude','dropoff_longitude','dropoff_location'])\n",
        "#drop rows where the columns data is missing\n",
        "df_clean = df_clean[df_clean['fare'].notna()]\n",
        "df_clean = df_clean[df_clean['trip_seconds'].notna()]\n",
        "df_clean = df_clean[df_clean['trip_miles'].notna()]\n",
        "df_clean = df_clean[df_clean['pickup_community_area'].notna()]\n",
        "df_clean = df_clean[df_clean['dropoff_community_area'].notna()]\n",
        "#recheck the now cleaned dataframe\n",
        "df_clean.isnull().sum()"
      ]
    },
    {
      "cell_type": "code",
      "execution_count": null,
      "id": "9bedc05a-88ee-438e-9652-9a42878748d6",
      "metadata": {
        "colab": {
          "base_uri": "https://localhost:8080/"
        },
        "id": "9bedc05a-88ee-438e-9652-9a42878748d6",
        "outputId": "35cbf558-9734-4fb1-d92d-6e00da4eb61e"
      },
      "outputs": [
        {
          "output_type": "execute_result",
          "data": {
            "text/plain": [
              "(5467826, 15)"
            ]
          },
          "metadata": {},
          "execution_count": 10
        }
      ],
      "source": [
        "#How many rows and columns now exist in the cleaned dataset?\n",
        "rows_count_clean = len(df_clean.index)\n",
        "rows_diff = rows_count - rows_count_clean\n",
        "#How many companies are there?\n",
        "company_count = df_clean['company'].nunique()\n",
        "#How many taxis are there?\n",
        "taxi_count = df_clean['taxi_id'].nunique()\n",
        "#How many pickup community areas are there?\n",
        "ca_count = df_clean['pickup_community_area'].nunique()\n",
        "#How many trip miles were there in total?\n",
        "miles_sum = df_clean['trip_miles'].sum().astype(int)\n",
        "#How many days were there in total?\n",
        "dur_sum = df_clean['trip_seconds'].sum()/86400\n",
        "dur_sum = dur_sum.astype(int)\n",
        "#How many columns and rows are there?\n",
        "df_clean.shape"
      ]
    },
    {
      "cell_type": "code",
      "source": [
        "#@title Cleaned Data Overview\n",
        "display(Markdown(f\"###There are now **{rows_count_clean:,}** rows, down **{rows_diff:,}** from the initial dataset with each row representing a single trip. There are {company_count} companies with {taxi_count:,} taxis as well as {ca_count} pick up community areas.\"))\n",
        "display(Markdown(f\"###In total {miles_sum:,} miles were covered as well as {dur_sum:,} days spent by people in a taxi.\"))\n",
        "display(Markdown(f\"###It's worth noting that removing the null rows from the fare column also removed the null rows from the tips, tools, extras and trip_total columns as well.\"))"
      ],
      "metadata": {
        "colab": {
          "base_uri": "https://localhost:8080/",
          "height": 172
        },
        "cellView": "form",
        "id": "9VldvrG3HY7X",
        "outputId": "07b8017f-4358-497d-c27a-c25c2f7219a1"
      },
      "id": "9VldvrG3HY7X",
      "execution_count": null,
      "outputs": [
        {
          "output_type": "display_data",
          "data": {
            "text/plain": [
              "<IPython.core.display.Markdown object>"
            ],
            "text/markdown": "###There are now **5,467,826** rows, down **914,245** from the initial dataset with each row representing a single trip. There are 35 companies with 2,886 taxis as well as 77 pick up community areas."
          },
          "metadata": {}
        },
        {
          "output_type": "display_data",
          "data": {
            "text/plain": [
              "<IPython.core.display.Markdown object>"
            ],
            "text/markdown": "###In total 29,352,022 miles were covered as well as 71,224 days spent by people in a taxi."
          },
          "metadata": {}
        },
        {
          "output_type": "display_data",
          "data": {
            "text/plain": [
              "<IPython.core.display.Markdown object>"
            ],
            "text/markdown": "###It's worth noting that removing the null rows from the fare column also removed the null rows from the tips, tools, extras and trip_total columns as well."
          },
          "metadata": {}
        }
      ]
    },
    {
      "cell_type": "markdown",
      "id": "b3ea35f0-5f9c-436a-8a99-5c57caa2aba0",
      "metadata": {
        "id": "b3ea35f0-5f9c-436a-8a99-5c57caa2aba0"
      },
      "source": [
        "## <h2>How can a company increase their total number of taxi trips?</h2>"
      ]
    },
    {
      "cell_type": "markdown",
      "id": "a26349a7-77ed-4a54-861f-2272d5e24555",
      "metadata": {
        "id": "a26349a7-77ed-4a54-861f-2272d5e24555"
      },
      "source": [
        "To answer the question <b>\"How can a company increase their total number of taxi trips?\"</b> I have a few initial ideas.\n",
        "*   Does the amount of Taxis a company owns affect the amount of Trips they can do?\n",
        "*   Is there a Community Area that the majority of Trips take place in?\n",
        "*   How does the amount of trips change throughout the year?\n",
        "*   Does the Day of the Week affect the amount of trips? What about time of day?\n",
        "*   How does the Duration of a Trip affect the amount of Trips a Taxi Company can do?\n",
        "\n",
        "Throughout my analysis, for efficiency and consistency, I will use a random sample of 100,000 datapoints from the clean dataset, generated at the start of the analysis. As this random sample can change whenever the initial cell is run I'll generate variables within my code to be used in my analysis paragraphs, that way the analysis is refreshed and up to date whenever the code cell is run."
      ]
    },
    {
      "cell_type": "markdown",
      "id": "f1f204d6-a8e0-4b92-b0f0-adc9e1e5910f",
      "metadata": {
        "id": "f1f204d6-a8e0-4b92-b0f0-adc9e1e5910f"
      },
      "source": [
        "### **<h3>Number of Taxis vs Number of Trips</h3>**"
      ]
    },
    {
      "cell_type": "markdown",
      "source": [
        "Does the amount of Taxis a company owns affect the amount of Trips they can do?<br><br>\n",
        "Intuitively you'd expect that a company with a larger fleet of taxis are able to provide more trips over the course of a year.<br> To investigate this I will group the dataset by company, and aggregate the unique_key and taxi_id column to calculate the number of trips and number of taxis per company. I will then plot this data with a trendline to see the correlation."
      ],
      "metadata": {
        "id": "__QD1XmihCSl"
      },
      "id": "__QD1XmihCSl"
    },
    {
      "cell_type": "code",
      "execution_count": null,
      "id": "88df09c2-4e46-455e-977d-bca087984380",
      "metadata": {
        "colab": {
          "base_uri": "https://localhost:8080/",
          "height": 1015
        },
        "id": "88df09c2-4e46-455e-977d-bca087984380",
        "outputId": "62d4755c-23a2-43f6-9262-999d8cd74bc1"
      },
      "outputs": [
        {
          "output_type": "display_data",
          "data": {
            "text/html": [
              "<html>\n",
              "<head><meta charset=\"utf-8\" /></head>\n",
              "<body>\n",
              "    <div>            <script src=\"https://cdnjs.cloudflare.com/ajax/libs/mathjax/2.7.5/MathJax.js?config=TeX-AMS-MML_SVG\"></script><script type=\"text/javascript\">if (window.MathJax && window.MathJax.Hub && window.MathJax.Hub.Config) {window.MathJax.Hub.Config({SVG: {font: \"STIX-Web\"}});}</script>                <script type=\"text/javascript\">window.PlotlyConfig = {MathJaxConfig: 'local'};</script>\n",
              "        <script src=\"https://cdn.plot.ly/plotly-2.18.2.min.js\"></script>                <div id=\"b620fe3e-7da3-4918-90d4-6fe5b7894b60\" class=\"plotly-graph-div\" style=\"height:700px; width:100%;\"></div>            <script type=\"text/javascript\">                                    window.PLOTLYENV=window.PLOTLYENV || {};                                    if (document.getElementById(\"b620fe3e-7da3-4918-90d4-6fe5b7894b60\")) {                    Plotly.newPlot(                        \"b620fe3e-7da3-4918-90d4-6fe5b7894b60\",                        [{\"hovertemplate\":\"Company=Flash Cab<br>Number of Taxis=%{x}<br>Number of Trips=%{y}<extra></extra>\",\"legendgroup\":\"Flash Cab\",\"marker\":{\"color\":\"#636efa\",\"symbol\":\"circle\"},\"mode\":\"markers\",\"name\":\"Flash Cab\",\"orientation\":\"v\",\"showlegend\":true,\"x\":[545],\"xaxis\":\"x\",\"y\":[22127],\"yaxis\":\"y\",\"type\":\"scatter\"},{\"hovertemplate\":\"Company=Taxi Affiliation Services<br>Number of Taxis=%{x}<br>Number of Trips=%{y}<extra></extra>\",\"legendgroup\":\"Taxi Affiliation Services\",\"marker\":{\"color\":\"#EF553B\",\"symbol\":\"circle\"},\"mode\":\"markers\",\"name\":\"Taxi Affiliation Services\",\"orientation\":\"v\",\"showlegend\":true,\"x\":[530],\"xaxis\":\"x\",\"y\":[21838],\"yaxis\":\"y\",\"type\":\"scatter\"},{\"hovertemplate\":\"Company=Sun Taxi<br>Number of Taxis=%{x}<br>Number of Trips=%{y}<extra></extra>\",\"legendgroup\":\"Sun Taxi\",\"marker\":{\"color\":\"#00cc96\",\"symbol\":\"circle\"},\"mode\":\"markers\",\"name\":\"Sun Taxi\",\"orientation\":\"v\",\"showlegend\":true,\"x\":[303],\"xaxis\":\"x\",\"y\":[10827],\"yaxis\":\"y\",\"type\":\"scatter\"},{\"hovertemplate\":\"Company=City Service<br>Number of Taxis=%{x}<br>Number of Trips=%{y}<extra></extra>\",\"legendgroup\":\"City Service\",\"marker\":{\"color\":\"#ab63fa\",\"symbol\":\"circle\"},\"mode\":\"markers\",\"name\":\"City Service\",\"orientation\":\"v\",\"showlegend\":true,\"x\":[274],\"xaxis\":\"x\",\"y\":[9405],\"yaxis\":\"y\",\"type\":\"scatter\"},{\"hovertemplate\":\"Company=Chicago Independents<br>Number of Taxis=%{x}<br>Number of Trips=%{y}<extra></extra>\",\"legendgroup\":\"Chicago Independents\",\"marker\":{\"color\":\"#FFA15A\",\"symbol\":\"circle\"},\"mode\":\"markers\",\"name\":\"Chicago Independents\",\"orientation\":\"v\",\"showlegend\":true,\"x\":[188],\"xaxis\":\"x\",\"y\":[4911],\"yaxis\":\"y\",\"type\":\"scatter\"},{\"hovertemplate\":\"Company=Taxicab Insurance Agency Llc<br>Number of Taxis=%{x}<br>Number of Trips=%{y}<extra></extra>\",\"legendgroup\":\"Taxicab Insurance Agency Llc\",\"marker\":{\"color\":\"#19d3f3\",\"symbol\":\"circle\"},\"mode\":\"markers\",\"name\":\"Taxicab Insurance Agency Llc\",\"orientation\":\"v\",\"showlegend\":true,\"x\":[214],\"xaxis\":\"x\",\"y\":[4516],\"yaxis\":\"y\",\"type\":\"scatter\"},{\"hovertemplate\":\"Company=Medallion Leasin<br>Number of Taxis=%{x}<br>Number of Trips=%{y}<extra></extra>\",\"legendgroup\":\"Medallion Leasin\",\"marker\":{\"color\":\"#FF6692\",\"symbol\":\"circle\"},\"mode\":\"markers\",\"name\":\"Medallion Leasin\",\"orientation\":\"v\",\"showlegend\":true,\"x\":[136],\"xaxis\":\"x\",\"y\":[4168],\"yaxis\":\"y\",\"type\":\"scatter\"},{\"hovertemplate\":\"Company=Taxicab Insurance Agency, LLC<br>Number of Taxis=%{x}<br>Number of Trips=%{y}<extra></extra>\",\"legendgroup\":\"Taxicab Insurance Agency, LLC\",\"marker\":{\"color\":\"#B6E880\",\"symbol\":\"circle\"},\"mode\":\"markers\",\"name\":\"Taxicab Insurance Agency, LLC\",\"orientation\":\"v\",\"showlegend\":true,\"x\":[181],\"xaxis\":\"x\",\"y\":[4007],\"yaxis\":\"y\",\"type\":\"scatter\"},{\"hovertemplate\":\"Company=Globe Taxi<br>Number of Taxis=%{x}<br>Number of Trips=%{y}<extra></extra>\",\"legendgroup\":\"Globe Taxi\",\"marker\":{\"color\":\"#FF97FF\",\"symbol\":\"circle\"},\"mode\":\"markers\",\"name\":\"Globe Taxi\",\"orientation\":\"v\",\"showlegend\":true,\"x\":[110],\"xaxis\":\"x\",\"y\":[3688],\"yaxis\":\"y\",\"type\":\"scatter\"},{\"hovertemplate\":\"Company=Blue Ribbon Taxi Association<br>Number of Taxis=%{x}<br>Number of Trips=%{y}<extra></extra>\",\"legendgroup\":\"Blue Ribbon Taxi Association\",\"marker\":{\"color\":\"#FECB52\",\"symbol\":\"circle\"},\"mode\":\"markers\",\"name\":\"Blue Ribbon Taxi Association\",\"orientation\":\"v\",\"showlegend\":true,\"x\":[115],\"xaxis\":\"x\",\"y\":[2581],\"yaxis\":\"y\",\"type\":\"scatter\"},{\"hovertemplate\":\"Company=5 Star Taxi<br>Number of Taxis=%{x}<br>Number of Trips=%{y}<extra></extra>\",\"legendgroup\":\"5 Star Taxi\",\"marker\":{\"color\":\"#636efa\",\"symbol\":\"circle\"},\"mode\":\"markers\",\"name\":\"5 Star Taxi\",\"orientation\":\"v\",\"showlegend\":true,\"x\":[217],\"xaxis\":\"x\",\"y\":[2387],\"yaxis\":\"y\",\"type\":\"scatter\"},{\"hovertemplate\":\"Company=Star North Taxi Management Llc<br>Number of Taxis=%{x}<br>Number of Trips=%{y}<extra></extra>\",\"legendgroup\":\"Star North Taxi Management Llc\",\"marker\":{\"color\":\"#EF553B\",\"symbol\":\"circle\"},\"mode\":\"markers\",\"name\":\"Star North Taxi Management Llc\",\"orientation\":\"v\",\"showlegend\":true,\"x\":[98],\"xaxis\":\"x\",\"y\":[2332],\"yaxis\":\"y\",\"type\":\"scatter\"},{\"hovertemplate\":\"Company=Choice Taxi Association<br>Number of Taxis=%{x}<br>Number of Trips=%{y}<extra></extra>\",\"legendgroup\":\"Choice Taxi Association\",\"marker\":{\"color\":\"#00cc96\",\"symbol\":\"circle\"},\"mode\":\"markers\",\"name\":\"Choice Taxi Association\",\"orientation\":\"v\",\"showlegend\":true,\"x\":[62],\"xaxis\":\"x\",\"y\":[1956],\"yaxis\":\"y\",\"type\":\"scatter\"},{\"hovertemplate\":\"Company=Top Cab Affiliation<br>Number of Taxis=%{x}<br>Number of Trips=%{y}<extra></extra>\",\"legendgroup\":\"Top Cab Affiliation\",\"marker\":{\"color\":\"#ab63fa\",\"symbol\":\"circle\"},\"mode\":\"markers\",\"name\":\"Top Cab Affiliation\",\"orientation\":\"v\",\"showlegend\":true,\"x\":[58],\"xaxis\":\"x\",\"y\":[1429],\"yaxis\":\"y\",\"type\":\"scatter\"},{\"hovertemplate\":\"Company=24 Seven Taxi<br>Number of Taxis=%{x}<br>Number of Trips=%{y}<extra></extra>\",\"legendgroup\":\"24 Seven Taxi\",\"marker\":{\"color\":\"#FFA15A\",\"symbol\":\"circle\"},\"mode\":\"markers\",\"name\":\"24 Seven Taxi\",\"orientation\":\"v\",\"showlegend\":true,\"x\":[35],\"xaxis\":\"x\",\"y\":[925],\"yaxis\":\"y\",\"type\":\"scatter\"},{\"hovertemplate\":\"Company=U Taxicab<br>Number of Taxis=%{x}<br>Number of Trips=%{y}<extra></extra>\",\"legendgroup\":\"U Taxicab\",\"marker\":{\"color\":\"#19d3f3\",\"symbol\":\"circle\"},\"mode\":\"markers\",\"name\":\"U Taxicab\",\"orientation\":\"v\",\"showlegend\":true,\"x\":[31],\"xaxis\":\"x\",\"y\":[795],\"yaxis\":\"y\",\"type\":\"scatter\"},{\"hovertemplate\":\"Company=Blue Ribbon Taxi Association Inc.<br>Number of Taxis=%{x}<br>Number of Trips=%{y}<extra></extra>\",\"legendgroup\":\"Blue Ribbon Taxi Association Inc.\",\"marker\":{\"color\":\"#FF6692\",\"symbol\":\"circle\"},\"mode\":\"markers\",\"name\":\"Blue Ribbon Taxi Association Inc.\",\"orientation\":\"v\",\"showlegend\":true,\"x\":[70],\"xaxis\":\"x\",\"y\":[607],\"yaxis\":\"y\",\"type\":\"scatter\"},{\"hovertemplate\":\"Company=Patriot Taxi Dba Peace Taxi Associat<br>Number of Taxis=%{x}<br>Number of Trips=%{y}<extra></extra>\",\"legendgroup\":\"Patriot Taxi Dba Peace Taxi Associat\",\"marker\":{\"color\":\"#B6E880\",\"symbol\":\"circle\"},\"mode\":\"markers\",\"name\":\"Patriot Taxi Dba Peace Taxi Associat\",\"orientation\":\"v\",\"showlegend\":true,\"x\":[11],\"xaxis\":\"x\",\"y\":[363],\"yaxis\":\"y\",\"type\":\"scatter\"},{\"hovertemplate\":\"Company=Chicago Taxicab<br>Number of Taxis=%{x}<br>Number of Trips=%{y}<extra></extra>\",\"legendgroup\":\"Chicago Taxicab\",\"marker\":{\"color\":\"#FF97FF\",\"symbol\":\"circle\"},\"mode\":\"markers\",\"name\":\"Chicago Taxicab\",\"orientation\":\"v\",\"showlegend\":true,\"x\":[12],\"xaxis\":\"x\",\"y\":[285],\"yaxis\":\"y\",\"type\":\"scatter\"},{\"hovertemplate\":\"Company=Koam Taxi Association<br>Number of Taxis=%{x}<br>Number of Trips=%{y}<extra></extra>\",\"legendgroup\":\"Koam Taxi Association\",\"marker\":{\"color\":\"#FECB52\",\"symbol\":\"circle\"},\"mode\":\"markers\",\"name\":\"Koam Taxi Association\",\"orientation\":\"v\",\"showlegend\":true,\"x\":[8],\"xaxis\":\"x\",\"y\":[185],\"yaxis\":\"y\",\"type\":\"scatter\"},{\"hovertemplate\":\"Company=312 Medallion Management Corp<br>Number of Taxis=%{x}<br>Number of Trips=%{y}<extra></extra>\",\"legendgroup\":\"312 Medallion Management Corp\",\"marker\":{\"color\":\"#636efa\",\"symbol\":\"circle\"},\"mode\":\"markers\",\"name\":\"312 Medallion Management Corp\",\"orientation\":\"v\",\"showlegend\":true,\"x\":[9],\"xaxis\":\"x\",\"y\":[131],\"yaxis\":\"y\",\"type\":\"scatter\"},{\"hovertemplate\":\"Company=Setare Inc<br>Number of Taxis=%{x}<br>Number of Trips=%{y}<extra></extra>\",\"legendgroup\":\"Setare Inc\",\"marker\":{\"color\":\"#EF553B\",\"symbol\":\"circle\"},\"mode\":\"markers\",\"name\":\"Setare Inc\",\"orientation\":\"v\",\"showlegend\":true,\"x\":[2],\"xaxis\":\"x\",\"y\":[113],\"yaxis\":\"y\",\"type\":\"scatter\"},{\"hovertemplate\":\"Company=KOAM Taxi Association<br>Number of Taxis=%{x}<br>Number of Trips=%{y}<extra></extra>\",\"legendgroup\":\"KOAM Taxi Association\",\"marker\":{\"color\":\"#00cc96\",\"symbol\":\"circle\"},\"mode\":\"markers\",\"name\":\"KOAM Taxi Association\",\"orientation\":\"v\",\"showlegend\":true,\"x\":[7],\"xaxis\":\"x\",\"y\":[93],\"yaxis\":\"y\",\"type\":\"scatter\"},{\"hovertemplate\":\"Company=Top Cab<br>Number of Taxis=%{x}<br>Number of Trips=%{y}<extra></extra>\",\"legendgroup\":\"Top Cab\",\"marker\":{\"color\":\"#ab63fa\",\"symbol\":\"circle\"},\"mode\":\"markers\",\"name\":\"Top Cab\",\"orientation\":\"v\",\"showlegend\":true,\"x\":[4],\"xaxis\":\"x\",\"y\":[86],\"yaxis\":\"y\",\"type\":\"scatter\"},{\"hovertemplate\":\"Company=Metro Jet Taxi A.<br>Number of Taxis=%{x}<br>Number of Trips=%{y}<extra></extra>\",\"legendgroup\":\"Metro Jet Taxi A.\",\"marker\":{\"color\":\"#FFA15A\",\"symbol\":\"circle\"},\"mode\":\"markers\",\"name\":\"Metro Jet Taxi A.\",\"orientation\":\"v\",\"showlegend\":true,\"x\":[2],\"xaxis\":\"x\",\"y\":[64],\"yaxis\":\"y\",\"type\":\"scatter\"},{\"hovertemplate\":\"Company=Petani Cab Corp<br>Number of Taxis=%{x}<br>Number of Trips=%{y}<extra></extra>\",\"legendgroup\":\"Petani Cab Corp\",\"marker\":{\"color\":\"#19d3f3\",\"symbol\":\"circle\"},\"mode\":\"markers\",\"name\":\"Petani Cab Corp\",\"orientation\":\"v\",\"showlegend\":true,\"x\":[5],\"xaxis\":\"x\",\"y\":[62],\"yaxis\":\"y\",\"type\":\"scatter\"},{\"hovertemplate\":\"Company=3556 - 36214 RC Andrews Cab<br>Number of Taxis=%{x}<br>Number of Trips=%{y}<extra></extra>\",\"legendgroup\":\"3556 - 36214 RC Andrews Cab\",\"marker\":{\"color\":\"#FF6692\",\"symbol\":\"circle\"},\"mode\":\"markers\",\"name\":\"3556 - 36214 RC Andrews Cab\",\"orientation\":\"v\",\"showlegend\":true,\"x\":[1],\"xaxis\":\"x\",\"y\":[34],\"yaxis\":\"y\",\"type\":\"scatter\"},{\"hovertemplate\":\"Company=6574 - Babylon Express Inc.<br>Number of Taxis=%{x}<br>Number of Trips=%{y}<extra></extra>\",\"legendgroup\":\"6574 - Babylon Express Inc.\",\"marker\":{\"color\":\"#B6E880\",\"symbol\":\"circle\"},\"mode\":\"markers\",\"name\":\"6574 - Babylon Express Inc.\",\"orientation\":\"v\",\"showlegend\":true,\"x\":[1],\"xaxis\":\"x\",\"y\":[22],\"yaxis\":\"y\",\"type\":\"scatter\"},{\"hovertemplate\":\"Company=2733 - 74600 Benny Jona<br>Number of Taxis=%{x}<br>Number of Trips=%{y}<extra></extra>\",\"legendgroup\":\"2733 - 74600 Benny Jona\",\"marker\":{\"color\":\"#FF97FF\",\"symbol\":\"circle\"},\"mode\":\"markers\",\"name\":\"2733 - 74600 Benny Jona\",\"orientation\":\"v\",\"showlegend\":true,\"x\":[1],\"xaxis\":\"x\",\"y\":[19],\"yaxis\":\"y\",\"type\":\"scatter\"},{\"hovertemplate\":\"Company=5062 - 34841 Sam Mestas<br>Number of Taxis=%{x}<br>Number of Trips=%{y}<extra></extra>\",\"legendgroup\":\"5062 - 34841 Sam Mestas\",\"marker\":{\"color\":\"#FECB52\",\"symbol\":\"circle\"},\"mode\":\"markers\",\"name\":\"5062 - 34841 Sam Mestas\",\"orientation\":\"v\",\"showlegend\":true,\"x\":[1],\"xaxis\":\"x\",\"y\":[15],\"yaxis\":\"y\",\"type\":\"scatter\"},{\"hovertemplate\":\"Company=Leonard Cab Co<br>Number of Taxis=%{x}<br>Number of Trips=%{y}<extra></extra>\",\"legendgroup\":\"Leonard Cab Co\",\"marker\":{\"color\":\"#636efa\",\"symbol\":\"circle\"},\"mode\":\"markers\",\"name\":\"Leonard Cab Co\",\"orientation\":\"v\",\"showlegend\":true,\"x\":[2],\"xaxis\":\"x\",\"y\":[13],\"yaxis\":\"y\",\"type\":\"scatter\"},{\"hovertemplate\":\"Company=4053 - 40193 Adwar H. Nikola<br>Number of Taxis=%{x}<br>Number of Trips=%{y}<extra></extra>\",\"legendgroup\":\"4053 - 40193 Adwar H. Nikola\",\"marker\":{\"color\":\"#EF553B\",\"symbol\":\"circle\"},\"mode\":\"markers\",\"name\":\"4053 - 40193 Adwar H. Nikola\",\"orientation\":\"v\",\"showlegend\":true,\"x\":[1],\"xaxis\":\"x\",\"y\":[13],\"yaxis\":\"y\",\"type\":\"scatter\"},{\"hovertemplate\":\"Company=3620 - 52292 David K. Cab Corp.<br>Number of Taxis=%{x}<br>Number of Trips=%{y}<extra></extra>\",\"legendgroup\":\"3620 - 52292 David K. Cab Corp.\",\"marker\":{\"color\":\"#00cc96\",\"symbol\":\"circle\"},\"mode\":\"markers\",\"name\":\"3620 - 52292 David K. Cab Corp.\",\"orientation\":\"v\",\"showlegend\":true,\"x\":[1],\"xaxis\":\"x\",\"y\":[3],\"yaxis\":\"y\",\"type\":\"scatter\"},{\"hovertemplate\":\"<b>OLS trendline</b><br>Number of Trips = 37.5002 * Number of Taxis + -645.853<br>R<sup>2</sup>=0.936414<br><br>Number of Taxis=%{x}<br>Number of Trips=%{y} <b>(trend)</b><extra></extra>\",\"legendgroup\":\"Overall Trendline\",\"line\":{\"color\":\"#ab63fa\"},\"mode\":\"lines\",\"name\":\"Overall Trendline\",\"showlegend\":true,\"x\":[1,1,1,1,1,1,2,2,2,4,5,7,8,9,11,12,31,35,58,62,70,98,110,115,136,181,188,214,217,274,303,530,545],\"y\":[-608.3530276507112,-608.3530276507112,-608.3530276507112,-608.3530276507112,-608.3530276507112,-608.3530276507112,-570.8528246799199,-570.8528246799199,-570.8528246799199,-495.8524187383375,-458.3522157675463,-383.35180982596387,-345.85160685517263,-308.3514038843814,-233.35099794279898,-195.85079497200775,516.6530614730253,666.65387335619,1529.1585416843882,1679.159353567553,1979.1609773338823,3029.1666605160367,3479.169096165531,3666.6701110194867,4454.174373406103,6141.683507091708,6404.184927887246,7379.1902051278175,7491.690814040191,9629.20238337529,10716.708269528235,19229.254343897843,19791.75738845971],\"type\":\"scatter\",\"xaxis\":\"x\",\"yaxis\":\"y\"}],                        {\"template\":{\"data\":{\"histogram2dcontour\":[{\"type\":\"histogram2dcontour\",\"colorbar\":{\"outlinewidth\":0,\"ticks\":\"\"},\"colorscale\":[[0.0,\"#0d0887\"],[0.1111111111111111,\"#46039f\"],[0.2222222222222222,\"#7201a8\"],[0.3333333333333333,\"#9c179e\"],[0.4444444444444444,\"#bd3786\"],[0.5555555555555556,\"#d8576b\"],[0.6666666666666666,\"#ed7953\"],[0.7777777777777778,\"#fb9f3a\"],[0.8888888888888888,\"#fdca26\"],[1.0,\"#f0f921\"]]}],\"choropleth\":[{\"type\":\"choropleth\",\"colorbar\":{\"outlinewidth\":0,\"ticks\":\"\"}}],\"histogram2d\":[{\"type\":\"histogram2d\",\"colorbar\":{\"outlinewidth\":0,\"ticks\":\"\"},\"colorscale\":[[0.0,\"#0d0887\"],[0.1111111111111111,\"#46039f\"],[0.2222222222222222,\"#7201a8\"],[0.3333333333333333,\"#9c179e\"],[0.4444444444444444,\"#bd3786\"],[0.5555555555555556,\"#d8576b\"],[0.6666666666666666,\"#ed7953\"],[0.7777777777777778,\"#fb9f3a\"],[0.8888888888888888,\"#fdca26\"],[1.0,\"#f0f921\"]]}],\"heatmap\":[{\"type\":\"heatmap\",\"colorbar\":{\"outlinewidth\":0,\"ticks\":\"\"},\"colorscale\":[[0.0,\"#0d0887\"],[0.1111111111111111,\"#46039f\"],[0.2222222222222222,\"#7201a8\"],[0.3333333333333333,\"#9c179e\"],[0.4444444444444444,\"#bd3786\"],[0.5555555555555556,\"#d8576b\"],[0.6666666666666666,\"#ed7953\"],[0.7777777777777778,\"#fb9f3a\"],[0.8888888888888888,\"#fdca26\"],[1.0,\"#f0f921\"]]}],\"heatmapgl\":[{\"type\":\"heatmapgl\",\"colorbar\":{\"outlinewidth\":0,\"ticks\":\"\"},\"colorscale\":[[0.0,\"#0d0887\"],[0.1111111111111111,\"#46039f\"],[0.2222222222222222,\"#7201a8\"],[0.3333333333333333,\"#9c179e\"],[0.4444444444444444,\"#bd3786\"],[0.5555555555555556,\"#d8576b\"],[0.6666666666666666,\"#ed7953\"],[0.7777777777777778,\"#fb9f3a\"],[0.8888888888888888,\"#fdca26\"],[1.0,\"#f0f921\"]]}],\"contourcarpet\":[{\"type\":\"contourcarpet\",\"colorbar\":{\"outlinewidth\":0,\"ticks\":\"\"}}],\"contour\":[{\"type\":\"contour\",\"colorbar\":{\"outlinewidth\":0,\"ticks\":\"\"},\"colorscale\":[[0.0,\"#0d0887\"],[0.1111111111111111,\"#46039f\"],[0.2222222222222222,\"#7201a8\"],[0.3333333333333333,\"#9c179e\"],[0.4444444444444444,\"#bd3786\"],[0.5555555555555556,\"#d8576b\"],[0.6666666666666666,\"#ed7953\"],[0.7777777777777778,\"#fb9f3a\"],[0.8888888888888888,\"#fdca26\"],[1.0,\"#f0f921\"]]}],\"surface\":[{\"type\":\"surface\",\"colorbar\":{\"outlinewidth\":0,\"ticks\":\"\"},\"colorscale\":[[0.0,\"#0d0887\"],[0.1111111111111111,\"#46039f\"],[0.2222222222222222,\"#7201a8\"],[0.3333333333333333,\"#9c179e\"],[0.4444444444444444,\"#bd3786\"],[0.5555555555555556,\"#d8576b\"],[0.6666666666666666,\"#ed7953\"],[0.7777777777777778,\"#fb9f3a\"],[0.8888888888888888,\"#fdca26\"],[1.0,\"#f0f921\"]]}],\"mesh3d\":[{\"type\":\"mesh3d\",\"colorbar\":{\"outlinewidth\":0,\"ticks\":\"\"}}],\"scatter\":[{\"fillpattern\":{\"fillmode\":\"overlay\",\"size\":10,\"solidity\":0.2},\"type\":\"scatter\"}],\"parcoords\":[{\"type\":\"parcoords\",\"line\":{\"colorbar\":{\"outlinewidth\":0,\"ticks\":\"\"}}}],\"scatterpolargl\":[{\"type\":\"scatterpolargl\",\"marker\":{\"colorbar\":{\"outlinewidth\":0,\"ticks\":\"\"}}}],\"bar\":[{\"error_x\":{\"color\":\"#2a3f5f\"},\"error_y\":{\"color\":\"#2a3f5f\"},\"marker\":{\"line\":{\"color\":\"#E5ECF6\",\"width\":0.5},\"pattern\":{\"fillmode\":\"overlay\",\"size\":10,\"solidity\":0.2}},\"type\":\"bar\"}],\"scattergeo\":[{\"type\":\"scattergeo\",\"marker\":{\"colorbar\":{\"outlinewidth\":0,\"ticks\":\"\"}}}],\"scatterpolar\":[{\"type\":\"scatterpolar\",\"marker\":{\"colorbar\":{\"outlinewidth\":0,\"ticks\":\"\"}}}],\"histogram\":[{\"marker\":{\"pattern\":{\"fillmode\":\"overlay\",\"size\":10,\"solidity\":0.2}},\"type\":\"histogram\"}],\"scattergl\":[{\"type\":\"scattergl\",\"marker\":{\"colorbar\":{\"outlinewidth\":0,\"ticks\":\"\"}}}],\"scatter3d\":[{\"type\":\"scatter3d\",\"line\":{\"colorbar\":{\"outlinewidth\":0,\"ticks\":\"\"}},\"marker\":{\"colorbar\":{\"outlinewidth\":0,\"ticks\":\"\"}}}],\"scattermapbox\":[{\"type\":\"scattermapbox\",\"marker\":{\"colorbar\":{\"outlinewidth\":0,\"ticks\":\"\"}}}],\"scatterternary\":[{\"type\":\"scatterternary\",\"marker\":{\"colorbar\":{\"outlinewidth\":0,\"ticks\":\"\"}}}],\"scattercarpet\":[{\"type\":\"scattercarpet\",\"marker\":{\"colorbar\":{\"outlinewidth\":0,\"ticks\":\"\"}}}],\"carpet\":[{\"aaxis\":{\"endlinecolor\":\"#2a3f5f\",\"gridcolor\":\"white\",\"linecolor\":\"white\",\"minorgridcolor\":\"white\",\"startlinecolor\":\"#2a3f5f\"},\"baxis\":{\"endlinecolor\":\"#2a3f5f\",\"gridcolor\":\"white\",\"linecolor\":\"white\",\"minorgridcolor\":\"white\",\"startlinecolor\":\"#2a3f5f\"},\"type\":\"carpet\"}],\"table\":[{\"cells\":{\"fill\":{\"color\":\"#EBF0F8\"},\"line\":{\"color\":\"white\"}},\"header\":{\"fill\":{\"color\":\"#C8D4E3\"},\"line\":{\"color\":\"white\"}},\"type\":\"table\"}],\"barpolar\":[{\"marker\":{\"line\":{\"color\":\"#E5ECF6\",\"width\":0.5},\"pattern\":{\"fillmode\":\"overlay\",\"size\":10,\"solidity\":0.2}},\"type\":\"barpolar\"}],\"pie\":[{\"automargin\":true,\"type\":\"pie\"}]},\"layout\":{\"autotypenumbers\":\"strict\",\"colorway\":[\"#636efa\",\"#EF553B\",\"#00cc96\",\"#ab63fa\",\"#FFA15A\",\"#19d3f3\",\"#FF6692\",\"#B6E880\",\"#FF97FF\",\"#FECB52\"],\"font\":{\"color\":\"#2a3f5f\"},\"hovermode\":\"closest\",\"hoverlabel\":{\"align\":\"left\"},\"paper_bgcolor\":\"white\",\"plot_bgcolor\":\"#E5ECF6\",\"polar\":{\"bgcolor\":\"#E5ECF6\",\"angularaxis\":{\"gridcolor\":\"white\",\"linecolor\":\"white\",\"ticks\":\"\"},\"radialaxis\":{\"gridcolor\":\"white\",\"linecolor\":\"white\",\"ticks\":\"\"}},\"ternary\":{\"bgcolor\":\"#E5ECF6\",\"aaxis\":{\"gridcolor\":\"white\",\"linecolor\":\"white\",\"ticks\":\"\"},\"baxis\":{\"gridcolor\":\"white\",\"linecolor\":\"white\",\"ticks\":\"\"},\"caxis\":{\"gridcolor\":\"white\",\"linecolor\":\"white\",\"ticks\":\"\"}},\"coloraxis\":{\"colorbar\":{\"outlinewidth\":0,\"ticks\":\"\"}},\"colorscale\":{\"sequential\":[[0.0,\"#0d0887\"],[0.1111111111111111,\"#46039f\"],[0.2222222222222222,\"#7201a8\"],[0.3333333333333333,\"#9c179e\"],[0.4444444444444444,\"#bd3786\"],[0.5555555555555556,\"#d8576b\"],[0.6666666666666666,\"#ed7953\"],[0.7777777777777778,\"#fb9f3a\"],[0.8888888888888888,\"#fdca26\"],[1.0,\"#f0f921\"]],\"sequentialminus\":[[0.0,\"#0d0887\"],[0.1111111111111111,\"#46039f\"],[0.2222222222222222,\"#7201a8\"],[0.3333333333333333,\"#9c179e\"],[0.4444444444444444,\"#bd3786\"],[0.5555555555555556,\"#d8576b\"],[0.6666666666666666,\"#ed7953\"],[0.7777777777777778,\"#fb9f3a\"],[0.8888888888888888,\"#fdca26\"],[1.0,\"#f0f921\"]],\"diverging\":[[0,\"#8e0152\"],[0.1,\"#c51b7d\"],[0.2,\"#de77ae\"],[0.3,\"#f1b6da\"],[0.4,\"#fde0ef\"],[0.5,\"#f7f7f7\"],[0.6,\"#e6f5d0\"],[0.7,\"#b8e186\"],[0.8,\"#7fbc41\"],[0.9,\"#4d9221\"],[1,\"#276419\"]]},\"xaxis\":{\"gridcolor\":\"white\",\"linecolor\":\"white\",\"ticks\":\"\",\"title\":{\"standoff\":15},\"zerolinecolor\":\"white\",\"automargin\":true,\"zerolinewidth\":2},\"yaxis\":{\"gridcolor\":\"white\",\"linecolor\":\"white\",\"ticks\":\"\",\"title\":{\"standoff\":15},\"zerolinecolor\":\"white\",\"automargin\":true,\"zerolinewidth\":2},\"scene\":{\"xaxis\":{\"backgroundcolor\":\"#E5ECF6\",\"gridcolor\":\"white\",\"linecolor\":\"white\",\"showbackground\":true,\"ticks\":\"\",\"zerolinecolor\":\"white\",\"gridwidth\":2},\"yaxis\":{\"backgroundcolor\":\"#E5ECF6\",\"gridcolor\":\"white\",\"linecolor\":\"white\",\"showbackground\":true,\"ticks\":\"\",\"zerolinecolor\":\"white\",\"gridwidth\":2},\"zaxis\":{\"backgroundcolor\":\"#E5ECF6\",\"gridcolor\":\"white\",\"linecolor\":\"white\",\"showbackground\":true,\"ticks\":\"\",\"zerolinecolor\":\"white\",\"gridwidth\":2}},\"shapedefaults\":{\"line\":{\"color\":\"#2a3f5f\"}},\"annotationdefaults\":{\"arrowcolor\":\"#2a3f5f\",\"arrowhead\":0,\"arrowwidth\":1},\"geo\":{\"bgcolor\":\"white\",\"landcolor\":\"#E5ECF6\",\"subunitcolor\":\"white\",\"showland\":true,\"showlakes\":true,\"lakecolor\":\"white\"},\"title\":{\"x\":0.05},\"mapbox\":{\"style\":\"light\"}}},\"xaxis\":{\"anchor\":\"y\",\"domain\":[0.0,1.0],\"title\":{\"text\":\"Number of Taxis\"}},\"yaxis\":{\"anchor\":\"x\",\"domain\":[0.0,1.0],\"title\":{\"text\":\"Number of Trips\"}},\"legend\":{\"title\":{\"text\":\"Company\"},\"tracegroupgap\":0},\"margin\":{\"t\":60},\"height\":700,\"title\":{\"font\":{\"family\":\"Arial\",\"size\":20,\"color\":\"#000000\"},\"text\":\"<b>Number of Taxis vs Number of Trips by Company</b>              <br><i><sup>A visualization of the relationship between how many taxis a company owns vs how many trips they can provide (n = 100k)</sup></i>\",\"x\":0.5,\"y\":0.95},\"annotations\":[{\"bgcolor\":\"white\",\"bordercolor\":\"black\",\"borderpad\":5,\"font\":{\"color\":\"black\"},\"showarrow\":false,\"text\":\"R-squared = 0.936\",\"textangle\":0,\"x\":0.8,\"xanchor\":\"left\",\"xref\":\"paper\",\"y\":0.67,\"yref\":\"paper\"},{\"font\":{\"color\":\"#000000\"},\"showarrow\":false,\"text\":\"<i>Figure 1 - Number of Taxis vs Number of Trips by Company</i>\",\"textangle\":0,\"x\":0,\"xanchor\":\"left\",\"xref\":\"paper\",\"y\":-0.1,\"yref\":\"paper\"}]},                        {\"responsive\": true}                    ).then(function(){\n",
              "                            \n",
              "var gd = document.getElementById('b620fe3e-7da3-4918-90d4-6fe5b7894b60');\n",
              "var x = new MutationObserver(function (mutations, observer) {{\n",
              "        var display = window.getComputedStyle(gd).display;\n",
              "        if (!display || display === 'none') {{\n",
              "            console.log([gd, 'removed!']);\n",
              "            Plotly.purge(gd);\n",
              "            observer.disconnect();\n",
              "        }}\n",
              "}});\n",
              "\n",
              "// Listen for the removal of the full notebook cells\n",
              "var notebookContainer = gd.closest('#notebook-container');\n",
              "if (notebookContainer) {{\n",
              "    x.observe(notebookContainer, {childList: true});\n",
              "}}\n",
              "\n",
              "// Listen for the clearing of the current output cell\n",
              "var outputEl = gd.closest('.output');\n",
              "if (outputEl) {{\n",
              "    x.observe(outputEl, {childList: true});\n",
              "}}\n",
              "\n",
              "                        })                };                            </script>        </div>\n",
              "</body>\n",
              "</html>"
            ]
          },
          "metadata": {}
        },
        {
          "output_type": "execute_result",
          "data": {
            "text/html": [
              "<div>\n",
              "<style scoped>\n",
              "    .dataframe tbody tr th:only-of-type {\n",
              "        vertical-align: middle;\n",
              "    }\n",
              "\n",
              "    .dataframe tbody tr th {\n",
              "        vertical-align: top;\n",
              "    }\n",
              "\n",
              "    .dataframe thead th {\n",
              "        text-align: right;\n",
              "    }\n",
              "</style>\n",
              "<table border=\"1\" class=\"dataframe\">\n",
              "  <thead>\n",
              "    <tr style=\"text-align: right;\">\n",
              "      <th></th>\n",
              "      <th>Company</th>\n",
              "      <th>Number of Taxis</th>\n",
              "      <th>Number of Trips</th>\n",
              "    </tr>\n",
              "  </thead>\n",
              "  <tbody>\n",
              "    <tr>\n",
              "      <th>0</th>\n",
              "      <td>Flash Cab</td>\n",
              "      <td>545</td>\n",
              "      <td>22127</td>\n",
              "    </tr>\n",
              "    <tr>\n",
              "      <th>1</th>\n",
              "      <td>Taxi Affiliation Services</td>\n",
              "      <td>530</td>\n",
              "      <td>21838</td>\n",
              "    </tr>\n",
              "    <tr>\n",
              "      <th>2</th>\n",
              "      <td>Sun Taxi</td>\n",
              "      <td>303</td>\n",
              "      <td>10827</td>\n",
              "    </tr>\n",
              "    <tr>\n",
              "      <th>3</th>\n",
              "      <td>City Service</td>\n",
              "      <td>274</td>\n",
              "      <td>9405</td>\n",
              "    </tr>\n",
              "    <tr>\n",
              "      <th>4</th>\n",
              "      <td>Chicago Independents</td>\n",
              "      <td>188</td>\n",
              "      <td>4911</td>\n",
              "    </tr>\n",
              "    <tr>\n",
              "      <th>5</th>\n",
              "      <td>Taxicab Insurance Agency Llc</td>\n",
              "      <td>214</td>\n",
              "      <td>4516</td>\n",
              "    </tr>\n",
              "    <tr>\n",
              "      <th>6</th>\n",
              "      <td>Medallion Leasin</td>\n",
              "      <td>136</td>\n",
              "      <td>4168</td>\n",
              "    </tr>\n",
              "    <tr>\n",
              "      <th>7</th>\n",
              "      <td>Taxicab Insurance Agency, LLC</td>\n",
              "      <td>181</td>\n",
              "      <td>4007</td>\n",
              "    </tr>\n",
              "    <tr>\n",
              "      <th>8</th>\n",
              "      <td>Globe Taxi</td>\n",
              "      <td>110</td>\n",
              "      <td>3688</td>\n",
              "    </tr>\n",
              "    <tr>\n",
              "      <th>9</th>\n",
              "      <td>Blue Ribbon Taxi Association</td>\n",
              "      <td>115</td>\n",
              "      <td>2581</td>\n",
              "    </tr>\n",
              "    <tr>\n",
              "      <th>10</th>\n",
              "      <td>5 Star Taxi</td>\n",
              "      <td>217</td>\n",
              "      <td>2387</td>\n",
              "    </tr>\n",
              "    <tr>\n",
              "      <th>11</th>\n",
              "      <td>Star North Taxi Management Llc</td>\n",
              "      <td>98</td>\n",
              "      <td>2332</td>\n",
              "    </tr>\n",
              "    <tr>\n",
              "      <th>12</th>\n",
              "      <td>Choice Taxi Association</td>\n",
              "      <td>62</td>\n",
              "      <td>1956</td>\n",
              "    </tr>\n",
              "    <tr>\n",
              "      <th>13</th>\n",
              "      <td>Top Cab Affiliation</td>\n",
              "      <td>58</td>\n",
              "      <td>1429</td>\n",
              "    </tr>\n",
              "    <tr>\n",
              "      <th>14</th>\n",
              "      <td>24 Seven Taxi</td>\n",
              "      <td>35</td>\n",
              "      <td>925</td>\n",
              "    </tr>\n",
              "    <tr>\n",
              "      <th>15</th>\n",
              "      <td>U Taxicab</td>\n",
              "      <td>31</td>\n",
              "      <td>795</td>\n",
              "    </tr>\n",
              "    <tr>\n",
              "      <th>16</th>\n",
              "      <td>Blue Ribbon Taxi Association Inc.</td>\n",
              "      <td>70</td>\n",
              "      <td>607</td>\n",
              "    </tr>\n",
              "    <tr>\n",
              "      <th>17</th>\n",
              "      <td>Patriot Taxi Dba Peace Taxi Associat</td>\n",
              "      <td>11</td>\n",
              "      <td>363</td>\n",
              "    </tr>\n",
              "    <tr>\n",
              "      <th>18</th>\n",
              "      <td>Chicago Taxicab</td>\n",
              "      <td>12</td>\n",
              "      <td>285</td>\n",
              "    </tr>\n",
              "    <tr>\n",
              "      <th>19</th>\n",
              "      <td>Koam Taxi Association</td>\n",
              "      <td>8</td>\n",
              "      <td>185</td>\n",
              "    </tr>\n",
              "    <tr>\n",
              "      <th>20</th>\n",
              "      <td>312 Medallion Management Corp</td>\n",
              "      <td>9</td>\n",
              "      <td>131</td>\n",
              "    </tr>\n",
              "    <tr>\n",
              "      <th>21</th>\n",
              "      <td>Setare Inc</td>\n",
              "      <td>2</td>\n",
              "      <td>113</td>\n",
              "    </tr>\n",
              "    <tr>\n",
              "      <th>22</th>\n",
              "      <td>KOAM Taxi Association</td>\n",
              "      <td>7</td>\n",
              "      <td>93</td>\n",
              "    </tr>\n",
              "    <tr>\n",
              "      <th>23</th>\n",
              "      <td>Top Cab</td>\n",
              "      <td>4</td>\n",
              "      <td>86</td>\n",
              "    </tr>\n",
              "    <tr>\n",
              "      <th>24</th>\n",
              "      <td>Metro Jet Taxi A.</td>\n",
              "      <td>2</td>\n",
              "      <td>64</td>\n",
              "    </tr>\n",
              "    <tr>\n",
              "      <th>25</th>\n",
              "      <td>Petani Cab Corp</td>\n",
              "      <td>5</td>\n",
              "      <td>62</td>\n",
              "    </tr>\n",
              "    <tr>\n",
              "      <th>26</th>\n",
              "      <td>3556 - 36214 RC Andrews Cab</td>\n",
              "      <td>1</td>\n",
              "      <td>34</td>\n",
              "    </tr>\n",
              "    <tr>\n",
              "      <th>27</th>\n",
              "      <td>6574 - Babylon Express Inc.</td>\n",
              "      <td>1</td>\n",
              "      <td>22</td>\n",
              "    </tr>\n",
              "    <tr>\n",
              "      <th>28</th>\n",
              "      <td>2733 - 74600 Benny Jona</td>\n",
              "      <td>1</td>\n",
              "      <td>19</td>\n",
              "    </tr>\n",
              "    <tr>\n",
              "      <th>29</th>\n",
              "      <td>5062 - 34841 Sam Mestas</td>\n",
              "      <td>1</td>\n",
              "      <td>15</td>\n",
              "    </tr>\n",
              "    <tr>\n",
              "      <th>30</th>\n",
              "      <td>Leonard Cab Co</td>\n",
              "      <td>2</td>\n",
              "      <td>13</td>\n",
              "    </tr>\n",
              "    <tr>\n",
              "      <th>31</th>\n",
              "      <td>4053 - 40193 Adwar H. Nikola</td>\n",
              "      <td>1</td>\n",
              "      <td>13</td>\n",
              "    </tr>\n",
              "    <tr>\n",
              "      <th>32</th>\n",
              "      <td>3620 - 52292 David K. Cab Corp.</td>\n",
              "      <td>1</td>\n",
              "      <td>3</td>\n",
              "    </tr>\n",
              "  </tbody>\n",
              "</table>\n",
              "</div>"
            ],
            "application/vnd.google.colaboratory.module+javascript": "\n      import \"https://ssl.gstatic.com/colaboratory/data_table/99dac6621f6ae8c4/data_table.js\";\n\n      window.createDataTable({\n        data: [[\"Flash Cab\",\n{\n            'v': 545,\n            'f': \"545\",\n        },\n{\n            'v': 22127,\n            'f': \"22127\",\n        }],\n [\"Taxi Affiliation Services\",\n{\n            'v': 530,\n            'f': \"530\",\n        },\n{\n            'v': 21838,\n            'f': \"21838\",\n        }],\n [\"Sun Taxi\",\n{\n            'v': 303,\n            'f': \"303\",\n        },\n{\n            'v': 10827,\n            'f': \"10827\",\n        }],\n [\"City Service\",\n{\n            'v': 274,\n            'f': \"274\",\n        },\n{\n            'v': 9405,\n            'f': \"9405\",\n        }],\n [\"Chicago Independents\",\n{\n            'v': 188,\n            'f': \"188\",\n        },\n{\n            'v': 4911,\n            'f': \"4911\",\n        }],\n [\"Taxicab Insurance Agency Llc\",\n{\n            'v': 214,\n            'f': \"214\",\n        },\n{\n            'v': 4516,\n            'f': \"4516\",\n        }],\n [\"Medallion Leasin\",\n{\n            'v': 136,\n            'f': \"136\",\n        },\n{\n            'v': 4168,\n            'f': \"4168\",\n        }],\n [\"Taxicab Insurance Agency, LLC\",\n{\n            'v': 181,\n            'f': \"181\",\n        },\n{\n            'v': 4007,\n            'f': \"4007\",\n        }],\n [\"Globe Taxi\",\n{\n            'v': 110,\n            'f': \"110\",\n        },\n{\n            'v': 3688,\n            'f': \"3688\",\n        }],\n [\"Blue Ribbon Taxi Association\",\n{\n            'v': 115,\n            'f': \"115\",\n        },\n{\n            'v': 2581,\n            'f': \"2581\",\n        }],\n [\"5 Star Taxi\",\n{\n            'v': 217,\n            'f': \"217\",\n        },\n{\n            'v': 2387,\n            'f': \"2387\",\n        }],\n [\"Star North Taxi Management Llc\",\n{\n            'v': 98,\n            'f': \"98\",\n        },\n{\n            'v': 2332,\n            'f': \"2332\",\n        }],\n [\"Choice Taxi Association\",\n{\n            'v': 62,\n            'f': \"62\",\n        },\n{\n            'v': 1956,\n            'f': \"1956\",\n        }],\n [\"Top Cab Affiliation\",\n{\n            'v': 58,\n            'f': \"58\",\n        },\n{\n            'v': 1429,\n            'f': \"1429\",\n        }],\n [\"24 Seven Taxi\",\n{\n            'v': 35,\n            'f': \"35\",\n        },\n{\n            'v': 925,\n            'f': \"925\",\n        }],\n [\"U Taxicab\",\n{\n            'v': 31,\n            'f': \"31\",\n        },\n{\n            'v': 795,\n            'f': \"795\",\n        }],\n [\"Blue Ribbon Taxi Association Inc.\",\n{\n            'v': 70,\n            'f': \"70\",\n        },\n{\n            'v': 607,\n            'f': \"607\",\n        }],\n [\"Patriot Taxi Dba Peace Taxi Associat\",\n{\n            'v': 11,\n            'f': \"11\",\n        },\n{\n            'v': 363,\n            'f': \"363\",\n        }],\n [\"Chicago Taxicab\",\n{\n            'v': 12,\n            'f': \"12\",\n        },\n{\n            'v': 285,\n            'f': \"285\",\n        }],\n [\"Koam Taxi Association\",\n{\n            'v': 8,\n            'f': \"8\",\n        },\n{\n            'v': 185,\n            'f': \"185\",\n        }],\n [\"312 Medallion Management Corp\",\n{\n            'v': 9,\n            'f': \"9\",\n        },\n{\n            'v': 131,\n            'f': \"131\",\n        }],\n [\"Setare Inc\",\n{\n            'v': 2,\n            'f': \"2\",\n        },\n{\n            'v': 113,\n            'f': \"113\",\n        }],\n [\"KOAM Taxi Association\",\n{\n            'v': 7,\n            'f': \"7\",\n        },\n{\n            'v': 93,\n            'f': \"93\",\n        }],\n [\"Top Cab\",\n{\n            'v': 4,\n            'f': \"4\",\n        },\n{\n            'v': 86,\n            'f': \"86\",\n        }],\n [\"Metro Jet Taxi A.\",\n{\n            'v': 2,\n            'f': \"2\",\n        },\n{\n            'v': 64,\n            'f': \"64\",\n        }],\n [\"Petani Cab Corp\",\n{\n            'v': 5,\n            'f': \"5\",\n        },\n{\n            'v': 62,\n            'f': \"62\",\n        }],\n [\"3556 - 36214 RC Andrews Cab\",\n{\n            'v': 1,\n            'f': \"1\",\n        },\n{\n            'v': 34,\n            'f': \"34\",\n        }],\n [\"6574 - Babylon Express Inc.\",\n{\n            'v': 1,\n            'f': \"1\",\n        },\n{\n            'v': 22,\n            'f': \"22\",\n        }],\n [\"2733 - 74600 Benny Jona\",\n{\n            'v': 1,\n            'f': \"1\",\n        },\n{\n            'v': 19,\n            'f': \"19\",\n        }],\n [\"5062 - 34841 Sam Mestas\",\n{\n            'v': 1,\n            'f': \"1\",\n        },\n{\n            'v': 15,\n            'f': \"15\",\n        }],\n [\"Leonard Cab Co\",\n{\n            'v': 2,\n            'f': \"2\",\n        },\n{\n            'v': 13,\n            'f': \"13\",\n        }],\n [\"4053 - 40193 Adwar H. Nikola\",\n{\n            'v': 1,\n            'f': \"1\",\n        },\n{\n            'v': 13,\n            'f': \"13\",\n        }],\n [\"3620 - 52292 David K. Cab Corp.\",\n{\n            'v': 1,\n            'f': \"1\",\n        },\n{\n            'v': 3,\n            'f': \"3\",\n        }]],\n        columns: [[\"string\", \"Company\"], [\"number\", \"Number of Taxis\"], [\"number\", \"Number of Trips\"]],\n        columnOptions: [],\n        rowsPerPage: 10,\n        helpUrl: \"https://colab.research.google.com/notebooks/data_table.ipynb\",\n        suppressOutputScrolling: true,\n        minimumWidth: undefined,\n      });\n    ",
            "text/plain": [
              "<google.colab.data_table.DataTable object>"
            ]
          },
          "metadata": {},
          "execution_count": 12
        }
      ],
      "source": [
        "#@title Number of Taxis vs Number of Trips by Company Code\n",
        "#Create a random sample of 100k datapoints to use for visualisations\n",
        "df_random = df_clean.sample(n=100000)\n",
        "#Create a company dataframe with a distinct count of taxi_id and unique_key as aggregations.\n",
        "#Rename columns for visualisation\n",
        "df_company = df_random.groupby(['company'])[['taxi_id','unique_key']].nunique().reset_index().rename(columns={'company':'Company','unique_key':'Number of Trips','taxi_id':'Number of Taxis'})\n",
        "#Resort the dataframe by Number of Trips\n",
        "df_company = df_company.sort_values(by=['Number of Trips'],ascending=False).reset_index(drop=True)\n",
        "#Create scatter plot with trendline\n",
        "fig = px.scatter(df_company,x=\"Number of Taxis\",y=\"Number of Trips\", trendline=\"ols\",trendline_scope=\"overall\", color=\"Company\",height=700)\n",
        "fig.update_layout(title=dict(\n",
        "        text='<b>Number of Taxis vs Number of Trips by Company</b>\\\n",
        "              <br><i><sup>A visualization of the relationship between how many taxis a company owns vs how many trips they can provide (n = 100k)</sup></i>',\n",
        "        x=0.5,\n",
        "        y=0.95,\n",
        "        font=dict(\n",
        "            family=\"Arial\",\n",
        "            size=20,\n",
        "            color='#000000'\n",
        "        )))\n",
        "# Add explanation of line:\n",
        "model = px.get_trendline_results(fig)\n",
        "rsq = model.iloc[0][\"px_fit_results\"].rsquared\n",
        "fig.add_annotation(x=.8,\n",
        "                    y=0.67,\n",
        "                    text=\"R-squared\" + ' = ' + str(round(rsq, 3)),\n",
        "                    textangle=0,\n",
        "                    xanchor='left',\n",
        "                    xref=\"paper\",\n",
        "                    yref=\"paper\",\n",
        "                    font_color='black',\n",
        "                    bordercolor='black',\n",
        "                    borderpad=5,\n",
        "                    showarrow=False,\n",
        "                    bgcolor='white',\n",
        "                    )\n",
        "# Add figure annotation:\n",
        "fig.add_annotation(x=0,\n",
        "                    y=-0.1,\n",
        "                    showarrow=False,\n",
        "                    text=\"<i>Figure 1 - Number of Taxis vs Number of Trips by Company</i>\",\n",
        "                    textangle=0,\n",
        "                    xanchor='left',\n",
        "                    xref=\"paper\",\n",
        "                    yref=\"paper\",\n",
        "                    font_color='#000000')\n",
        "\n",
        "\n",
        "\n",
        "#Display scatter plot\n",
        "fig.show()\n",
        "#Variables for the analysis paragraph\n",
        "top1_company = df_company['Company'].iloc[0]\n",
        "top1_taxis = df_company['Number of Taxis'].iloc[0]\n",
        "top1_trips = df_company['Number of Trips'].iloc[0]\n",
        "top2_company = df_company['Company'].iloc[1]\n",
        "top2_taxis = df_company['Number of Taxis'].iloc[1]\n",
        "top2_trips = df_company['Number of Trips'].iloc[1]\n",
        "r2 = px.get_trendline_results(fig).px_fit_results.iloc[0].rsquared\n",
        "r2 = round(r2,3)\n",
        "\n",
        "#Display top 10 companies by number of trips\n",
        "data_table.DataTable(df_company, include_index=False, num_rows_per_page=10)"
      ]
    },
    {
      "cell_type": "code",
      "source": [
        "#@title Analysis\n",
        "display(Markdown(f\"###Figure 1 shows a comparison of Number of Taxis vs Number of Trips by Company.\"))\n",
        "display(Markdown(f\"###There is a strong positive correlation **(R²={r2})** between number of taxis and number of trips indicating the more taxis a company has the more trips that they can provide. This makes sense intuitively, but it's good to be backed up by the data.\"))\n",
        "display(Markdown(f\"###Noticeable highlights in this sample are **{top1_company}** and **{top2_company}** in the top right at **{top1_taxis}** taxis with **{top1_trips:,}** trips **({top1_company})** and **{top2_taxis}** taxis with **{top2_trips:,}** trips **({top2_company})**.\"))\n",
        "display(Markdown(f\"###As expected the more taxis a company owns the more trips they can provide, however there is a small group of companies around the 200 taxis mark underneath the trendline with fewer number of trips than expected. This suggests there is more to the data than simply more taxis = more trips.\"))"
      ],
      "metadata": {
        "colab": {
          "base_uri": "https://localhost:8080/",
          "height": 249
        },
        "cellView": "form",
        "id": "7-C4RC3Z8I1X",
        "outputId": "5996e960-96c2-4527-8503-bdecee6a0e0c"
      },
      "id": "7-C4RC3Z8I1X",
      "execution_count": null,
      "outputs": [
        {
          "output_type": "display_data",
          "data": {
            "text/plain": [
              "<IPython.core.display.Markdown object>"
            ],
            "text/markdown": "###Figure 1 shows a comparison of Number of Taxis vs Number of Trips by Company."
          },
          "metadata": {}
        },
        {
          "output_type": "display_data",
          "data": {
            "text/plain": [
              "<IPython.core.display.Markdown object>"
            ],
            "text/markdown": "###There is a strong positive correlation **(R²=0.936)** between number of taxis and number of trips indicating the more taxis a company has the more trips that they can provide. This makes sense intuitively, but it's good to be backed up by the data."
          },
          "metadata": {}
        },
        {
          "output_type": "display_data",
          "data": {
            "text/plain": [
              "<IPython.core.display.Markdown object>"
            ],
            "text/markdown": "###Noticeable highlights in this sample are **Flash Cab** and **Taxi Affiliation Services** in the top right at **545** taxis with **22,127** trips **(Flash Cab)** and **530** taxis with **21,838** trips **(Taxi Affiliation Services)**."
          },
          "metadata": {}
        },
        {
          "output_type": "display_data",
          "data": {
            "text/plain": [
              "<IPython.core.display.Markdown object>"
            ],
            "text/markdown": "###As expected the more taxis a company owns the more trips they can provide, however there is a small group of companies around the 200 taxis mark underneath the trendline with fewer number of trips than expected. This suggests there is more to the data than simply more taxis = more trips."
          },
          "metadata": {}
        }
      ]
    },
    {
      "cell_type": "markdown",
      "id": "3c3fafaa-037e-4829-b732-8d477155cf01",
      "metadata": {
        "id": "3c3fafaa-037e-4829-b732-8d477155cf01"
      },
      "source": [
        "### **<h3>Pickup Community Area</h3>**"
      ]
    },
    {
      "cell_type": "markdown",
      "source": [
        "Is there a Community Area that the majority of Trips take place in? <br><br>\n",
        "Using the Pickup Community Area column we can try to understand if specific regions of Chicago are more popular with taxi usage than others.\n",
        "To do this I will group the random dataset by the pickup_community_area column and aggregate the unique_key column to calculate the number of trips by area. As there are 77 community areas it would be worth showing the cumulative percentage of the community areas sorted by number of trips as I suspect a lot of the community areas will have very few trips recorded against them."
      ],
      "metadata": {
        "id": "-Swhhm_6hEV1"
      },
      "id": "-Swhhm_6hEV1"
    },
    {
      "cell_type": "code",
      "execution_count": null,
      "id": "116fd65e-0e09-4cbf-a3b5-e10d31c53c03",
      "metadata": {
        "colab": {
          "base_uri": "https://localhost:8080/",
          "height": 840
        },
        "id": "116fd65e-0e09-4cbf-a3b5-e10d31c53c03",
        "outputId": "de8ef93e-a414-4b94-feee-020fac0f2686",
        "cellView": "form"
      },
      "outputs": [
        {
          "output_type": "display_data",
          "data": {
            "text/html": [
              "<html>\n",
              "<head><meta charset=\"utf-8\" /></head>\n",
              "<body>\n",
              "    <div>            <script src=\"https://cdnjs.cloudflare.com/ajax/libs/mathjax/2.7.5/MathJax.js?config=TeX-AMS-MML_SVG\"></script><script type=\"text/javascript\">if (window.MathJax && window.MathJax.Hub && window.MathJax.Hub.Config) {window.MathJax.Hub.Config({SVG: {font: \"STIX-Web\"}});}</script>                <script type=\"text/javascript\">window.PlotlyConfig = {MathJaxConfig: 'local'};</script>\n",
              "        <script src=\"https://cdn.plot.ly/plotly-2.18.2.min.js\"></script>                <div id=\"bbc5a48f-a5ca-4022-8532-add925c4f114\" class=\"plotly-graph-div\" style=\"height:525px; width:100%;\"></div>            <script type=\"text/javascript\">                                    window.PLOTLYENV=window.PLOTLYENV || {};                                    if (document.getElementById(\"bbc5a48f-a5ca-4022-8532-add925c4f114\")) {                    Plotly.newPlot(                        \"bbc5a48f-a5ca-4022-8532-add925c4f114\",                        [{\"marker\":{\"color\":\"rgb(34,163,192)\"},\"name\":\"No. Trips\",\"x\":[\"8\",\"32\",\"76\",\"28\",\"6\",\"33\",\"56\",\"7\",\"3\",\"24\",\"77\",\"41\",\"2\",\"43\",\"35\",\"38\",\"22\",\"1\",\"16\",\"39\",\"44\",\"4\",\"69\",\"5\",\"34\",\"42\",\"68\",\"49\",\"59\",\"36\",\"14\",\"10\",\"21\",\"25\",\"46\",\"11\",\"31\",\"37\",\"15\",\"73\",\"51\",\"53\",\"71\",\"75\",\"13\",\"50\",\"12\",\"40\",\"48\",\"61\",\"29\",\"60\",\"67\",\"70\",\"27\",\"23\",\"45\",\"19\",\"66\",\"55\",\"54\",\"72\",\"52\",\"30\",\"58\",\"26\",\"64\",\"65\",\"62\",\"17\",\"47\",\"57\",\"63\",\"20\",\"9\",\"74\",\"18\"],\"y\":[26484,18444,13768,9523,4169,3981,2895,2694,1840,1346,1346,789,774,636,617,601,552,526,496,482,450,421,415,326,316,282,270,268,247,239,238,232,213,212,201,194,186,185,185,185,169,164,163,150,149,128,125,123,107,105,100,92,92,89,87,87,85,77,76,63,55,51,50,50,48,38,36,32,29,29,26,22,19,19,13,12,12],\"type\":\"bar\"},{\"name\":\"Cumulative Percentage (%)\",\"x\":[\"8\",\"32\",\"76\",\"28\",\"6\",\"33\",\"56\",\"7\",\"3\",\"24\",\"77\",\"41\",\"2\",\"43\",\"35\",\"38\",\"22\",\"1\",\"16\",\"39\",\"44\",\"4\",\"69\",\"5\",\"34\",\"42\",\"68\",\"49\",\"59\",\"36\",\"14\",\"10\",\"21\",\"25\",\"46\",\"11\",\"31\",\"37\",\"15\",\"73\",\"51\",\"53\",\"71\",\"75\",\"13\",\"50\",\"12\",\"40\",\"48\",\"61\",\"29\",\"60\",\"67\",\"70\",\"27\",\"23\",\"45\",\"19\",\"66\",\"55\",\"54\",\"72\",\"52\",\"30\",\"58\",\"26\",\"64\",\"65\",\"62\",\"17\",\"47\",\"57\",\"63\",\"20\",\"9\",\"74\",\"18\"],\"y\":[26.48,44.93,58.7,68.22,72.39,76.37,79.26,81.96,83.8,85.14,86.49,87.28,88.05,88.69,89.31,89.91,90.46,90.98,91.48,91.96,92.41,92.83,93.25,93.58,93.89,94.17,94.44,94.71,94.96,95.2,95.44,95.67,95.88,96.09,96.29,96.49,96.67,96.86,97.04,97.23,97.4,97.56,97.72,97.87,98.02,98.15,98.28,98.4,98.51,98.61,98.71,98.8,98.9,98.98,99.07,99.16,99.24,99.32,99.4,99.46,99.51,99.56,99.62,99.66,99.71,99.75,99.79,99.82,99.85,99.88,99.9,99.92,99.94,99.96,99.98,99.99,100.0],\"yaxis\":\"y2\",\"type\":\"scatter\",\"xaxis\":\"x\"}],                        {\"template\":{\"data\":{\"histogram2dcontour\":[{\"type\":\"histogram2dcontour\",\"colorbar\":{\"outlinewidth\":0,\"ticks\":\"\"},\"colorscale\":[[0.0,\"#0d0887\"],[0.1111111111111111,\"#46039f\"],[0.2222222222222222,\"#7201a8\"],[0.3333333333333333,\"#9c179e\"],[0.4444444444444444,\"#bd3786\"],[0.5555555555555556,\"#d8576b\"],[0.6666666666666666,\"#ed7953\"],[0.7777777777777778,\"#fb9f3a\"],[0.8888888888888888,\"#fdca26\"],[1.0,\"#f0f921\"]]}],\"choropleth\":[{\"type\":\"choropleth\",\"colorbar\":{\"outlinewidth\":0,\"ticks\":\"\"}}],\"histogram2d\":[{\"type\":\"histogram2d\",\"colorbar\":{\"outlinewidth\":0,\"ticks\":\"\"},\"colorscale\":[[0.0,\"#0d0887\"],[0.1111111111111111,\"#46039f\"],[0.2222222222222222,\"#7201a8\"],[0.3333333333333333,\"#9c179e\"],[0.4444444444444444,\"#bd3786\"],[0.5555555555555556,\"#d8576b\"],[0.6666666666666666,\"#ed7953\"],[0.7777777777777778,\"#fb9f3a\"],[0.8888888888888888,\"#fdca26\"],[1.0,\"#f0f921\"]]}],\"heatmap\":[{\"type\":\"heatmap\",\"colorbar\":{\"outlinewidth\":0,\"ticks\":\"\"},\"colorscale\":[[0.0,\"#0d0887\"],[0.1111111111111111,\"#46039f\"],[0.2222222222222222,\"#7201a8\"],[0.3333333333333333,\"#9c179e\"],[0.4444444444444444,\"#bd3786\"],[0.5555555555555556,\"#d8576b\"],[0.6666666666666666,\"#ed7953\"],[0.7777777777777778,\"#fb9f3a\"],[0.8888888888888888,\"#fdca26\"],[1.0,\"#f0f921\"]]}],\"heatmapgl\":[{\"type\":\"heatmapgl\",\"colorbar\":{\"outlinewidth\":0,\"ticks\":\"\"},\"colorscale\":[[0.0,\"#0d0887\"],[0.1111111111111111,\"#46039f\"],[0.2222222222222222,\"#7201a8\"],[0.3333333333333333,\"#9c179e\"],[0.4444444444444444,\"#bd3786\"],[0.5555555555555556,\"#d8576b\"],[0.6666666666666666,\"#ed7953\"],[0.7777777777777778,\"#fb9f3a\"],[0.8888888888888888,\"#fdca26\"],[1.0,\"#f0f921\"]]}],\"contourcarpet\":[{\"type\":\"contourcarpet\",\"colorbar\":{\"outlinewidth\":0,\"ticks\":\"\"}}],\"contour\":[{\"type\":\"contour\",\"colorbar\":{\"outlinewidth\":0,\"ticks\":\"\"},\"colorscale\":[[0.0,\"#0d0887\"],[0.1111111111111111,\"#46039f\"],[0.2222222222222222,\"#7201a8\"],[0.3333333333333333,\"#9c179e\"],[0.4444444444444444,\"#bd3786\"],[0.5555555555555556,\"#d8576b\"],[0.6666666666666666,\"#ed7953\"],[0.7777777777777778,\"#fb9f3a\"],[0.8888888888888888,\"#fdca26\"],[1.0,\"#f0f921\"]]}],\"surface\":[{\"type\":\"surface\",\"colorbar\":{\"outlinewidth\":0,\"ticks\":\"\"},\"colorscale\":[[0.0,\"#0d0887\"],[0.1111111111111111,\"#46039f\"],[0.2222222222222222,\"#7201a8\"],[0.3333333333333333,\"#9c179e\"],[0.4444444444444444,\"#bd3786\"],[0.5555555555555556,\"#d8576b\"],[0.6666666666666666,\"#ed7953\"],[0.7777777777777778,\"#fb9f3a\"],[0.8888888888888888,\"#fdca26\"],[1.0,\"#f0f921\"]]}],\"mesh3d\":[{\"type\":\"mesh3d\",\"colorbar\":{\"outlinewidth\":0,\"ticks\":\"\"}}],\"scatter\":[{\"fillpattern\":{\"fillmode\":\"overlay\",\"size\":10,\"solidity\":0.2},\"type\":\"scatter\"}],\"parcoords\":[{\"type\":\"parcoords\",\"line\":{\"colorbar\":{\"outlinewidth\":0,\"ticks\":\"\"}}}],\"scatterpolargl\":[{\"type\":\"scatterpolargl\",\"marker\":{\"colorbar\":{\"outlinewidth\":0,\"ticks\":\"\"}}}],\"bar\":[{\"error_x\":{\"color\":\"#2a3f5f\"},\"error_y\":{\"color\":\"#2a3f5f\"},\"marker\":{\"line\":{\"color\":\"#E5ECF6\",\"width\":0.5},\"pattern\":{\"fillmode\":\"overlay\",\"size\":10,\"solidity\":0.2}},\"type\":\"bar\"}],\"scattergeo\":[{\"type\":\"scattergeo\",\"marker\":{\"colorbar\":{\"outlinewidth\":0,\"ticks\":\"\"}}}],\"scatterpolar\":[{\"type\":\"scatterpolar\",\"marker\":{\"colorbar\":{\"outlinewidth\":0,\"ticks\":\"\"}}}],\"histogram\":[{\"marker\":{\"pattern\":{\"fillmode\":\"overlay\",\"size\":10,\"solidity\":0.2}},\"type\":\"histogram\"}],\"scattergl\":[{\"type\":\"scattergl\",\"marker\":{\"colorbar\":{\"outlinewidth\":0,\"ticks\":\"\"}}}],\"scatter3d\":[{\"type\":\"scatter3d\",\"line\":{\"colorbar\":{\"outlinewidth\":0,\"ticks\":\"\"}},\"marker\":{\"colorbar\":{\"outlinewidth\":0,\"ticks\":\"\"}}}],\"scattermapbox\":[{\"type\":\"scattermapbox\",\"marker\":{\"colorbar\":{\"outlinewidth\":0,\"ticks\":\"\"}}}],\"scatterternary\":[{\"type\":\"scatterternary\",\"marker\":{\"colorbar\":{\"outlinewidth\":0,\"ticks\":\"\"}}}],\"scattercarpet\":[{\"type\":\"scattercarpet\",\"marker\":{\"colorbar\":{\"outlinewidth\":0,\"ticks\":\"\"}}}],\"carpet\":[{\"aaxis\":{\"endlinecolor\":\"#2a3f5f\",\"gridcolor\":\"white\",\"linecolor\":\"white\",\"minorgridcolor\":\"white\",\"startlinecolor\":\"#2a3f5f\"},\"baxis\":{\"endlinecolor\":\"#2a3f5f\",\"gridcolor\":\"white\",\"linecolor\":\"white\",\"minorgridcolor\":\"white\",\"startlinecolor\":\"#2a3f5f\"},\"type\":\"carpet\"}],\"table\":[{\"cells\":{\"fill\":{\"color\":\"#EBF0F8\"},\"line\":{\"color\":\"white\"}},\"header\":{\"fill\":{\"color\":\"#C8D4E3\"},\"line\":{\"color\":\"white\"}},\"type\":\"table\"}],\"barpolar\":[{\"marker\":{\"line\":{\"color\":\"#E5ECF6\",\"width\":0.5},\"pattern\":{\"fillmode\":\"overlay\",\"size\":10,\"solidity\":0.2}},\"type\":\"barpolar\"}],\"pie\":[{\"automargin\":true,\"type\":\"pie\"}]},\"layout\":{\"autotypenumbers\":\"strict\",\"colorway\":[\"#636efa\",\"#EF553B\",\"#00cc96\",\"#ab63fa\",\"#FFA15A\",\"#19d3f3\",\"#FF6692\",\"#B6E880\",\"#FF97FF\",\"#FECB52\"],\"font\":{\"color\":\"#2a3f5f\"},\"hovermode\":\"closest\",\"hoverlabel\":{\"align\":\"left\"},\"paper_bgcolor\":\"white\",\"plot_bgcolor\":\"#E5ECF6\",\"polar\":{\"bgcolor\":\"#E5ECF6\",\"angularaxis\":{\"gridcolor\":\"white\",\"linecolor\":\"white\",\"ticks\":\"\"},\"radialaxis\":{\"gridcolor\":\"white\",\"linecolor\":\"white\",\"ticks\":\"\"}},\"ternary\":{\"bgcolor\":\"#E5ECF6\",\"aaxis\":{\"gridcolor\":\"white\",\"linecolor\":\"white\",\"ticks\":\"\"},\"baxis\":{\"gridcolor\":\"white\",\"linecolor\":\"white\",\"ticks\":\"\"},\"caxis\":{\"gridcolor\":\"white\",\"linecolor\":\"white\",\"ticks\":\"\"}},\"coloraxis\":{\"colorbar\":{\"outlinewidth\":0,\"ticks\":\"\"}},\"colorscale\":{\"sequential\":[[0.0,\"#0d0887\"],[0.1111111111111111,\"#46039f\"],[0.2222222222222222,\"#7201a8\"],[0.3333333333333333,\"#9c179e\"],[0.4444444444444444,\"#bd3786\"],[0.5555555555555556,\"#d8576b\"],[0.6666666666666666,\"#ed7953\"],[0.7777777777777778,\"#fb9f3a\"],[0.8888888888888888,\"#fdca26\"],[1.0,\"#f0f921\"]],\"sequentialminus\":[[0.0,\"#0d0887\"],[0.1111111111111111,\"#46039f\"],[0.2222222222222222,\"#7201a8\"],[0.3333333333333333,\"#9c179e\"],[0.4444444444444444,\"#bd3786\"],[0.5555555555555556,\"#d8576b\"],[0.6666666666666666,\"#ed7953\"],[0.7777777777777778,\"#fb9f3a\"],[0.8888888888888888,\"#fdca26\"],[1.0,\"#f0f921\"]],\"diverging\":[[0,\"#8e0152\"],[0.1,\"#c51b7d\"],[0.2,\"#de77ae\"],[0.3,\"#f1b6da\"],[0.4,\"#fde0ef\"],[0.5,\"#f7f7f7\"],[0.6,\"#e6f5d0\"],[0.7,\"#b8e186\"],[0.8,\"#7fbc41\"],[0.9,\"#4d9221\"],[1,\"#276419\"]]},\"xaxis\":{\"gridcolor\":\"white\",\"linecolor\":\"white\",\"ticks\":\"\",\"title\":{\"standoff\":15},\"zerolinecolor\":\"white\",\"automargin\":true,\"zerolinewidth\":2},\"yaxis\":{\"gridcolor\":\"white\",\"linecolor\":\"white\",\"ticks\":\"\",\"title\":{\"standoff\":15},\"zerolinecolor\":\"white\",\"automargin\":true,\"zerolinewidth\":2},\"scene\":{\"xaxis\":{\"backgroundcolor\":\"#E5ECF6\",\"gridcolor\":\"white\",\"linecolor\":\"white\",\"showbackground\":true,\"ticks\":\"\",\"zerolinecolor\":\"white\",\"gridwidth\":2},\"yaxis\":{\"backgroundcolor\":\"#E5ECF6\",\"gridcolor\":\"white\",\"linecolor\":\"white\",\"showbackground\":true,\"ticks\":\"\",\"zerolinecolor\":\"white\",\"gridwidth\":2},\"zaxis\":{\"backgroundcolor\":\"#E5ECF6\",\"gridcolor\":\"white\",\"linecolor\":\"white\",\"showbackground\":true,\"ticks\":\"\",\"zerolinecolor\":\"white\",\"gridwidth\":2}},\"shapedefaults\":{\"line\":{\"color\":\"#2a3f5f\"}},\"annotationdefaults\":{\"arrowcolor\":\"#2a3f5f\",\"arrowhead\":0,\"arrowwidth\":1},\"geo\":{\"bgcolor\":\"white\",\"landcolor\":\"#E5ECF6\",\"subunitcolor\":\"white\",\"showland\":true,\"showlakes\":true,\"lakecolor\":\"white\"},\"title\":{\"x\":0.05},\"mapbox\":{\"style\":\"light\"}}},\"xaxis\":{\"anchor\":\"y\",\"domain\":[0.0,0.94],\"tickangle\":-90},\"yaxis\":{\"anchor\":\"x\",\"domain\":[0.0,1.0]},\"yaxis2\":{\"anchor\":\"x\",\"overlaying\":\"y\",\"side\":\"right\"},\"title\":{\"font\":{\"family\":\"Arial\",\"size\":20,\"color\":\"#000000\"},\"text\":\"<b>Pickup Community Area vs Number of Trips</b>              <br><i><sup>A Pareto Chart showing the number of trips by community area and their cumulative percentage (n = 100k)</sup></i>\",\"x\":0.5,\"y\":0.95},\"shapes\":[{\"fillcolor\":\"darkgreen\",\"line\":{\"width\":0},\"opacity\":0.3,\"type\":\"rect\",\"x0\":\"-0.5\",\"x1\":\"9.5\",\"xref\":\"x\",\"y0\":0,\"y1\":1,\"yref\":\"y domain\"}],\"annotations\":[{\"bgcolor\":\"white\",\"bordercolor\":\"black\",\"borderpad\":5,\"font\":{\"color\":\"black\"},\"showarrow\":false,\"text\":\"The Top 10 Community Areas represent 85.14% of the grand total of number of trips\",\"textangle\":0,\"x\":0.15,\"xanchor\":\"left\",\"xref\":\"paper\",\"y\":0.75,\"yref\":\"paper\"},{\"font\":{\"color\":\"#000000\"},\"showarrow\":false,\"text\":\"<i>Figure 2 - Pickup Community Area vs Number of Trips</i>\",\"textangle\":0,\"x\":0,\"xanchor\":\"left\",\"xref\":\"paper\",\"y\":-0.15,\"yref\":\"paper\"}]},                        {\"responsive\": true}                    ).then(function(){\n",
              "                            \n",
              "var gd = document.getElementById('bbc5a48f-a5ca-4022-8532-add925c4f114');\n",
              "var x = new MutationObserver(function (mutations, observer) {{\n",
              "        var display = window.getComputedStyle(gd).display;\n",
              "        if (!display || display === 'none') {{\n",
              "            console.log([gd, 'removed!']);\n",
              "            Plotly.purge(gd);\n",
              "            observer.disconnect();\n",
              "        }}\n",
              "}});\n",
              "\n",
              "// Listen for the removal of the full notebook cells\n",
              "var notebookContainer = gd.closest('#notebook-container');\n",
              "if (notebookContainer) {{\n",
              "    x.observe(notebookContainer, {childList: true});\n",
              "}}\n",
              "\n",
              "// Listen for the clearing of the current output cell\n",
              "var outputEl = gd.closest('.output');\n",
              "if (outputEl) {{\n",
              "    x.observe(outputEl, {childList: true});\n",
              "}}\n",
              "\n",
              "                        })                };                            </script>        </div>\n",
              "</body>\n",
              "</html>"
            ]
          },
          "metadata": {}
        },
        {
          "output_type": "execute_result",
          "data": {
            "text/html": [
              "<div>\n",
              "<style scoped>\n",
              "    .dataframe tbody tr th:only-of-type {\n",
              "        vertical-align: middle;\n",
              "    }\n",
              "\n",
              "    .dataframe tbody tr th {\n",
              "        vertical-align: top;\n",
              "    }\n",
              "\n",
              "    .dataframe thead th {\n",
              "        text-align: right;\n",
              "    }\n",
              "</style>\n",
              "<table border=\"1\" class=\"dataframe\">\n",
              "  <thead>\n",
              "    <tr style=\"text-align: right;\">\n",
              "      <th></th>\n",
              "      <th>Pickup Community Area</th>\n",
              "      <th>Number of Trips</th>\n",
              "      <th>Cumulative Sum</th>\n",
              "      <th>Cumulative Percentage (%)</th>\n",
              "    </tr>\n",
              "  </thead>\n",
              "  <tbody>\n",
              "    <tr>\n",
              "      <th>0</th>\n",
              "      <td>8</td>\n",
              "      <td>26484</td>\n",
              "      <td>26484</td>\n",
              "      <td>26.48</td>\n",
              "    </tr>\n",
              "    <tr>\n",
              "      <th>1</th>\n",
              "      <td>32</td>\n",
              "      <td>18444</td>\n",
              "      <td>44928</td>\n",
              "      <td>44.93</td>\n",
              "    </tr>\n",
              "    <tr>\n",
              "      <th>2</th>\n",
              "      <td>76</td>\n",
              "      <td>13768</td>\n",
              "      <td>58696</td>\n",
              "      <td>58.70</td>\n",
              "    </tr>\n",
              "    <tr>\n",
              "      <th>3</th>\n",
              "      <td>28</td>\n",
              "      <td>9523</td>\n",
              "      <td>68219</td>\n",
              "      <td>68.22</td>\n",
              "    </tr>\n",
              "    <tr>\n",
              "      <th>4</th>\n",
              "      <td>6</td>\n",
              "      <td>4169</td>\n",
              "      <td>72388</td>\n",
              "      <td>72.39</td>\n",
              "    </tr>\n",
              "    <tr>\n",
              "      <th>...</th>\n",
              "      <td>...</td>\n",
              "      <td>...</td>\n",
              "      <td>...</td>\n",
              "      <td>...</td>\n",
              "    </tr>\n",
              "    <tr>\n",
              "      <th>72</th>\n",
              "      <td>63</td>\n",
              "      <td>19</td>\n",
              "      <td>99944</td>\n",
              "      <td>99.94</td>\n",
              "    </tr>\n",
              "    <tr>\n",
              "      <th>73</th>\n",
              "      <td>20</td>\n",
              "      <td>19</td>\n",
              "      <td>99963</td>\n",
              "      <td>99.96</td>\n",
              "    </tr>\n",
              "    <tr>\n",
              "      <th>74</th>\n",
              "      <td>9</td>\n",
              "      <td>13</td>\n",
              "      <td>99976</td>\n",
              "      <td>99.98</td>\n",
              "    </tr>\n",
              "    <tr>\n",
              "      <th>75</th>\n",
              "      <td>74</td>\n",
              "      <td>12</td>\n",
              "      <td>99988</td>\n",
              "      <td>99.99</td>\n",
              "    </tr>\n",
              "    <tr>\n",
              "      <th>76</th>\n",
              "      <td>18</td>\n",
              "      <td>12</td>\n",
              "      <td>100000</td>\n",
              "      <td>100.00</td>\n",
              "    </tr>\n",
              "  </tbody>\n",
              "</table>\n",
              "<p>77 rows × 4 columns</p>\n",
              "</div>"
            ],
            "application/vnd.google.colaboratory.module+javascript": "\n      import \"https://ssl.gstatic.com/colaboratory/data_table/99dac6621f6ae8c4/data_table.js\";\n\n      window.createDataTable({\n        data: [[\"8\",\n{\n            'v': 26484,\n            'f': \"26484\",\n        },\n{\n            'v': 26484,\n            'f': \"26484\",\n        },\n{\n            'v': 26.48,\n            'f': \"26.48\",\n        }],\n [\"32\",\n{\n            'v': 18444,\n            'f': \"18444\",\n        },\n{\n            'v': 44928,\n            'f': \"44928\",\n        },\n{\n            'v': 44.93,\n            'f': \"44.93\",\n        }],\n [\"76\",\n{\n            'v': 13768,\n            'f': \"13768\",\n        },\n{\n            'v': 58696,\n            'f': \"58696\",\n        },\n{\n            'v': 58.7,\n            'f': \"58.7\",\n        }],\n [\"28\",\n{\n            'v': 9523,\n            'f': \"9523\",\n        },\n{\n            'v': 68219,\n            'f': \"68219\",\n        },\n{\n            'v': 68.22,\n            'f': \"68.22\",\n        }],\n [\"6\",\n{\n            'v': 4169,\n            'f': \"4169\",\n        },\n{\n            'v': 72388,\n            'f': \"72388\",\n        },\n{\n            'v': 72.39,\n            'f': \"72.39\",\n        }],\n [\"33\",\n{\n            'v': 3981,\n            'f': \"3981\",\n        },\n{\n            'v': 76369,\n            'f': \"76369\",\n        },\n{\n            'v': 76.37,\n            'f': \"76.37\",\n        }],\n [\"56\",\n{\n            'v': 2895,\n            'f': \"2895\",\n        },\n{\n            'v': 79264,\n            'f': \"79264\",\n        },\n{\n            'v': 79.26,\n            'f': \"79.26\",\n        }],\n [\"7\",\n{\n            'v': 2694,\n            'f': \"2694\",\n        },\n{\n            'v': 81958,\n            'f': \"81958\",\n        },\n{\n            'v': 81.96,\n            'f': \"81.96\",\n        }],\n [\"3\",\n{\n            'v': 1840,\n            'f': \"1840\",\n        },\n{\n            'v': 83798,\n            'f': \"83798\",\n        },\n{\n            'v': 83.8,\n            'f': \"83.8\",\n        }],\n [\"24\",\n{\n            'v': 1346,\n            'f': \"1346\",\n        },\n{\n            'v': 85144,\n            'f': \"85144\",\n        },\n{\n            'v': 85.14,\n            'f': \"85.14\",\n        }],\n [\"77\",\n{\n            'v': 1346,\n            'f': \"1346\",\n        },\n{\n            'v': 86490,\n            'f': \"86490\",\n        },\n{\n            'v': 86.49,\n            'f': \"86.49\",\n        }],\n [\"41\",\n{\n            'v': 789,\n            'f': \"789\",\n        },\n{\n            'v': 87279,\n            'f': \"87279\",\n        },\n{\n            'v': 87.28,\n            'f': \"87.28\",\n        }],\n [\"2\",\n{\n            'v': 774,\n            'f': \"774\",\n        },\n{\n            'v': 88053,\n            'f': \"88053\",\n        },\n{\n            'v': 88.05,\n            'f': \"88.05\",\n        }],\n [\"43\",\n{\n            'v': 636,\n            'f': \"636\",\n        },\n{\n            'v': 88689,\n            'f': \"88689\",\n        },\n{\n            'v': 88.69,\n            'f': \"88.69\",\n        }],\n [\"35\",\n{\n            'v': 617,\n            'f': \"617\",\n        },\n{\n            'v': 89306,\n            'f': \"89306\",\n        },\n{\n            'v': 89.31,\n            'f': \"89.31\",\n        }],\n [\"38\",\n{\n            'v': 601,\n            'f': \"601\",\n        },\n{\n            'v': 89907,\n            'f': \"89907\",\n        },\n{\n            'v': 89.91,\n            'f': \"89.91\",\n        }],\n [\"22\",\n{\n            'v': 552,\n            'f': \"552\",\n        },\n{\n            'v': 90459,\n            'f': \"90459\",\n        },\n{\n            'v': 90.46,\n            'f': \"90.46\",\n        }],\n [\"1\",\n{\n            'v': 526,\n            'f': \"526\",\n        },\n{\n            'v': 90985,\n            'f': \"90985\",\n        },\n{\n            'v': 90.98,\n            'f': \"90.98\",\n        }],\n [\"16\",\n{\n            'v': 496,\n            'f': \"496\",\n        },\n{\n            'v': 91481,\n            'f': \"91481\",\n        },\n{\n            'v': 91.48,\n            'f': \"91.48\",\n        }],\n [\"39\",\n{\n            'v': 482,\n            'f': \"482\",\n        },\n{\n            'v': 91963,\n            'f': \"91963\",\n        },\n{\n            'v': 91.96,\n            'f': \"91.96\",\n        }],\n [\"44\",\n{\n            'v': 450,\n            'f': \"450\",\n        },\n{\n            'v': 92413,\n            'f': \"92413\",\n        },\n{\n            'v': 92.41,\n            'f': \"92.41\",\n        }],\n [\"4\",\n{\n            'v': 421,\n            'f': \"421\",\n        },\n{\n            'v': 92834,\n            'f': \"92834\",\n        },\n{\n            'v': 92.83,\n            'f': \"92.83\",\n        }],\n [\"69\",\n{\n            'v': 415,\n            'f': \"415\",\n        },\n{\n            'v': 93249,\n            'f': \"93249\",\n        },\n{\n            'v': 93.25,\n            'f': \"93.25\",\n        }],\n [\"5\",\n{\n            'v': 326,\n            'f': \"326\",\n        },\n{\n            'v': 93575,\n            'f': \"93575\",\n        },\n{\n            'v': 93.58,\n            'f': \"93.58\",\n        }],\n [\"34\",\n{\n            'v': 316,\n            'f': \"316\",\n        },\n{\n            'v': 93891,\n            'f': \"93891\",\n        },\n{\n            'v': 93.89,\n            'f': \"93.89\",\n        }],\n [\"42\",\n{\n            'v': 282,\n            'f': \"282\",\n        },\n{\n            'v': 94173,\n            'f': \"94173\",\n        },\n{\n            'v': 94.17,\n            'f': \"94.17\",\n        }],\n [\"68\",\n{\n            'v': 270,\n            'f': \"270\",\n        },\n{\n            'v': 94443,\n            'f': \"94443\",\n        },\n{\n            'v': 94.44,\n            'f': \"94.44\",\n        }],\n [\"49\",\n{\n            'v': 268,\n            'f': \"268\",\n        },\n{\n            'v': 94711,\n            'f': \"94711\",\n        },\n{\n            'v': 94.71,\n            'f': \"94.71\",\n        }],\n [\"59\",\n{\n            'v': 247,\n            'f': \"247\",\n        },\n{\n            'v': 94958,\n            'f': \"94958\",\n        },\n{\n            'v': 94.96,\n            'f': \"94.96\",\n        }],\n [\"36\",\n{\n            'v': 239,\n            'f': \"239\",\n        },\n{\n            'v': 95197,\n            'f': \"95197\",\n        },\n{\n            'v': 95.2,\n            'f': \"95.2\",\n        }],\n [\"14\",\n{\n            'v': 238,\n            'f': \"238\",\n        },\n{\n            'v': 95435,\n            'f': \"95435\",\n        },\n{\n            'v': 95.44,\n            'f': \"95.44\",\n        }],\n [\"10\",\n{\n            'v': 232,\n            'f': \"232\",\n        },\n{\n            'v': 95667,\n            'f': \"95667\",\n        },\n{\n            'v': 95.67,\n            'f': \"95.67\",\n        }],\n [\"21\",\n{\n            'v': 213,\n            'f': \"213\",\n        },\n{\n            'v': 95880,\n            'f': \"95880\",\n        },\n{\n            'v': 95.88,\n            'f': \"95.88\",\n        }],\n [\"25\",\n{\n            'v': 212,\n            'f': \"212\",\n        },\n{\n            'v': 96092,\n            'f': \"96092\",\n        },\n{\n            'v': 96.09,\n            'f': \"96.09\",\n        }],\n [\"46\",\n{\n            'v': 201,\n            'f': \"201\",\n        },\n{\n            'v': 96293,\n            'f': \"96293\",\n        },\n{\n            'v': 96.29,\n            'f': \"96.29\",\n        }],\n [\"11\",\n{\n            'v': 194,\n            'f': \"194\",\n        },\n{\n            'v': 96487,\n            'f': \"96487\",\n        },\n{\n            'v': 96.49,\n            'f': \"96.49\",\n        }],\n [\"31\",\n{\n            'v': 186,\n            'f': \"186\",\n        },\n{\n            'v': 96673,\n            'f': \"96673\",\n        },\n{\n            'v': 96.67,\n            'f': \"96.67\",\n        }],\n [\"37\",\n{\n            'v': 185,\n            'f': \"185\",\n        },\n{\n            'v': 96858,\n            'f': \"96858\",\n        },\n{\n            'v': 96.86,\n            'f': \"96.86\",\n        }],\n [\"15\",\n{\n            'v': 185,\n            'f': \"185\",\n        },\n{\n            'v': 97043,\n            'f': \"97043\",\n        },\n{\n            'v': 97.04,\n            'f': \"97.04\",\n        }],\n [\"73\",\n{\n            'v': 185,\n            'f': \"185\",\n        },\n{\n            'v': 97228,\n            'f': \"97228\",\n        },\n{\n            'v': 97.23,\n            'f': \"97.23\",\n        }],\n [\"51\",\n{\n            'v': 169,\n            'f': \"169\",\n        },\n{\n            'v': 97397,\n            'f': \"97397\",\n        },\n{\n            'v': 97.4,\n            'f': \"97.4\",\n        }],\n [\"53\",\n{\n            'v': 164,\n            'f': \"164\",\n        },\n{\n            'v': 97561,\n            'f': \"97561\",\n        },\n{\n            'v': 97.56,\n            'f': \"97.56\",\n        }],\n [\"71\",\n{\n            'v': 163,\n            'f': \"163\",\n        },\n{\n            'v': 97724,\n            'f': \"97724\",\n        },\n{\n            'v': 97.72,\n            'f': \"97.72\",\n        }],\n [\"75\",\n{\n            'v': 150,\n            'f': \"150\",\n        },\n{\n            'v': 97874,\n            'f': \"97874\",\n        },\n{\n            'v': 97.87,\n            'f': \"97.87\",\n        }],\n [\"13\",\n{\n            'v': 149,\n            'f': \"149\",\n        },\n{\n            'v': 98023,\n            'f': \"98023\",\n        },\n{\n            'v': 98.02,\n            'f': \"98.02\",\n        }],\n [\"50\",\n{\n            'v': 128,\n            'f': \"128\",\n        },\n{\n            'v': 98151,\n            'f': \"98151\",\n        },\n{\n            'v': 98.15,\n            'f': \"98.15\",\n        }],\n [\"12\",\n{\n            'v': 125,\n            'f': \"125\",\n        },\n{\n            'v': 98276,\n            'f': \"98276\",\n        },\n{\n            'v': 98.28,\n            'f': \"98.28\",\n        }],\n [\"40\",\n{\n            'v': 123,\n            'f': \"123\",\n        },\n{\n            'v': 98399,\n            'f': \"98399\",\n        },\n{\n            'v': 98.4,\n            'f': \"98.4\",\n        }],\n [\"48\",\n{\n            'v': 107,\n            'f': \"107\",\n        },\n{\n            'v': 98506,\n            'f': \"98506\",\n        },\n{\n            'v': 98.51,\n            'f': \"98.51\",\n        }],\n [\"61\",\n{\n            'v': 105,\n            'f': \"105\",\n        },\n{\n            'v': 98611,\n            'f': \"98611\",\n        },\n{\n            'v': 98.61,\n            'f': \"98.61\",\n        }],\n [\"29\",\n{\n            'v': 100,\n            'f': \"100\",\n        },\n{\n            'v': 98711,\n            'f': \"98711\",\n        },\n{\n            'v': 98.71,\n            'f': \"98.71\",\n        }],\n [\"60\",\n{\n            'v': 92,\n            'f': \"92\",\n        },\n{\n            'v': 98803,\n            'f': \"98803\",\n        },\n{\n            'v': 98.8,\n            'f': \"98.8\",\n        }],\n [\"67\",\n{\n            'v': 92,\n            'f': \"92\",\n        },\n{\n            'v': 98895,\n            'f': \"98895\",\n        },\n{\n            'v': 98.9,\n            'f': \"98.9\",\n        }],\n [\"70\",\n{\n            'v': 89,\n            'f': \"89\",\n        },\n{\n            'v': 98984,\n            'f': \"98984\",\n        },\n{\n            'v': 98.98,\n            'f': \"98.98\",\n        }],\n [\"27\",\n{\n            'v': 87,\n            'f': \"87\",\n        },\n{\n            'v': 99071,\n            'f': \"99071\",\n        },\n{\n            'v': 99.07,\n            'f': \"99.07\",\n        }],\n [\"23\",\n{\n            'v': 87,\n            'f': \"87\",\n        },\n{\n            'v': 99158,\n            'f': \"99158\",\n        },\n{\n            'v': 99.16,\n            'f': \"99.16\",\n        }],\n [\"45\",\n{\n            'v': 85,\n            'f': \"85\",\n        },\n{\n            'v': 99243,\n            'f': \"99243\",\n        },\n{\n            'v': 99.24,\n            'f': \"99.24\",\n        }],\n [\"19\",\n{\n            'v': 77,\n            'f': \"77\",\n        },\n{\n            'v': 99320,\n            'f': \"99320\",\n        },\n{\n            'v': 99.32,\n            'f': \"99.32\",\n        }],\n [\"66\",\n{\n            'v': 76,\n            'f': \"76\",\n        },\n{\n            'v': 99396,\n            'f': \"99396\",\n        },\n{\n            'v': 99.4,\n            'f': \"99.4\",\n        }],\n [\"55\",\n{\n            'v': 63,\n            'f': \"63\",\n        },\n{\n            'v': 99459,\n            'f': \"99459\",\n        },\n{\n            'v': 99.46,\n            'f': \"99.46\",\n        }],\n [\"54\",\n{\n            'v': 55,\n            'f': \"55\",\n        },\n{\n            'v': 99514,\n            'f': \"99514\",\n        },\n{\n            'v': 99.51,\n            'f': \"99.51\",\n        }],\n [\"72\",\n{\n            'v': 51,\n            'f': \"51\",\n        },\n{\n            'v': 99565,\n            'f': \"99565\",\n        },\n{\n            'v': 99.56,\n            'f': \"99.56\",\n        }],\n [\"52\",\n{\n            'v': 50,\n            'f': \"50\",\n        },\n{\n            'v': 99615,\n            'f': \"99615\",\n        },\n{\n            'v': 99.62,\n            'f': \"99.62\",\n        }],\n [\"30\",\n{\n            'v': 50,\n            'f': \"50\",\n        },\n{\n            'v': 99665,\n            'f': \"99665\",\n        },\n{\n            'v': 99.66,\n            'f': \"99.66\",\n        }],\n [\"58\",\n{\n            'v': 48,\n            'f': \"48\",\n        },\n{\n            'v': 99713,\n            'f': \"99713\",\n        },\n{\n            'v': 99.71,\n            'f': \"99.71\",\n        }],\n [\"26\",\n{\n            'v': 38,\n            'f': \"38\",\n        },\n{\n            'v': 99751,\n            'f': \"99751\",\n        },\n{\n            'v': 99.75,\n            'f': \"99.75\",\n        }],\n [\"64\",\n{\n            'v': 36,\n            'f': \"36\",\n        },\n{\n            'v': 99787,\n            'f': \"99787\",\n        },\n{\n            'v': 99.79,\n            'f': \"99.79\",\n        }],\n [\"65\",\n{\n            'v': 32,\n            'f': \"32\",\n        },\n{\n            'v': 99819,\n            'f': \"99819\",\n        },\n{\n            'v': 99.82,\n            'f': \"99.82\",\n        }],\n [\"62\",\n{\n            'v': 29,\n            'f': \"29\",\n        },\n{\n            'v': 99848,\n            'f': \"99848\",\n        },\n{\n            'v': 99.85,\n            'f': \"99.85\",\n        }],\n [\"17\",\n{\n            'v': 29,\n            'f': \"29\",\n        },\n{\n            'v': 99877,\n            'f': \"99877\",\n        },\n{\n            'v': 99.88,\n            'f': \"99.88\",\n        }],\n [\"47\",\n{\n            'v': 26,\n            'f': \"26\",\n        },\n{\n            'v': 99903,\n            'f': \"99903\",\n        },\n{\n            'v': 99.9,\n            'f': \"99.9\",\n        }],\n [\"57\",\n{\n            'v': 22,\n            'f': \"22\",\n        },\n{\n            'v': 99925,\n            'f': \"99925\",\n        },\n{\n            'v': 99.92,\n            'f': \"99.92\",\n        }],\n [\"63\",\n{\n            'v': 19,\n            'f': \"19\",\n        },\n{\n            'v': 99944,\n            'f': \"99944\",\n        },\n{\n            'v': 99.94,\n            'f': \"99.94\",\n        }],\n [\"20\",\n{\n            'v': 19,\n            'f': \"19\",\n        },\n{\n            'v': 99963,\n            'f': \"99963\",\n        },\n{\n            'v': 99.96,\n            'f': \"99.96\",\n        }],\n [\"9\",\n{\n            'v': 13,\n            'f': \"13\",\n        },\n{\n            'v': 99976,\n            'f': \"99976\",\n        },\n{\n            'v': 99.98,\n            'f': \"99.98\",\n        }],\n [\"74\",\n{\n            'v': 12,\n            'f': \"12\",\n        },\n{\n            'v': 99988,\n            'f': \"99988\",\n        },\n{\n            'v': 99.99,\n            'f': \"99.99\",\n        }],\n [\"18\",\n{\n            'v': 12,\n            'f': \"12\",\n        },\n{\n            'v': 100000,\n            'f': \"100000\",\n        },\n{\n            'v': 100.0,\n            'f': \"100.0\",\n        }]],\n        columns: [[\"string\", \"Pickup Community Area\"], [\"number\", \"Number of Trips\"], [\"number\", \"Cumulative Sum\"], [\"number\", \"Cumulative Percentage (%)\"]],\n        columnOptions: [],\n        rowsPerPage: 10,\n        helpUrl: \"https://colab.research.google.com/notebooks/data_table.ipynb\",\n        suppressOutputScrolling: true,\n        minimumWidth: undefined,\n      });\n    ",
            "text/plain": [
              "<google.colab.data_table.DataTable object>"
            ]
          },
          "metadata": {},
          "execution_count": 14
        }
      ],
      "source": [
        "#@title Pickup Community Area vs Number of Trips Code\n",
        "#As the Pickup Community Area is stored as a float (even though they are specific areas) I will change the data type to a string for easy use within the visualisation\n",
        "df_random['pickup_community_area'] = df_random['pickup_community_area'].astype(str)\n",
        "#Create pickup dataframe using the random sample dataframe as shown previously. Rename columns for the visualisation\n",
        "df_pickup = df_random.groupby(['pickup_community_area'])[['unique_key']].nunique().reset_index().rename(columns={'pickup_community_area':'Pickup Community Area','unique_key':'Number of Trips'})\n",
        "#Sort dataframe by Number of Trips\n",
        "df_pickup = df_pickup.sort_values(by=['Number of Trips'],ascending=False).reset_index(drop=True)\n",
        "#Add in a cumulative sum of number of trips column\n",
        "df_pickup['Cumulative Sum'] = df_pickup['Number of Trips'].cumsum()\n",
        "#Add in a cumulative percentage of the number of trips column divide by the total number of trips within the dataframe for the pareto chart\n",
        "df_pickup['Cumulative Percentage (%)'] = 100*df_pickup['Cumulative Sum']/df_pickup['Number of Trips'].sum()\n",
        "#Round the cumulative percentage column to show 2 decimal places\n",
        "df_pickup = df_pickup.round({'Cumulative Percentage (%)':2})\n",
        "\n",
        "#Create bar chart of number of trips by community area\n",
        "trace1 = go.Bar(\n",
        "    x=df_pickup['Pickup Community Area'],\n",
        "    y=df_pickup['Number of Trips'],\n",
        "    name = 'No. Trips',\n",
        "    marker=dict(\n",
        "        color='rgb(34,163,192)'\n",
        "               )\n",
        ")\n",
        "#Create line chart of the cumulative percentage by community area for the 2nd axis\n",
        "trace2 = go.Scatter(\n",
        "    x=df_pickup['Pickup Community Area'],\n",
        "    y=df_pickup['Cumulative Percentage (%)'],\n",
        "    name='Cumulative Percentage (%)',\n",
        "    yaxis='y2'\n",
        "\n",
        ")\n",
        "#Combine both charts\n",
        "fig = make_subplots(specs=[[{\"secondary_y\": True}]])\n",
        "fig.add_trace(trace1)\n",
        "fig.add_trace(trace2,secondary_y=True)\n",
        "fig.update_layout(\n",
        "    title=dict(\n",
        "        text='<b>Pickup Community Area vs Number of Trips</b>\\\n",
        "              <br><i><sup>A Pareto Chart showing the number of trips by community area and their cumulative percentage (n = 100k)</sup></i>',\n",
        "        x=0.5,\n",
        "        y=0.95,\n",
        "        font=dict(\n",
        "            family=\"Arial\",\n",
        "            size=20,\n",
        "            color='#000000'\n",
        "        ))\n",
        "        ,xaxis=dict(\n",
        "      tickangle=-90\n",
        "    ))\n",
        "top10 = df_pickup['Cumulative Percentage (%)'].iloc[9]\n",
        "# Add highlight box:\n",
        "fig.add_vrect(x0=\"-0.5\",\n",
        "               x1=\"9.5\",\n",
        "               fillcolor=\"darkgreen\",\n",
        "               opacity=0.3,\n",
        "               line_width=0)\n",
        "\n",
        "# Add explanation of line:\n",
        "fig.add_annotation(x=.15,\n",
        "                    y=0.75,\n",
        "                    text=\"The Top 10 Community Areas represent \" + str(round(top10, 3)) + \"% of the grand total of number of trips\",\n",
        "                    textangle=0,\n",
        "                    xanchor='left',\n",
        "                    xref=\"paper\",\n",
        "                    yref=\"paper\",\n",
        "                    font_color='black',\n",
        "                    bordercolor='black',\n",
        "                    borderpad=5,\n",
        "                    showarrow=False,\n",
        "                    bgcolor='white',\n",
        "                    )\n",
        "\n",
        "# Add figure annotation:\n",
        "fig.add_annotation(x=0,\n",
        "                    y=-0.15,\n",
        "                    showarrow=False,\n",
        "                    text=\"<i>Figure 2 - Pickup Community Area vs Number of Trips</i>\",\n",
        "                    textangle=0,\n",
        "                    xanchor='left',\n",
        "                    xref=\"paper\",\n",
        "                    yref=\"paper\",\n",
        "                    font_color='#000000')\n",
        "\n",
        "#Show the combined charts\n",
        "fig.show()\n",
        "#variables for the analysis paragraph\n",
        "top10 = df_pickup['Cumulative Percentage (%)'].iloc[9]\n",
        "top3 = df_pickup['Cumulative Percentage (%)'].iloc[2]\n",
        "\n",
        "#Show the dataframe\n",
        "data_table.DataTable(df_pickup, include_index=False, num_rows_per_page=10)"
      ]
    },
    {
      "cell_type": "code",
      "source": [
        "#@title Analysis\n",
        "display(Markdown(f\"###Figure 2 shows total trips by pickup community area as well as each community area's percentage of the grand total. I've chosen to show cumulative percentage on the second axis and as suspected there are a large amount of community areas with very little taxi usage.\"))\n",
        "display(Markdown(f\"###The top 10 community areas account for over **{top10}%** of the total trips, with Community Areas 8, 32 and 76 accounting for **{top3}%** alone. These areas should be focused, ensuring taxi availability to increase number of trips.\"))"
      ],
      "metadata": {
        "colab": {
          "base_uri": "https://localhost:8080/",
          "height": 155
        },
        "id": "00mn0tfgteh1",
        "outputId": "146ff126-4699-4a10-ddc4-e3e6b0dbeb08",
        "cellView": "form"
      },
      "id": "00mn0tfgteh1",
      "execution_count": null,
      "outputs": [
        {
          "output_type": "display_data",
          "data": {
            "text/plain": [
              "<IPython.core.display.Markdown object>"
            ],
            "text/markdown": "###Figure 2 shows total trips by pickup community area as well as each community area's percentage of the grand total. I've chosen to show cumulative percentage on the second axis and as suspected there are a large amount of community areas with very little taxi usage."
          },
          "metadata": {}
        },
        {
          "output_type": "display_data",
          "data": {
            "text/plain": [
              "<IPython.core.display.Markdown object>"
            ],
            "text/markdown": "###The top 10 community areas account for over **85.14%** of the total trips, with Community Areas 8, 32 and 76 accounting for **58.7%** alone. These areas should be focused, ensuring taxi availability to increase number of trips."
          },
          "metadata": {}
        }
      ]
    },
    {
      "cell_type": "markdown",
      "source": [
        "#### **<h4>Average Fare</h4>**"
      ],
      "metadata": {
        "id": "9Mv4PL6MHE95"
      },
      "id": "9Mv4PL6MHE95"
    },
    {
      "cell_type": "markdown",
      "source": [
        "As an aside I'm curious to see what the breakdown of the top 5 community areas by total trips looks like when including average fare, average length of trip and average trip duration.\n",
        "To analyse this I will repeat the steps above but instead of cumulative columns I will aggregate the mean of the fare, trip_miles and trip_seconds columns in the dataset.  "
      ],
      "metadata": {
        "id": "Hv_6JxTLU2mQ"
      },
      "id": "Hv_6JxTLU2mQ"
    },
    {
      "cell_type": "code",
      "source": [
        "#@title Top 5 Pickup Community Areas vs Number of Trips and Average Fare Code\n",
        "#Create new dataset for new analysis\n",
        "df_pickup_fare = df_random\n",
        "#Group by pickup community area and aggregate the number of trips and average fare\n",
        "df_pickup_fare = df_random.groupby(['pickup_community_area']).agg({'unique_key':'nunique', 'fare':'mean','trip_miles':'mean','trip_seconds':'mean'})\n",
        "#Sort the table by number of trips\n",
        "df_pickup_fare = df_pickup_fare.sort_values(by=['unique_key'],ascending=False).reset_index(drop=False)\n",
        "#Only keep the top 5 for analysis\n",
        "df_pickup_fare_5 = df_pickup_fare.head(5)\n",
        "#Round the fare and miles formatting to 2 decimal places\n",
        "df_pickup_fare_5 = df_pickup_fare_5.round({'fare':2,'trip_miles':2})\n",
        "#Convert the seconds column into minutes and format as integers\n",
        "df_pickup_fare_5['trip_seconds'] = df_pickup_fare_5['trip_seconds'].div(60).round(2).astype(int)\n",
        "#Rename table headers\n",
        "df_pickup_fare_5 = df_pickup_fare_5.rename(columns={'pickup_community_area':'Pickup Community Area','unique_key':'Number of Trips','fare':'Average Fare','trip_miles':'Average Distance','trip_seconds':'Average Duration (Minutes)'})\n",
        "\n",
        "#variables for the analysis paragraph\n",
        "fare_ca = df_pickup_fare_5.iloc[2]\n",
        "fare_ca = fare_ca['Average Fare']\n",
        "bot_fare = df_pickup_fare_5.iloc[4]\n",
        "bot_fare = bot_fare['Average Fare']\n",
        "\n",
        "#Create bar chart of number of trips by community area\n",
        "trace1 = go.Bar(\n",
        "    x=df_pickup_fare_5['Pickup Community Area'],\n",
        "    y=df_pickup_fare_5['Number of Trips'],\n",
        "    name = 'No. Trips',\n",
        "    marker=dict(\n",
        "        color='rgb(34,163,192)'\n",
        "               )\n",
        ")\n",
        "#Create line chart of the Average Fare by Pickup Community Area\n",
        "trace2 = go.Scatter(\n",
        "    x=df_pickup_fare_5['Pickup Community Area'],\n",
        "    y=df_pickup_fare_5['Average Fare'],\n",
        "    name='Average Fare',\n",
        "    yaxis='y2'\n",
        ")\n",
        "#Combine both charts\n",
        "fig = make_subplots(specs=[[{\"secondary_y\": True}]])\n",
        "fig.add_trace(trace1)\n",
        "fig.add_trace(trace2,secondary_y=True)\n",
        "fig.update_layout(\n",
        "    title=dict(\n",
        "        text='<b>Top 5 Pickup Community Areas vs Number of Trips and Average Fare</b>\\\n",
        "              <br><i><sup>A visualisation showing the number of trips by community area vs their average fare (n = 100k)</sup></i>',\n",
        "        x=0.5,\n",
        "        y=0.95,\n",
        "        font=dict(\n",
        "            family=\"Arial\",\n",
        "            size=20,\n",
        "            color='#000000'\n",
        "        )))\n",
        "\n",
        "# Add average fare across top 5:\n",
        "fig.add_hline(y=df_pickup_fare_5['Average Fare'].mean()-2,\n",
        "              line_dash='dash',\n",
        "              line_color='black',\n",
        "              secondary_y=True)\n",
        "\n",
        "# Add explanation of line:\n",
        "fig.add_annotation(x=.8,\n",
        "                    y=df_pickup_fare_5['Average Fare'].mean(),\n",
        "                    text=\"Average Fare = $\" + str(round(df_pickup_fare_5['Average Fare'].mean(),2)),\n",
        "                    textangle=0,\n",
        "                    xanchor='left',\n",
        "                    xref=\"paper\",\n",
        "                    font_color='black',\n",
        "                    bordercolor='black',\n",
        "                    borderpad=5,\n",
        "                    showarrow=False,\n",
        "                    bgcolor='white',\n",
        "                    yref = \"y2\"\n",
        "                    )\n",
        "# Add figure annotation:\n",
        "fig.add_annotation(x=0,\n",
        "                    y=-0.15,\n",
        "                    showarrow=False,\n",
        "                    text=\"<i>Figure 3 - Top 5 Pickup Community Area vs Number of Trips and Average Fare</i>\",\n",
        "                    textangle=0,\n",
        "                    xanchor='left',\n",
        "                    xref=\"paper\",\n",
        "                    yref=\"paper\",\n",
        "                    font_color='#000000')\n",
        "#Show the combined charts\n",
        "fig.show()\n",
        "\n",
        "#Display the data\n",
        "data_table.DataTable(df_pickup_fare_5, include_index=False, num_rows_per_page=5)"
      ],
      "metadata": {
        "colab": {
          "base_uri": "https://localhost:8080/",
          "height": 722
        },
        "id": "8Lq1LcA4gVZR",
        "outputId": "adfa73e6-ea7d-4847-d370-1acd1a677ab0",
        "cellView": "form"
      },
      "id": "8Lq1LcA4gVZR",
      "execution_count": null,
      "outputs": [
        {
          "output_type": "display_data",
          "data": {
            "text/html": [
              "<html>\n",
              "<head><meta charset=\"utf-8\" /></head>\n",
              "<body>\n",
              "    <div>            <script src=\"https://cdnjs.cloudflare.com/ajax/libs/mathjax/2.7.5/MathJax.js?config=TeX-AMS-MML_SVG\"></script><script type=\"text/javascript\">if (window.MathJax && window.MathJax.Hub && window.MathJax.Hub.Config) {window.MathJax.Hub.Config({SVG: {font: \"STIX-Web\"}});}</script>                <script type=\"text/javascript\">window.PlotlyConfig = {MathJaxConfig: 'local'};</script>\n",
              "        <script src=\"https://cdn.plot.ly/plotly-2.18.2.min.js\"></script>                <div id=\"e9fb5ff9-b53c-40ea-a3c0-2dc6e46f4e7e\" class=\"plotly-graph-div\" style=\"height:525px; width:100%;\"></div>            <script type=\"text/javascript\">                                    window.PLOTLYENV=window.PLOTLYENV || {};                                    if (document.getElementById(\"e9fb5ff9-b53c-40ea-a3c0-2dc6e46f4e7e\")) {                    Plotly.newPlot(                        \"e9fb5ff9-b53c-40ea-a3c0-2dc6e46f4e7e\",                        [{\"marker\":{\"color\":\"rgb(34,163,192)\"},\"name\":\"No. Trips\",\"x\":[\"8\",\"32\",\"76\",\"28\",\"6\"],\"y\":[26484,18444,13768,9523,4169],\"type\":\"bar\"},{\"name\":\"Average Fare\",\"x\":[\"8\",\"32\",\"76\",\"28\",\"6\"],\"y\":[13.56,14.29,40.84,13.04,15.34],\"yaxis\":\"y2\",\"type\":\"scatter\",\"xaxis\":\"x\"}],                        {\"template\":{\"data\":{\"histogram2dcontour\":[{\"type\":\"histogram2dcontour\",\"colorbar\":{\"outlinewidth\":0,\"ticks\":\"\"},\"colorscale\":[[0.0,\"#0d0887\"],[0.1111111111111111,\"#46039f\"],[0.2222222222222222,\"#7201a8\"],[0.3333333333333333,\"#9c179e\"],[0.4444444444444444,\"#bd3786\"],[0.5555555555555556,\"#d8576b\"],[0.6666666666666666,\"#ed7953\"],[0.7777777777777778,\"#fb9f3a\"],[0.8888888888888888,\"#fdca26\"],[1.0,\"#f0f921\"]]}],\"choropleth\":[{\"type\":\"choropleth\",\"colorbar\":{\"outlinewidth\":0,\"ticks\":\"\"}}],\"histogram2d\":[{\"type\":\"histogram2d\",\"colorbar\":{\"outlinewidth\":0,\"ticks\":\"\"},\"colorscale\":[[0.0,\"#0d0887\"],[0.1111111111111111,\"#46039f\"],[0.2222222222222222,\"#7201a8\"],[0.3333333333333333,\"#9c179e\"],[0.4444444444444444,\"#bd3786\"],[0.5555555555555556,\"#d8576b\"],[0.6666666666666666,\"#ed7953\"],[0.7777777777777778,\"#fb9f3a\"],[0.8888888888888888,\"#fdca26\"],[1.0,\"#f0f921\"]]}],\"heatmap\":[{\"type\":\"heatmap\",\"colorbar\":{\"outlinewidth\":0,\"ticks\":\"\"},\"colorscale\":[[0.0,\"#0d0887\"],[0.1111111111111111,\"#46039f\"],[0.2222222222222222,\"#7201a8\"],[0.3333333333333333,\"#9c179e\"],[0.4444444444444444,\"#bd3786\"],[0.5555555555555556,\"#d8576b\"],[0.6666666666666666,\"#ed7953\"],[0.7777777777777778,\"#fb9f3a\"],[0.8888888888888888,\"#fdca26\"],[1.0,\"#f0f921\"]]}],\"heatmapgl\":[{\"type\":\"heatmapgl\",\"colorbar\":{\"outlinewidth\":0,\"ticks\":\"\"},\"colorscale\":[[0.0,\"#0d0887\"],[0.1111111111111111,\"#46039f\"],[0.2222222222222222,\"#7201a8\"],[0.3333333333333333,\"#9c179e\"],[0.4444444444444444,\"#bd3786\"],[0.5555555555555556,\"#d8576b\"],[0.6666666666666666,\"#ed7953\"],[0.7777777777777778,\"#fb9f3a\"],[0.8888888888888888,\"#fdca26\"],[1.0,\"#f0f921\"]]}],\"contourcarpet\":[{\"type\":\"contourcarpet\",\"colorbar\":{\"outlinewidth\":0,\"ticks\":\"\"}}],\"contour\":[{\"type\":\"contour\",\"colorbar\":{\"outlinewidth\":0,\"ticks\":\"\"},\"colorscale\":[[0.0,\"#0d0887\"],[0.1111111111111111,\"#46039f\"],[0.2222222222222222,\"#7201a8\"],[0.3333333333333333,\"#9c179e\"],[0.4444444444444444,\"#bd3786\"],[0.5555555555555556,\"#d8576b\"],[0.6666666666666666,\"#ed7953\"],[0.7777777777777778,\"#fb9f3a\"],[0.8888888888888888,\"#fdca26\"],[1.0,\"#f0f921\"]]}],\"surface\":[{\"type\":\"surface\",\"colorbar\":{\"outlinewidth\":0,\"ticks\":\"\"},\"colorscale\":[[0.0,\"#0d0887\"],[0.1111111111111111,\"#46039f\"],[0.2222222222222222,\"#7201a8\"],[0.3333333333333333,\"#9c179e\"],[0.4444444444444444,\"#bd3786\"],[0.5555555555555556,\"#d8576b\"],[0.6666666666666666,\"#ed7953\"],[0.7777777777777778,\"#fb9f3a\"],[0.8888888888888888,\"#fdca26\"],[1.0,\"#f0f921\"]]}],\"mesh3d\":[{\"type\":\"mesh3d\",\"colorbar\":{\"outlinewidth\":0,\"ticks\":\"\"}}],\"scatter\":[{\"fillpattern\":{\"fillmode\":\"overlay\",\"size\":10,\"solidity\":0.2},\"type\":\"scatter\"}],\"parcoords\":[{\"type\":\"parcoords\",\"line\":{\"colorbar\":{\"outlinewidth\":0,\"ticks\":\"\"}}}],\"scatterpolargl\":[{\"type\":\"scatterpolargl\",\"marker\":{\"colorbar\":{\"outlinewidth\":0,\"ticks\":\"\"}}}],\"bar\":[{\"error_x\":{\"color\":\"#2a3f5f\"},\"error_y\":{\"color\":\"#2a3f5f\"},\"marker\":{\"line\":{\"color\":\"#E5ECF6\",\"width\":0.5},\"pattern\":{\"fillmode\":\"overlay\",\"size\":10,\"solidity\":0.2}},\"type\":\"bar\"}],\"scattergeo\":[{\"type\":\"scattergeo\",\"marker\":{\"colorbar\":{\"outlinewidth\":0,\"ticks\":\"\"}}}],\"scatterpolar\":[{\"type\":\"scatterpolar\",\"marker\":{\"colorbar\":{\"outlinewidth\":0,\"ticks\":\"\"}}}],\"histogram\":[{\"marker\":{\"pattern\":{\"fillmode\":\"overlay\",\"size\":10,\"solidity\":0.2}},\"type\":\"histogram\"}],\"scattergl\":[{\"type\":\"scattergl\",\"marker\":{\"colorbar\":{\"outlinewidth\":0,\"ticks\":\"\"}}}],\"scatter3d\":[{\"type\":\"scatter3d\",\"line\":{\"colorbar\":{\"outlinewidth\":0,\"ticks\":\"\"}},\"marker\":{\"colorbar\":{\"outlinewidth\":0,\"ticks\":\"\"}}}],\"scattermapbox\":[{\"type\":\"scattermapbox\",\"marker\":{\"colorbar\":{\"outlinewidth\":0,\"ticks\":\"\"}}}],\"scatterternary\":[{\"type\":\"scatterternary\",\"marker\":{\"colorbar\":{\"outlinewidth\":0,\"ticks\":\"\"}}}],\"scattercarpet\":[{\"type\":\"scattercarpet\",\"marker\":{\"colorbar\":{\"outlinewidth\":0,\"ticks\":\"\"}}}],\"carpet\":[{\"aaxis\":{\"endlinecolor\":\"#2a3f5f\",\"gridcolor\":\"white\",\"linecolor\":\"white\",\"minorgridcolor\":\"white\",\"startlinecolor\":\"#2a3f5f\"},\"baxis\":{\"endlinecolor\":\"#2a3f5f\",\"gridcolor\":\"white\",\"linecolor\":\"white\",\"minorgridcolor\":\"white\",\"startlinecolor\":\"#2a3f5f\"},\"type\":\"carpet\"}],\"table\":[{\"cells\":{\"fill\":{\"color\":\"#EBF0F8\"},\"line\":{\"color\":\"white\"}},\"header\":{\"fill\":{\"color\":\"#C8D4E3\"},\"line\":{\"color\":\"white\"}},\"type\":\"table\"}],\"barpolar\":[{\"marker\":{\"line\":{\"color\":\"#E5ECF6\",\"width\":0.5},\"pattern\":{\"fillmode\":\"overlay\",\"size\":10,\"solidity\":0.2}},\"type\":\"barpolar\"}],\"pie\":[{\"automargin\":true,\"type\":\"pie\"}]},\"layout\":{\"autotypenumbers\":\"strict\",\"colorway\":[\"#636efa\",\"#EF553B\",\"#00cc96\",\"#ab63fa\",\"#FFA15A\",\"#19d3f3\",\"#FF6692\",\"#B6E880\",\"#FF97FF\",\"#FECB52\"],\"font\":{\"color\":\"#2a3f5f\"},\"hovermode\":\"closest\",\"hoverlabel\":{\"align\":\"left\"},\"paper_bgcolor\":\"white\",\"plot_bgcolor\":\"#E5ECF6\",\"polar\":{\"bgcolor\":\"#E5ECF6\",\"angularaxis\":{\"gridcolor\":\"white\",\"linecolor\":\"white\",\"ticks\":\"\"},\"radialaxis\":{\"gridcolor\":\"white\",\"linecolor\":\"white\",\"ticks\":\"\"}},\"ternary\":{\"bgcolor\":\"#E5ECF6\",\"aaxis\":{\"gridcolor\":\"white\",\"linecolor\":\"white\",\"ticks\":\"\"},\"baxis\":{\"gridcolor\":\"white\",\"linecolor\":\"white\",\"ticks\":\"\"},\"caxis\":{\"gridcolor\":\"white\",\"linecolor\":\"white\",\"ticks\":\"\"}},\"coloraxis\":{\"colorbar\":{\"outlinewidth\":0,\"ticks\":\"\"}},\"colorscale\":{\"sequential\":[[0.0,\"#0d0887\"],[0.1111111111111111,\"#46039f\"],[0.2222222222222222,\"#7201a8\"],[0.3333333333333333,\"#9c179e\"],[0.4444444444444444,\"#bd3786\"],[0.5555555555555556,\"#d8576b\"],[0.6666666666666666,\"#ed7953\"],[0.7777777777777778,\"#fb9f3a\"],[0.8888888888888888,\"#fdca26\"],[1.0,\"#f0f921\"]],\"sequentialminus\":[[0.0,\"#0d0887\"],[0.1111111111111111,\"#46039f\"],[0.2222222222222222,\"#7201a8\"],[0.3333333333333333,\"#9c179e\"],[0.4444444444444444,\"#bd3786\"],[0.5555555555555556,\"#d8576b\"],[0.6666666666666666,\"#ed7953\"],[0.7777777777777778,\"#fb9f3a\"],[0.8888888888888888,\"#fdca26\"],[1.0,\"#f0f921\"]],\"diverging\":[[0,\"#8e0152\"],[0.1,\"#c51b7d\"],[0.2,\"#de77ae\"],[0.3,\"#f1b6da\"],[0.4,\"#fde0ef\"],[0.5,\"#f7f7f7\"],[0.6,\"#e6f5d0\"],[0.7,\"#b8e186\"],[0.8,\"#7fbc41\"],[0.9,\"#4d9221\"],[1,\"#276419\"]]},\"xaxis\":{\"gridcolor\":\"white\",\"linecolor\":\"white\",\"ticks\":\"\",\"title\":{\"standoff\":15},\"zerolinecolor\":\"white\",\"automargin\":true,\"zerolinewidth\":2},\"yaxis\":{\"gridcolor\":\"white\",\"linecolor\":\"white\",\"ticks\":\"\",\"title\":{\"standoff\":15},\"zerolinecolor\":\"white\",\"automargin\":true,\"zerolinewidth\":2},\"scene\":{\"xaxis\":{\"backgroundcolor\":\"#E5ECF6\",\"gridcolor\":\"white\",\"linecolor\":\"white\",\"showbackground\":true,\"ticks\":\"\",\"zerolinecolor\":\"white\",\"gridwidth\":2},\"yaxis\":{\"backgroundcolor\":\"#E5ECF6\",\"gridcolor\":\"white\",\"linecolor\":\"white\",\"showbackground\":true,\"ticks\":\"\",\"zerolinecolor\":\"white\",\"gridwidth\":2},\"zaxis\":{\"backgroundcolor\":\"#E5ECF6\",\"gridcolor\":\"white\",\"linecolor\":\"white\",\"showbackground\":true,\"ticks\":\"\",\"zerolinecolor\":\"white\",\"gridwidth\":2}},\"shapedefaults\":{\"line\":{\"color\":\"#2a3f5f\"}},\"annotationdefaults\":{\"arrowcolor\":\"#2a3f5f\",\"arrowhead\":0,\"arrowwidth\":1},\"geo\":{\"bgcolor\":\"white\",\"landcolor\":\"#E5ECF6\",\"subunitcolor\":\"white\",\"showland\":true,\"showlakes\":true,\"lakecolor\":\"white\"},\"title\":{\"x\":0.05},\"mapbox\":{\"style\":\"light\"}}},\"xaxis\":{\"anchor\":\"y\",\"domain\":[0.0,0.94]},\"yaxis\":{\"anchor\":\"x\",\"domain\":[0.0,1.0]},\"yaxis2\":{\"anchor\":\"x\",\"overlaying\":\"y\",\"side\":\"right\"},\"title\":{\"font\":{\"family\":\"Arial\",\"size\":20,\"color\":\"#000000\"},\"text\":\"<b>Top 5 Pickup Community Areas vs Number of Trips and Average Fare</b>              <br><i><sup>A visualisation showing the number of trips by community area vs their average fare (n = 100k)</sup></i>\",\"x\":0.5,\"y\":0.95},\"shapes\":[{\"line\":{\"color\":\"black\",\"dash\":\"dash\"},\"type\":\"line\",\"x0\":0,\"x1\":1,\"xref\":\"x domain\",\"y0\":17.413999999999998,\"y1\":17.413999999999998,\"yref\":\"y2\"}],\"annotations\":[{\"bgcolor\":\"white\",\"bordercolor\":\"black\",\"borderpad\":5,\"font\":{\"color\":\"black\"},\"showarrow\":false,\"text\":\"Average Fare = $19.41\",\"textangle\":0,\"x\":0.8,\"xanchor\":\"left\",\"xref\":\"paper\",\"y\":19.413999999999998,\"yref\":\"y2\"},{\"font\":{\"color\":\"#000000\"},\"showarrow\":false,\"text\":\"<i>Figure 3 - Top 5 Pickup Community Area vs Number of Trips and Average Fare</i>\",\"textangle\":0,\"x\":0,\"xanchor\":\"left\",\"xref\":\"paper\",\"y\":-0.15,\"yref\":\"paper\"}]},                        {\"responsive\": true}                    ).then(function(){\n",
              "                            \n",
              "var gd = document.getElementById('e9fb5ff9-b53c-40ea-a3c0-2dc6e46f4e7e');\n",
              "var x = new MutationObserver(function (mutations, observer) {{\n",
              "        var display = window.getComputedStyle(gd).display;\n",
              "        if (!display || display === 'none') {{\n",
              "            console.log([gd, 'removed!']);\n",
              "            Plotly.purge(gd);\n",
              "            observer.disconnect();\n",
              "        }}\n",
              "}});\n",
              "\n",
              "// Listen for the removal of the full notebook cells\n",
              "var notebookContainer = gd.closest('#notebook-container');\n",
              "if (notebookContainer) {{\n",
              "    x.observe(notebookContainer, {childList: true});\n",
              "}}\n",
              "\n",
              "// Listen for the clearing of the current output cell\n",
              "var outputEl = gd.closest('.output');\n",
              "if (outputEl) {{\n",
              "    x.observe(outputEl, {childList: true});\n",
              "}}\n",
              "\n",
              "                        })                };                            </script>        </div>\n",
              "</body>\n",
              "</html>"
            ]
          },
          "metadata": {}
        },
        {
          "output_type": "execute_result",
          "data": {
            "text/html": [
              "<div>\n",
              "<style scoped>\n",
              "    .dataframe tbody tr th:only-of-type {\n",
              "        vertical-align: middle;\n",
              "    }\n",
              "\n",
              "    .dataframe tbody tr th {\n",
              "        vertical-align: top;\n",
              "    }\n",
              "\n",
              "    .dataframe thead th {\n",
              "        text-align: right;\n",
              "    }\n",
              "</style>\n",
              "<table border=\"1\" class=\"dataframe\">\n",
              "  <thead>\n",
              "    <tr style=\"text-align: right;\">\n",
              "      <th></th>\n",
              "      <th>Pickup Community Area</th>\n",
              "      <th>Number of Trips</th>\n",
              "      <th>Average Fare</th>\n",
              "      <th>Average Distance</th>\n",
              "      <th>Average Duration (Minutes)</th>\n",
              "    </tr>\n",
              "  </thead>\n",
              "  <tbody>\n",
              "    <tr>\n",
              "      <th>0</th>\n",
              "      <td>8</td>\n",
              "      <td>26484</td>\n",
              "      <td>13.56</td>\n",
              "      <td>3.21</td>\n",
              "      <td>13</td>\n",
              "    </tr>\n",
              "    <tr>\n",
              "      <th>1</th>\n",
              "      <td>32</td>\n",
              "      <td>18444</td>\n",
              "      <td>14.29</td>\n",
              "      <td>3.47</td>\n",
              "      <td>13</td>\n",
              "    </tr>\n",
              "    <tr>\n",
              "      <th>2</th>\n",
              "      <td>76</td>\n",
              "      <td>13768</td>\n",
              "      <td>40.84</td>\n",
              "      <td>13.57</td>\n",
              "      <td>36</td>\n",
              "    </tr>\n",
              "    <tr>\n",
              "      <th>3</th>\n",
              "      <td>28</td>\n",
              "      <td>9523</td>\n",
              "      <td>13.04</td>\n",
              "      <td>2.98</td>\n",
              "      <td>13</td>\n",
              "    </tr>\n",
              "    <tr>\n",
              "      <th>4</th>\n",
              "      <td>6</td>\n",
              "      <td>4169</td>\n",
              "      <td>15.34</td>\n",
              "      <td>3.61</td>\n",
              "      <td>16</td>\n",
              "    </tr>\n",
              "  </tbody>\n",
              "</table>\n",
              "</div>"
            ],
            "application/vnd.google.colaboratory.module+javascript": "\n      import \"https://ssl.gstatic.com/colaboratory/data_table/99dac6621f6ae8c4/data_table.js\";\n\n      window.createDataTable({\n        data: [[\"8\",\n{\n            'v': 26484,\n            'f': \"26484\",\n        },\n{\n            'v': 13.56,\n            'f': \"13.56\",\n        },\n{\n            'v': 3.21,\n            'f': \"3.21\",\n        },\n{\n            'v': 13,\n            'f': \"13\",\n        }],\n [\"32\",\n{\n            'v': 18444,\n            'f': \"18444\",\n        },\n{\n            'v': 14.29,\n            'f': \"14.29\",\n        },\n{\n            'v': 3.47,\n            'f': \"3.47\",\n        },\n{\n            'v': 13,\n            'f': \"13\",\n        }],\n [\"76\",\n{\n            'v': 13768,\n            'f': \"13768\",\n        },\n{\n            'v': 40.84,\n            'f': \"40.84\",\n        },\n{\n            'v': 13.57,\n            'f': \"13.57\",\n        },\n{\n            'v': 36,\n            'f': \"36\",\n        }],\n [\"28\",\n{\n            'v': 9523,\n            'f': \"9523\",\n        },\n{\n            'v': 13.04,\n            'f': \"13.04\",\n        },\n{\n            'v': 2.98,\n            'f': \"2.98\",\n        },\n{\n            'v': 13,\n            'f': \"13\",\n        }],\n [\"6\",\n{\n            'v': 4169,\n            'f': \"4169\",\n        },\n{\n            'v': 15.34,\n            'f': \"15.34\",\n        },\n{\n            'v': 3.61,\n            'f': \"3.61\",\n        },\n{\n            'v': 16,\n            'f': \"16\",\n        }]],\n        columns: [[\"string\", \"Pickup Community Area\"], [\"number\", \"Number of Trips\"], [\"number\", \"Average Fare\"], [\"number\", \"Average Distance\"], [\"number\", \"Average Duration (Minutes)\"]],\n        columnOptions: [],\n        rowsPerPage: 5,\n        helpUrl: \"https://colab.research.google.com/notebooks/data_table.ipynb\",\n        suppressOutputScrolling: true,\n        minimumWidth: undefined,\n      });\n    ",
            "text/plain": [
              "<google.colab.data_table.DataTable object>"
            ]
          },
          "metadata": {},
          "execution_count": 16
        }
      ]
    },
    {
      "cell_type": "code",
      "source": [
        "#@title Analysis\n",
        "display(Markdown(f\"###Interestingly, when comparing the average fare for the top 5 Community Areas there is a big outlier in Community Area 76 at **${fare_ca}**. Whilst this is roughly 3 times the other average fares, it can be explained in part by the community area having 3 times the average distance and over 2 times the duration per trip. This does raise the possibility of focusing on Community Area 76 for higher monetary returns, but other factors such as fuel price should be considered.\"))\n",
        "display(Markdown(f\"###The rest of the Community Areas are around the 13 dollar mark, with Community Area 33 being slightly higher at ${bot_fare} but again having slightly higher average distances and durations per trip.\"))"
      ],
      "metadata": {
        "colab": {
          "base_uri": "https://localhost:8080/",
          "height": 176
        },
        "cellView": "form",
        "id": "gqe4Y1tqOzVe",
        "outputId": "d3f55352-2f71-489d-e463-631fe7cde630"
      },
      "id": "gqe4Y1tqOzVe",
      "execution_count": null,
      "outputs": [
        {
          "output_type": "display_data",
          "data": {
            "text/plain": [
              "<IPython.core.display.Markdown object>"
            ],
            "text/markdown": "###Interestingly, when comparing the average fare for the top 5 Community Areas there is a big outlier in Community Area 76 at **$40.84**. Whilst this is roughly 3 times the other average fares, it can be explained in part by the community area having 3 times the average distance and over 2 times the duration per trip. This does raise the possibility of focusing on Community Area 76 for higher monetary returns, but other factors such as fuel price should be considered."
          },
          "metadata": {}
        },
        {
          "output_type": "display_data",
          "data": {
            "text/plain": [
              "<IPython.core.display.Markdown object>"
            ],
            "text/markdown": "###The rest of the Community Areas are around the 13 dollar mark, with Community Area 33 being slightly higher at $15.34 but again having slightly higher average distances and durations per trip."
          },
          "metadata": {}
        }
      ]
    },
    {
      "cell_type": "markdown",
      "source": [
        "### **<h3>Number of Trips Over Time</h3>**"
      ],
      "metadata": {
        "id": "k1TDmiQmg6Ii"
      },
      "id": "k1TDmiQmg6Ii"
    },
    {
      "cell_type": "markdown",
      "source": [
        "How does the amount of trips change throughout the year?<br><br>\n",
        "Using the trip_start_timestamp column we can create a month column to group the unique_keys by. I'll display this on a line chart along with a dashed line for the average number of trips."
      ],
      "metadata": {
        "id": "CSYfFV8PhH-3"
      },
      "id": "CSYfFV8PhH-3"
    },
    {
      "cell_type": "code",
      "source": [
        "#@title Number of Trips by Month Code\n",
        "df_month = df_random\n",
        "#Add a column for the month (integer) based on trip start timestamp column\n",
        "df_month['Month'] = pd.DatetimeIndex(df_month['trip_start_timestamp']).month\n",
        "#Add a column for the month name based on the new month column\n",
        "df_month['Month Name'] = df_month['trip_start_timestamp'].dt.month_name()\n",
        "#Rename columns for table output\n",
        "df_month = df_month.rename(columns={'unique_key':'Number of Trips'})\n",
        "df_month = df_month.groupby(['Month','Month Name']).agg({'Number of Trips':'nunique'})\n",
        "\n",
        "#Create line chart\n",
        "fig = px.line(df_month,x=df_month.index.get_level_values(1),y=\"Number of Trips\", height=700)\n",
        "fig.update_layout(title=dict(\n",
        "        text='<b>Number of Trips Over Time</b>\\\n",
        "              <br><i><sup>A visualisation showing the number of trips during 2022 by month (n = 100k)</sup></i>',\n",
        "        x=0.5,\n",
        "        y=0.95,\n",
        "        font=dict(\n",
        "            family=\"Arial\",\n",
        "            size=20,\n",
        "            color='#000000'\n",
        "        )),xaxis_title=\"Date\",\n",
        ")\n",
        "\n",
        "# Add highlight box:\n",
        "fig.add_vrect(x0=\"0\",\n",
        "               x1=\"1\",\n",
        "               fillcolor=\"darkred\",\n",
        "               opacity=0.3,\n",
        "               line_width=0)\n",
        "# Add explanation of line:\n",
        "fig.add_annotation(x=0.015,\n",
        "                    y=0.3,\n",
        "                    text=\"Quiet period <br>for first 2 months\",\n",
        "                    textangle=0,\n",
        "                    xanchor='left',\n",
        "                    xref=\"paper\",\n",
        "                    yref=\"paper\",\n",
        "                    font_color='black',\n",
        "                    showarrow=False,\n",
        "                    )\n",
        "\n",
        "# Add highlight box:\n",
        "fig.add_vrect(x0=\"4\",\n",
        "               x1=\"9\",\n",
        "               fillcolor=\"darkgreen\",\n",
        "               opacity=0.3,\n",
        "               line_width=0)\n",
        "# Add explanation of line:\n",
        "fig.add_annotation(x=0.6,\n",
        "                    y=0.9,\n",
        "                    text=\"Busy period between May and October\",\n",
        "                    textangle=0,\n",
        "                    xref=\"paper\",\n",
        "                    yref=\"paper\",\n",
        "                    font_color='black',\n",
        "                    showarrow=False,\n",
        "                    )\n",
        "#Add average number of trips line\n",
        "fig.add_hline(y=df_month['Number of Trips'].mean(),\n",
        "              line_dash='dash',\n",
        "              line_color='black')\n",
        "# Add explanation of line:\n",
        "fig.add_annotation(x=.15,\n",
        "                    y=df_month['Number of Trips'].mean()+500,\n",
        "                    text=\"Average Number of Trips = \" + str(int(round(df_month['Number of Trips'].mean(),-1))),\n",
        "                    textangle=0,\n",
        "                    xanchor='left',\n",
        "                    xref=\"paper\",\n",
        "                    font_color='black',\n",
        "                    bordercolor='black',\n",
        "                    borderpad=5,\n",
        "                    showarrow=False,\n",
        "                    bgcolor='white',\n",
        "                    )\n",
        "# Add figure annotation:\n",
        "fig.add_annotation(x=0,\n",
        "                    y=-0.1,\n",
        "                    showarrow=False,\n",
        "                    text=\"<i>Figure 4 - The Number of Trips by Month</i>\",\n",
        "                    textangle=0,\n",
        "                    xanchor='left',\n",
        "                    xref=\"paper\",\n",
        "                    yref=\"paper\",\n",
        "                    font_color='#000000')\n",
        "\n",
        "fig.show()\n",
        "\n",
        "data_table.DataTable(df_month, include_index=True, num_rows_per_page=25)"
      ],
      "metadata": {
        "colab": {
          "base_uri": "https://localhost:8080/",
          "height": 1048
        },
        "id": "WjgsFMk8B81U",
        "outputId": "628c0abb-28f0-432d-8c80-9311eb9cfe89",
        "cellView": "form"
      },
      "id": "WjgsFMk8B81U",
      "execution_count": null,
      "outputs": [
        {
          "output_type": "display_data",
          "data": {
            "text/html": [
              "<html>\n",
              "<head><meta charset=\"utf-8\" /></head>\n",
              "<body>\n",
              "    <div>            <script src=\"https://cdnjs.cloudflare.com/ajax/libs/mathjax/2.7.5/MathJax.js?config=TeX-AMS-MML_SVG\"></script><script type=\"text/javascript\">if (window.MathJax && window.MathJax.Hub && window.MathJax.Hub.Config) {window.MathJax.Hub.Config({SVG: {font: \"STIX-Web\"}});}</script>                <script type=\"text/javascript\">window.PlotlyConfig = {MathJaxConfig: 'local'};</script>\n",
              "        <script src=\"https://cdn.plot.ly/plotly-2.18.2.min.js\"></script>                <div id=\"ac87a8f9-a392-4bc1-90b3-d9448a83bde7\" class=\"plotly-graph-div\" style=\"height:700px; width:100%;\"></div>            <script type=\"text/javascript\">                                    window.PLOTLYENV=window.PLOTLYENV || {};                                    if (document.getElementById(\"ac87a8f9-a392-4bc1-90b3-d9448a83bde7\")) {                    Plotly.newPlot(                        \"ac87a8f9-a392-4bc1-90b3-d9448a83bde7\",                        [{\"hovertemplate\":\"x=%{x}<br>Number of Trips=%{y}<extra></extra>\",\"legendgroup\":\"\",\"line\":{\"color\":\"#636efa\",\"dash\":\"solid\"},\"marker\":{\"symbol\":\"circle\"},\"mode\":\"lines\",\"name\":\"\",\"orientation\":\"v\",\"showlegend\":false,\"x\":[\"January\",\"February\",\"March\",\"April\",\"May\",\"June\",\"July\",\"August\",\"September\",\"October\",\"November\",\"December\"],\"xaxis\":\"x\",\"y\":[4946,5943,7963,8282,9076,9932,8888,9162,9453,9471,8592,8292],\"yaxis\":\"y\",\"type\":\"scatter\"}],                        {\"template\":{\"data\":{\"histogram2dcontour\":[{\"type\":\"histogram2dcontour\",\"colorbar\":{\"outlinewidth\":0,\"ticks\":\"\"},\"colorscale\":[[0.0,\"#0d0887\"],[0.1111111111111111,\"#46039f\"],[0.2222222222222222,\"#7201a8\"],[0.3333333333333333,\"#9c179e\"],[0.4444444444444444,\"#bd3786\"],[0.5555555555555556,\"#d8576b\"],[0.6666666666666666,\"#ed7953\"],[0.7777777777777778,\"#fb9f3a\"],[0.8888888888888888,\"#fdca26\"],[1.0,\"#f0f921\"]]}],\"choropleth\":[{\"type\":\"choropleth\",\"colorbar\":{\"outlinewidth\":0,\"ticks\":\"\"}}],\"histogram2d\":[{\"type\":\"histogram2d\",\"colorbar\":{\"outlinewidth\":0,\"ticks\":\"\"},\"colorscale\":[[0.0,\"#0d0887\"],[0.1111111111111111,\"#46039f\"],[0.2222222222222222,\"#7201a8\"],[0.3333333333333333,\"#9c179e\"],[0.4444444444444444,\"#bd3786\"],[0.5555555555555556,\"#d8576b\"],[0.6666666666666666,\"#ed7953\"],[0.7777777777777778,\"#fb9f3a\"],[0.8888888888888888,\"#fdca26\"],[1.0,\"#f0f921\"]]}],\"heatmap\":[{\"type\":\"heatmap\",\"colorbar\":{\"outlinewidth\":0,\"ticks\":\"\"},\"colorscale\":[[0.0,\"#0d0887\"],[0.1111111111111111,\"#46039f\"],[0.2222222222222222,\"#7201a8\"],[0.3333333333333333,\"#9c179e\"],[0.4444444444444444,\"#bd3786\"],[0.5555555555555556,\"#d8576b\"],[0.6666666666666666,\"#ed7953\"],[0.7777777777777778,\"#fb9f3a\"],[0.8888888888888888,\"#fdca26\"],[1.0,\"#f0f921\"]]}],\"heatmapgl\":[{\"type\":\"heatmapgl\",\"colorbar\":{\"outlinewidth\":0,\"ticks\":\"\"},\"colorscale\":[[0.0,\"#0d0887\"],[0.1111111111111111,\"#46039f\"],[0.2222222222222222,\"#7201a8\"],[0.3333333333333333,\"#9c179e\"],[0.4444444444444444,\"#bd3786\"],[0.5555555555555556,\"#d8576b\"],[0.6666666666666666,\"#ed7953\"],[0.7777777777777778,\"#fb9f3a\"],[0.8888888888888888,\"#fdca26\"],[1.0,\"#f0f921\"]]}],\"contourcarpet\":[{\"type\":\"contourcarpet\",\"colorbar\":{\"outlinewidth\":0,\"ticks\":\"\"}}],\"contour\":[{\"type\":\"contour\",\"colorbar\":{\"outlinewidth\":0,\"ticks\":\"\"},\"colorscale\":[[0.0,\"#0d0887\"],[0.1111111111111111,\"#46039f\"],[0.2222222222222222,\"#7201a8\"],[0.3333333333333333,\"#9c179e\"],[0.4444444444444444,\"#bd3786\"],[0.5555555555555556,\"#d8576b\"],[0.6666666666666666,\"#ed7953\"],[0.7777777777777778,\"#fb9f3a\"],[0.8888888888888888,\"#fdca26\"],[1.0,\"#f0f921\"]]}],\"surface\":[{\"type\":\"surface\",\"colorbar\":{\"outlinewidth\":0,\"ticks\":\"\"},\"colorscale\":[[0.0,\"#0d0887\"],[0.1111111111111111,\"#46039f\"],[0.2222222222222222,\"#7201a8\"],[0.3333333333333333,\"#9c179e\"],[0.4444444444444444,\"#bd3786\"],[0.5555555555555556,\"#d8576b\"],[0.6666666666666666,\"#ed7953\"],[0.7777777777777778,\"#fb9f3a\"],[0.8888888888888888,\"#fdca26\"],[1.0,\"#f0f921\"]]}],\"mesh3d\":[{\"type\":\"mesh3d\",\"colorbar\":{\"outlinewidth\":0,\"ticks\":\"\"}}],\"scatter\":[{\"fillpattern\":{\"fillmode\":\"overlay\",\"size\":10,\"solidity\":0.2},\"type\":\"scatter\"}],\"parcoords\":[{\"type\":\"parcoords\",\"line\":{\"colorbar\":{\"outlinewidth\":0,\"ticks\":\"\"}}}],\"scatterpolargl\":[{\"type\":\"scatterpolargl\",\"marker\":{\"colorbar\":{\"outlinewidth\":0,\"ticks\":\"\"}}}],\"bar\":[{\"error_x\":{\"color\":\"#2a3f5f\"},\"error_y\":{\"color\":\"#2a3f5f\"},\"marker\":{\"line\":{\"color\":\"#E5ECF6\",\"width\":0.5},\"pattern\":{\"fillmode\":\"overlay\",\"size\":10,\"solidity\":0.2}},\"type\":\"bar\"}],\"scattergeo\":[{\"type\":\"scattergeo\",\"marker\":{\"colorbar\":{\"outlinewidth\":0,\"ticks\":\"\"}}}],\"scatterpolar\":[{\"type\":\"scatterpolar\",\"marker\":{\"colorbar\":{\"outlinewidth\":0,\"ticks\":\"\"}}}],\"histogram\":[{\"marker\":{\"pattern\":{\"fillmode\":\"overlay\",\"size\":10,\"solidity\":0.2}},\"type\":\"histogram\"}],\"scattergl\":[{\"type\":\"scattergl\",\"marker\":{\"colorbar\":{\"outlinewidth\":0,\"ticks\":\"\"}}}],\"scatter3d\":[{\"type\":\"scatter3d\",\"line\":{\"colorbar\":{\"outlinewidth\":0,\"ticks\":\"\"}},\"marker\":{\"colorbar\":{\"outlinewidth\":0,\"ticks\":\"\"}}}],\"scattermapbox\":[{\"type\":\"scattermapbox\",\"marker\":{\"colorbar\":{\"outlinewidth\":0,\"ticks\":\"\"}}}],\"scatterternary\":[{\"type\":\"scatterternary\",\"marker\":{\"colorbar\":{\"outlinewidth\":0,\"ticks\":\"\"}}}],\"scattercarpet\":[{\"type\":\"scattercarpet\",\"marker\":{\"colorbar\":{\"outlinewidth\":0,\"ticks\":\"\"}}}],\"carpet\":[{\"aaxis\":{\"endlinecolor\":\"#2a3f5f\",\"gridcolor\":\"white\",\"linecolor\":\"white\",\"minorgridcolor\":\"white\",\"startlinecolor\":\"#2a3f5f\"},\"baxis\":{\"endlinecolor\":\"#2a3f5f\",\"gridcolor\":\"white\",\"linecolor\":\"white\",\"minorgridcolor\":\"white\",\"startlinecolor\":\"#2a3f5f\"},\"type\":\"carpet\"}],\"table\":[{\"cells\":{\"fill\":{\"color\":\"#EBF0F8\"},\"line\":{\"color\":\"white\"}},\"header\":{\"fill\":{\"color\":\"#C8D4E3\"},\"line\":{\"color\":\"white\"}},\"type\":\"table\"}],\"barpolar\":[{\"marker\":{\"line\":{\"color\":\"#E5ECF6\",\"width\":0.5},\"pattern\":{\"fillmode\":\"overlay\",\"size\":10,\"solidity\":0.2}},\"type\":\"barpolar\"}],\"pie\":[{\"automargin\":true,\"type\":\"pie\"}]},\"layout\":{\"autotypenumbers\":\"strict\",\"colorway\":[\"#636efa\",\"#EF553B\",\"#00cc96\",\"#ab63fa\",\"#FFA15A\",\"#19d3f3\",\"#FF6692\",\"#B6E880\",\"#FF97FF\",\"#FECB52\"],\"font\":{\"color\":\"#2a3f5f\"},\"hovermode\":\"closest\",\"hoverlabel\":{\"align\":\"left\"},\"paper_bgcolor\":\"white\",\"plot_bgcolor\":\"#E5ECF6\",\"polar\":{\"bgcolor\":\"#E5ECF6\",\"angularaxis\":{\"gridcolor\":\"white\",\"linecolor\":\"white\",\"ticks\":\"\"},\"radialaxis\":{\"gridcolor\":\"white\",\"linecolor\":\"white\",\"ticks\":\"\"}},\"ternary\":{\"bgcolor\":\"#E5ECF6\",\"aaxis\":{\"gridcolor\":\"white\",\"linecolor\":\"white\",\"ticks\":\"\"},\"baxis\":{\"gridcolor\":\"white\",\"linecolor\":\"white\",\"ticks\":\"\"},\"caxis\":{\"gridcolor\":\"white\",\"linecolor\":\"white\",\"ticks\":\"\"}},\"coloraxis\":{\"colorbar\":{\"outlinewidth\":0,\"ticks\":\"\"}},\"colorscale\":{\"sequential\":[[0.0,\"#0d0887\"],[0.1111111111111111,\"#46039f\"],[0.2222222222222222,\"#7201a8\"],[0.3333333333333333,\"#9c179e\"],[0.4444444444444444,\"#bd3786\"],[0.5555555555555556,\"#d8576b\"],[0.6666666666666666,\"#ed7953\"],[0.7777777777777778,\"#fb9f3a\"],[0.8888888888888888,\"#fdca26\"],[1.0,\"#f0f921\"]],\"sequentialminus\":[[0.0,\"#0d0887\"],[0.1111111111111111,\"#46039f\"],[0.2222222222222222,\"#7201a8\"],[0.3333333333333333,\"#9c179e\"],[0.4444444444444444,\"#bd3786\"],[0.5555555555555556,\"#d8576b\"],[0.6666666666666666,\"#ed7953\"],[0.7777777777777778,\"#fb9f3a\"],[0.8888888888888888,\"#fdca26\"],[1.0,\"#f0f921\"]],\"diverging\":[[0,\"#8e0152\"],[0.1,\"#c51b7d\"],[0.2,\"#de77ae\"],[0.3,\"#f1b6da\"],[0.4,\"#fde0ef\"],[0.5,\"#f7f7f7\"],[0.6,\"#e6f5d0\"],[0.7,\"#b8e186\"],[0.8,\"#7fbc41\"],[0.9,\"#4d9221\"],[1,\"#276419\"]]},\"xaxis\":{\"gridcolor\":\"white\",\"linecolor\":\"white\",\"ticks\":\"\",\"title\":{\"standoff\":15},\"zerolinecolor\":\"white\",\"automargin\":true,\"zerolinewidth\":2},\"yaxis\":{\"gridcolor\":\"white\",\"linecolor\":\"white\",\"ticks\":\"\",\"title\":{\"standoff\":15},\"zerolinecolor\":\"white\",\"automargin\":true,\"zerolinewidth\":2},\"scene\":{\"xaxis\":{\"backgroundcolor\":\"#E5ECF6\",\"gridcolor\":\"white\",\"linecolor\":\"white\",\"showbackground\":true,\"ticks\":\"\",\"zerolinecolor\":\"white\",\"gridwidth\":2},\"yaxis\":{\"backgroundcolor\":\"#E5ECF6\",\"gridcolor\":\"white\",\"linecolor\":\"white\",\"showbackground\":true,\"ticks\":\"\",\"zerolinecolor\":\"white\",\"gridwidth\":2},\"zaxis\":{\"backgroundcolor\":\"#E5ECF6\",\"gridcolor\":\"white\",\"linecolor\":\"white\",\"showbackground\":true,\"ticks\":\"\",\"zerolinecolor\":\"white\",\"gridwidth\":2}},\"shapedefaults\":{\"line\":{\"color\":\"#2a3f5f\"}},\"annotationdefaults\":{\"arrowcolor\":\"#2a3f5f\",\"arrowhead\":0,\"arrowwidth\":1},\"geo\":{\"bgcolor\":\"white\",\"landcolor\":\"#E5ECF6\",\"subunitcolor\":\"white\",\"showland\":true,\"showlakes\":true,\"lakecolor\":\"white\"},\"title\":{\"x\":0.05},\"mapbox\":{\"style\":\"light\"}}},\"xaxis\":{\"anchor\":\"y\",\"domain\":[0.0,1.0],\"title\":{\"text\":\"Date\"}},\"yaxis\":{\"anchor\":\"x\",\"domain\":[0.0,1.0],\"title\":{\"text\":\"Number of Trips\"}},\"legend\":{\"tracegroupgap\":0},\"margin\":{\"t\":60},\"height\":700,\"title\":{\"font\":{\"family\":\"Arial\",\"size\":20,\"color\":\"#000000\"},\"text\":\"<b>Number of Trips Over Time</b>              <br><i><sup>A visualisation showing the number of trips during 2022 by month (n = 100k)</sup></i>\",\"x\":0.5,\"y\":0.95},\"shapes\":[{\"fillcolor\":\"darkred\",\"line\":{\"width\":0},\"opacity\":0.3,\"type\":\"rect\",\"x0\":\"0\",\"x1\":\"1\",\"xref\":\"x\",\"y0\":0,\"y1\":1,\"yref\":\"y domain\"},{\"fillcolor\":\"darkgreen\",\"line\":{\"width\":0},\"opacity\":0.3,\"type\":\"rect\",\"x0\":\"4\",\"x1\":\"9\",\"xref\":\"x\",\"y0\":0,\"y1\":1,\"yref\":\"y domain\"},{\"line\":{\"color\":\"black\",\"dash\":\"dash\"},\"type\":\"line\",\"x0\":0,\"x1\":1,\"xref\":\"x domain\",\"y0\":8333.333333333334,\"y1\":8333.333333333334,\"yref\":\"y\"}],\"annotations\":[{\"font\":{\"color\":\"black\"},\"showarrow\":false,\"text\":\"Quiet period <br>for first 2 months\",\"textangle\":0,\"x\":0.015,\"xanchor\":\"left\",\"xref\":\"paper\",\"y\":0.3,\"yref\":\"paper\"},{\"font\":{\"color\":\"black\"},\"showarrow\":false,\"text\":\"Busy period between May and October\",\"textangle\":0,\"x\":0.6,\"xref\":\"paper\",\"y\":0.9,\"yref\":\"paper\"},{\"bgcolor\":\"white\",\"bordercolor\":\"black\",\"borderpad\":5,\"font\":{\"color\":\"black\"},\"showarrow\":false,\"text\":\"Average Number of Trips = 8330\",\"textangle\":0,\"x\":0.15,\"xanchor\":\"left\",\"xref\":\"paper\",\"y\":8833.333333333334},{\"font\":{\"color\":\"#000000\"},\"showarrow\":false,\"text\":\"<i>Figure 4 - The Number of Trips by Month</i>\",\"textangle\":0,\"x\":0,\"xanchor\":\"left\",\"xref\":\"paper\",\"y\":-0.1,\"yref\":\"paper\"}]},                        {\"responsive\": true}                    ).then(function(){\n",
              "                            \n",
              "var gd = document.getElementById('ac87a8f9-a392-4bc1-90b3-d9448a83bde7');\n",
              "var x = new MutationObserver(function (mutations, observer) {{\n",
              "        var display = window.getComputedStyle(gd).display;\n",
              "        if (!display || display === 'none') {{\n",
              "            console.log([gd, 'removed!']);\n",
              "            Plotly.purge(gd);\n",
              "            observer.disconnect();\n",
              "        }}\n",
              "}});\n",
              "\n",
              "// Listen for the removal of the full notebook cells\n",
              "var notebookContainer = gd.closest('#notebook-container');\n",
              "if (notebookContainer) {{\n",
              "    x.observe(notebookContainer, {childList: true});\n",
              "}}\n",
              "\n",
              "// Listen for the clearing of the current output cell\n",
              "var outputEl = gd.closest('.output');\n",
              "if (outputEl) {{\n",
              "    x.observe(outputEl, {childList: true});\n",
              "}}\n",
              "\n",
              "                        })                };                            </script>        </div>\n",
              "</body>\n",
              "</html>"
            ]
          },
          "metadata": {}
        },
        {
          "output_type": "execute_result",
          "data": {
            "text/html": [
              "<div>\n",
              "<style scoped>\n",
              "    .dataframe tbody tr th:only-of-type {\n",
              "        vertical-align: middle;\n",
              "    }\n",
              "\n",
              "    .dataframe tbody tr th {\n",
              "        vertical-align: top;\n",
              "    }\n",
              "\n",
              "    .dataframe thead th {\n",
              "        text-align: right;\n",
              "    }\n",
              "</style>\n",
              "<table border=\"1\" class=\"dataframe\">\n",
              "  <thead>\n",
              "    <tr style=\"text-align: right;\">\n",
              "      <th></th>\n",
              "      <th></th>\n",
              "      <th>Number of Trips</th>\n",
              "    </tr>\n",
              "    <tr>\n",
              "      <th>Month</th>\n",
              "      <th>Month Name</th>\n",
              "      <th></th>\n",
              "    </tr>\n",
              "  </thead>\n",
              "  <tbody>\n",
              "    <tr>\n",
              "      <th>1</th>\n",
              "      <th>January</th>\n",
              "      <td>4946</td>\n",
              "    </tr>\n",
              "    <tr>\n",
              "      <th>2</th>\n",
              "      <th>February</th>\n",
              "      <td>5943</td>\n",
              "    </tr>\n",
              "    <tr>\n",
              "      <th>3</th>\n",
              "      <th>March</th>\n",
              "      <td>7963</td>\n",
              "    </tr>\n",
              "    <tr>\n",
              "      <th>4</th>\n",
              "      <th>April</th>\n",
              "      <td>8282</td>\n",
              "    </tr>\n",
              "    <tr>\n",
              "      <th>5</th>\n",
              "      <th>May</th>\n",
              "      <td>9076</td>\n",
              "    </tr>\n",
              "    <tr>\n",
              "      <th>6</th>\n",
              "      <th>June</th>\n",
              "      <td>9932</td>\n",
              "    </tr>\n",
              "    <tr>\n",
              "      <th>7</th>\n",
              "      <th>July</th>\n",
              "      <td>8888</td>\n",
              "    </tr>\n",
              "    <tr>\n",
              "      <th>8</th>\n",
              "      <th>August</th>\n",
              "      <td>9162</td>\n",
              "    </tr>\n",
              "    <tr>\n",
              "      <th>9</th>\n",
              "      <th>September</th>\n",
              "      <td>9453</td>\n",
              "    </tr>\n",
              "    <tr>\n",
              "      <th>10</th>\n",
              "      <th>October</th>\n",
              "      <td>9471</td>\n",
              "    </tr>\n",
              "    <tr>\n",
              "      <th>11</th>\n",
              "      <th>November</th>\n",
              "      <td>8592</td>\n",
              "    </tr>\n",
              "    <tr>\n",
              "      <th>12</th>\n",
              "      <th>December</th>\n",
              "      <td>8292</td>\n",
              "    </tr>\n",
              "  </tbody>\n",
              "</table>\n",
              "</div>"
            ],
            "application/vnd.google.colaboratory.module+javascript": "\n      import \"https://ssl.gstatic.com/colaboratory/data_table/99dac6621f6ae8c4/data_table.js\";\n\n      window.createDataTable({\n        data: [[{\n            'v': 1,\n            'f': \"1\",\n        },\n\"January\",\n{\n            'v': 4946,\n            'f': \"4946\",\n        }],\n [{\n            'v': 2,\n            'f': \"2\",\n        },\n\"February\",\n{\n            'v': 5943,\n            'f': \"5943\",\n        }],\n [{\n            'v': 3,\n            'f': \"3\",\n        },\n\"March\",\n{\n            'v': 7963,\n            'f': \"7963\",\n        }],\n [{\n            'v': 4,\n            'f': \"4\",\n        },\n\"April\",\n{\n            'v': 8282,\n            'f': \"8282\",\n        }],\n [{\n            'v': 5,\n            'f': \"5\",\n        },\n\"May\",\n{\n            'v': 9076,\n            'f': \"9076\",\n        }],\n [{\n            'v': 6,\n            'f': \"6\",\n        },\n\"June\",\n{\n            'v': 9932,\n            'f': \"9932\",\n        }],\n [{\n            'v': 7,\n            'f': \"7\",\n        },\n\"July\",\n{\n            'v': 8888,\n            'f': \"8888\",\n        }],\n [{\n            'v': 8,\n            'f': \"8\",\n        },\n\"August\",\n{\n            'v': 9162,\n            'f': \"9162\",\n        }],\n [{\n            'v': 9,\n            'f': \"9\",\n        },\n\"September\",\n{\n            'v': 9453,\n            'f': \"9453\",\n        }],\n [{\n            'v': 10,\n            'f': \"10\",\n        },\n\"October\",\n{\n            'v': 9471,\n            'f': \"9471\",\n        }],\n [{\n            'v': 11,\n            'f': \"11\",\n        },\n\"November\",\n{\n            'v': 8592,\n            'f': \"8592\",\n        }],\n [{\n            'v': 12,\n            'f': \"12\",\n        },\n\"December\",\n{\n            'v': 8292,\n            'f': \"8292\",\n        }]],\n        columns: [[\"number\", \"Month\"], [\"string\", \"Month Name\"], [\"number\", \"Number of Trips\"]],\n        columnOptions: [{\"width\": \"1px\", \"className\": \"index_column\"}, {\"width\": \"1px\", \"className\": \"index_column\"}],\n        rowsPerPage: 25,\n        helpUrl: \"https://colab.research.google.com/notebooks/data_table.ipynb\",\n        suppressOutputScrolling: true,\n        minimumWidth: undefined,\n      });\n    ",
            "text/plain": [
              "<google.colab.data_table.DataTable object>"
            ]
          },
          "metadata": {},
          "execution_count": 18
        }
      ]
    },
    {
      "cell_type": "code",
      "source": [
        "#@title Analysis\n",
        "display(Markdown(f\"###Figure 4 shows that May to October represents a busy period for the highest number of trips whereas January and February are irregularly low. This could be due to weather having an impact (although December is still around average), or potentially some data issues, to investigate further I would review previous years data to see if the trend matches.\"))"
      ],
      "metadata": {
        "colab": {
          "base_uri": "https://localhost:8080/",
          "height": 98
        },
        "cellView": "form",
        "id": "Yls9Vpb5Zqmw",
        "outputId": "af9ec8db-02c2-4d71-dc77-31609226264e"
      },
      "id": "Yls9Vpb5Zqmw",
      "execution_count": null,
      "outputs": [
        {
          "output_type": "display_data",
          "data": {
            "text/plain": [
              "<IPython.core.display.Markdown object>"
            ],
            "text/markdown": "###Figure 4 shows that May to October represents a busy period for the highest number of trips whereas January and February are irregularly low. This could be due to weather having an impact (although December is still around average), or potentially some data issues, to investigate further I would review previous years data to see if the trend matches."
          },
          "metadata": {}
        }
      ]
    },
    {
      "cell_type": "markdown",
      "source": [
        "### **<h3>Day of the Week</h3>**"
      ],
      "metadata": {
        "id": "bZCi6F2vblm3"
      },
      "id": "bZCi6F2vblm3"
    },
    {
      "cell_type": "markdown",
      "source": [
        "Does the Day of the Week affect the amount of trips?<br><br>\n",
        "Using the trip_start_timestamp column we can create a days of the week column to group the unique_keys by. This will show the number of trips per day as required, but it would also be interesting to the see the number of trips as a percentage of the grand total. To do this I will create another column for the analysis."
      ],
      "metadata": {
        "id": "yqkTUp5ZZRjZ"
      },
      "id": "yqkTUp5ZZRjZ"
    },
    {
      "cell_type": "code",
      "source": [
        "#@title Day of the Week vs Number of Trips Code\n",
        "df_weekday = df_random\n",
        "#Add a column for day of the week (integer) based on the trip start timestamp column\n",
        "df_weekday['Day (int)'] = df_weekday['trip_start_timestamp'].dt.weekday\n",
        "#Add a column for day of the week based on the trip start timestamp column\n",
        "df_weekday['Day'] = df_weekday['trip_start_timestamp'].dt.day_name()\n",
        "#Groupby the newly added columns, aggregating the number of trips per day based on the unique key column\n",
        "df_weekday = df_weekday.groupby(['Day (int)','Day']).agg({'unique_key':'nunique'})\n",
        "#Add a column for % of Total Trips based on the 100k sample size\n",
        "df_weekday['% of Total Trips'] = 100*df_weekday['unique_key']/df_weekday['unique_key'].sum()\n",
        "#Format the new column to 2 decimal places\n",
        "df_weekday = df_weekday.round({'% of Total Trips':2})\n",
        "#Rename columns for table output\n",
        "df_weekday = df_weekday.rename(columns={'unique_key':'Number of Trips'})\n",
        "#Sort columns by day of the week Monday first\n",
        "df_weekday = df_weekday.sort_values(by=['Day (int)'],ascending=True).reset_index(drop=False)\n",
        "\n",
        "#variables for the analysis paragraph\n",
        "thurs = df_weekday['Number of Trips'].iloc[3]\n",
        "fri = df_weekday['Number of Trips'].iloc[4]\n",
        "\n",
        "#Create bar chart of number of trips by week day\n",
        "trace1 = go.Bar(\n",
        "    x=df_weekday['Day'],\n",
        "    y=df_weekday['Number of Trips'],\n",
        "    name = 'No. Trips',\n",
        "    marker=dict(\n",
        "        color='rgb(34,163,192)'\n",
        "               )\n",
        ")\n",
        "#Create line chart of the % of Total Trips by Day\n",
        "trace2 = go.Scatter(\n",
        "    x=df_weekday['Day'],\n",
        "    y=df_weekday['% of Total Trips'],\n",
        "    name='% of Total Trips',\n",
        "    yaxis='y2'\n",
        "\n",
        ")\n",
        "#Combine both charts\n",
        "fig = make_subplots(specs=[[{\"secondary_y\": True}]])\n",
        "fig.add_trace(trace1)\n",
        "fig.add_trace(trace2,secondary_y=True)\n",
        "fig.update_layout(\n",
        "    title=dict(\n",
        "        text='<b>Day of the Week vs Number of Trips</b>\\\n",
        "              <br><i><sup>A visualisation showing the number of trips by day of the week (n = 100k)</sup></i>',\n",
        "        x=0.5,\n",
        "        y=0.95,\n",
        "        font=dict(\n",
        "            family=\"Arial\",\n",
        "            size=20,\n",
        "            color='#000000'\n",
        "        )))\n",
        "#Add average number of trips line\n",
        "fig.add_hline(y=df_weekday['Number of Trips'].mean(),\n",
        "              line_dash='dash',\n",
        "              line_color='black')\n",
        "# Add explanation of line:\n",
        "fig.add_annotation(x=.75,\n",
        "                    y=0.95,\n",
        "                    text=\"Average Number of Trips = \" + str(int(round(df_weekday['Number of Trips'].mean(),-1))),\n",
        "                    textangle=0,\n",
        "                    xanchor='left',\n",
        "                    xref=\"paper\",\n",
        "                    yref=\"paper\",\n",
        "                    font_color='black',\n",
        "                    bordercolor='black',\n",
        "                    borderpad=5,\n",
        "                    showarrow=False,\n",
        "                    bgcolor='white',\n",
        "                    )\n",
        "# Add figure annotation:\n",
        "fig.add_annotation(x=0,\n",
        "                    y=-0.15,\n",
        "                    showarrow=False,\n",
        "                    text=\"<i>Figure 5 - The Number of Trips by Day of the Week including % of Total Trips</i>\",\n",
        "                    textangle=0,\n",
        "                    xanchor='left',\n",
        "                    xref=\"paper\",\n",
        "                    yref=\"paper\",\n",
        "                    font_color='#000000')\n",
        "\n",
        "#Show the combined charts\n",
        "fig.show()\n",
        "\n",
        "#Display table\n",
        "data_table.DataTable(df_weekday, include_index=True)"
      ],
      "metadata": {
        "colab": {
          "base_uri": "https://localhost:8080/",
          "height": 765
        },
        "id": "K7cr1jI6g56_",
        "outputId": "00494eef-efec-4070-9271-804a93759fad",
        "cellView": "form"
      },
      "id": "K7cr1jI6g56_",
      "execution_count": null,
      "outputs": [
        {
          "output_type": "display_data",
          "data": {
            "text/html": [
              "<html>\n",
              "<head><meta charset=\"utf-8\" /></head>\n",
              "<body>\n",
              "    <div>            <script src=\"https://cdnjs.cloudflare.com/ajax/libs/mathjax/2.7.5/MathJax.js?config=TeX-AMS-MML_SVG\"></script><script type=\"text/javascript\">if (window.MathJax && window.MathJax.Hub && window.MathJax.Hub.Config) {window.MathJax.Hub.Config({SVG: {font: \"STIX-Web\"}});}</script>                <script type=\"text/javascript\">window.PlotlyConfig = {MathJaxConfig: 'local'};</script>\n",
              "        <script src=\"https://cdn.plot.ly/plotly-2.18.2.min.js\"></script>                <div id=\"b71af1cf-4ea2-43d3-97f7-d6632b3ce297\" class=\"plotly-graph-div\" style=\"height:525px; width:100%;\"></div>            <script type=\"text/javascript\">                                    window.PLOTLYENV=window.PLOTLYENV || {};                                    if (document.getElementById(\"b71af1cf-4ea2-43d3-97f7-d6632b3ce297\")) {                    Plotly.newPlot(                        \"b71af1cf-4ea2-43d3-97f7-d6632b3ce297\",                        [{\"marker\":{\"color\":\"rgb(34,163,192)\"},\"name\":\"No. Trips\",\"x\":[\"Monday\",\"Tuesday\",\"Wednesday\",\"Thursday\",\"Friday\",\"Saturday\",\"Sunday\"],\"y\":[13568,14933,15561,15884,16007,13207,10840],\"type\":\"bar\"},{\"name\":\"% of Total Trips\",\"x\":[\"Monday\",\"Tuesday\",\"Wednesday\",\"Thursday\",\"Friday\",\"Saturday\",\"Sunday\"],\"y\":[13.57,14.93,15.56,15.88,16.01,13.21,10.84],\"yaxis\":\"y2\",\"type\":\"scatter\",\"xaxis\":\"x\"}],                        {\"template\":{\"data\":{\"histogram2dcontour\":[{\"type\":\"histogram2dcontour\",\"colorbar\":{\"outlinewidth\":0,\"ticks\":\"\"},\"colorscale\":[[0.0,\"#0d0887\"],[0.1111111111111111,\"#46039f\"],[0.2222222222222222,\"#7201a8\"],[0.3333333333333333,\"#9c179e\"],[0.4444444444444444,\"#bd3786\"],[0.5555555555555556,\"#d8576b\"],[0.6666666666666666,\"#ed7953\"],[0.7777777777777778,\"#fb9f3a\"],[0.8888888888888888,\"#fdca26\"],[1.0,\"#f0f921\"]]}],\"choropleth\":[{\"type\":\"choropleth\",\"colorbar\":{\"outlinewidth\":0,\"ticks\":\"\"}}],\"histogram2d\":[{\"type\":\"histogram2d\",\"colorbar\":{\"outlinewidth\":0,\"ticks\":\"\"},\"colorscale\":[[0.0,\"#0d0887\"],[0.1111111111111111,\"#46039f\"],[0.2222222222222222,\"#7201a8\"],[0.3333333333333333,\"#9c179e\"],[0.4444444444444444,\"#bd3786\"],[0.5555555555555556,\"#d8576b\"],[0.6666666666666666,\"#ed7953\"],[0.7777777777777778,\"#fb9f3a\"],[0.8888888888888888,\"#fdca26\"],[1.0,\"#f0f921\"]]}],\"heatmap\":[{\"type\":\"heatmap\",\"colorbar\":{\"outlinewidth\":0,\"ticks\":\"\"},\"colorscale\":[[0.0,\"#0d0887\"],[0.1111111111111111,\"#46039f\"],[0.2222222222222222,\"#7201a8\"],[0.3333333333333333,\"#9c179e\"],[0.4444444444444444,\"#bd3786\"],[0.5555555555555556,\"#d8576b\"],[0.6666666666666666,\"#ed7953\"],[0.7777777777777778,\"#fb9f3a\"],[0.8888888888888888,\"#fdca26\"],[1.0,\"#f0f921\"]]}],\"heatmapgl\":[{\"type\":\"heatmapgl\",\"colorbar\":{\"outlinewidth\":0,\"ticks\":\"\"},\"colorscale\":[[0.0,\"#0d0887\"],[0.1111111111111111,\"#46039f\"],[0.2222222222222222,\"#7201a8\"],[0.3333333333333333,\"#9c179e\"],[0.4444444444444444,\"#bd3786\"],[0.5555555555555556,\"#d8576b\"],[0.6666666666666666,\"#ed7953\"],[0.7777777777777778,\"#fb9f3a\"],[0.8888888888888888,\"#fdca26\"],[1.0,\"#f0f921\"]]}],\"contourcarpet\":[{\"type\":\"contourcarpet\",\"colorbar\":{\"outlinewidth\":0,\"ticks\":\"\"}}],\"contour\":[{\"type\":\"contour\",\"colorbar\":{\"outlinewidth\":0,\"ticks\":\"\"},\"colorscale\":[[0.0,\"#0d0887\"],[0.1111111111111111,\"#46039f\"],[0.2222222222222222,\"#7201a8\"],[0.3333333333333333,\"#9c179e\"],[0.4444444444444444,\"#bd3786\"],[0.5555555555555556,\"#d8576b\"],[0.6666666666666666,\"#ed7953\"],[0.7777777777777778,\"#fb9f3a\"],[0.8888888888888888,\"#fdca26\"],[1.0,\"#f0f921\"]]}],\"surface\":[{\"type\":\"surface\",\"colorbar\":{\"outlinewidth\":0,\"ticks\":\"\"},\"colorscale\":[[0.0,\"#0d0887\"],[0.1111111111111111,\"#46039f\"],[0.2222222222222222,\"#7201a8\"],[0.3333333333333333,\"#9c179e\"],[0.4444444444444444,\"#bd3786\"],[0.5555555555555556,\"#d8576b\"],[0.6666666666666666,\"#ed7953\"],[0.7777777777777778,\"#fb9f3a\"],[0.8888888888888888,\"#fdca26\"],[1.0,\"#f0f921\"]]}],\"mesh3d\":[{\"type\":\"mesh3d\",\"colorbar\":{\"outlinewidth\":0,\"ticks\":\"\"}}],\"scatter\":[{\"fillpattern\":{\"fillmode\":\"overlay\",\"size\":10,\"solidity\":0.2},\"type\":\"scatter\"}],\"parcoords\":[{\"type\":\"parcoords\",\"line\":{\"colorbar\":{\"outlinewidth\":0,\"ticks\":\"\"}}}],\"scatterpolargl\":[{\"type\":\"scatterpolargl\",\"marker\":{\"colorbar\":{\"outlinewidth\":0,\"ticks\":\"\"}}}],\"bar\":[{\"error_x\":{\"color\":\"#2a3f5f\"},\"error_y\":{\"color\":\"#2a3f5f\"},\"marker\":{\"line\":{\"color\":\"#E5ECF6\",\"width\":0.5},\"pattern\":{\"fillmode\":\"overlay\",\"size\":10,\"solidity\":0.2}},\"type\":\"bar\"}],\"scattergeo\":[{\"type\":\"scattergeo\",\"marker\":{\"colorbar\":{\"outlinewidth\":0,\"ticks\":\"\"}}}],\"scatterpolar\":[{\"type\":\"scatterpolar\",\"marker\":{\"colorbar\":{\"outlinewidth\":0,\"ticks\":\"\"}}}],\"histogram\":[{\"marker\":{\"pattern\":{\"fillmode\":\"overlay\",\"size\":10,\"solidity\":0.2}},\"type\":\"histogram\"}],\"scattergl\":[{\"type\":\"scattergl\",\"marker\":{\"colorbar\":{\"outlinewidth\":0,\"ticks\":\"\"}}}],\"scatter3d\":[{\"type\":\"scatter3d\",\"line\":{\"colorbar\":{\"outlinewidth\":0,\"ticks\":\"\"}},\"marker\":{\"colorbar\":{\"outlinewidth\":0,\"ticks\":\"\"}}}],\"scattermapbox\":[{\"type\":\"scattermapbox\",\"marker\":{\"colorbar\":{\"outlinewidth\":0,\"ticks\":\"\"}}}],\"scatterternary\":[{\"type\":\"scatterternary\",\"marker\":{\"colorbar\":{\"outlinewidth\":0,\"ticks\":\"\"}}}],\"scattercarpet\":[{\"type\":\"scattercarpet\",\"marker\":{\"colorbar\":{\"outlinewidth\":0,\"ticks\":\"\"}}}],\"carpet\":[{\"aaxis\":{\"endlinecolor\":\"#2a3f5f\",\"gridcolor\":\"white\",\"linecolor\":\"white\",\"minorgridcolor\":\"white\",\"startlinecolor\":\"#2a3f5f\"},\"baxis\":{\"endlinecolor\":\"#2a3f5f\",\"gridcolor\":\"white\",\"linecolor\":\"white\",\"minorgridcolor\":\"white\",\"startlinecolor\":\"#2a3f5f\"},\"type\":\"carpet\"}],\"table\":[{\"cells\":{\"fill\":{\"color\":\"#EBF0F8\"},\"line\":{\"color\":\"white\"}},\"header\":{\"fill\":{\"color\":\"#C8D4E3\"},\"line\":{\"color\":\"white\"}},\"type\":\"table\"}],\"barpolar\":[{\"marker\":{\"line\":{\"color\":\"#E5ECF6\",\"width\":0.5},\"pattern\":{\"fillmode\":\"overlay\",\"size\":10,\"solidity\":0.2}},\"type\":\"barpolar\"}],\"pie\":[{\"automargin\":true,\"type\":\"pie\"}]},\"layout\":{\"autotypenumbers\":\"strict\",\"colorway\":[\"#636efa\",\"#EF553B\",\"#00cc96\",\"#ab63fa\",\"#FFA15A\",\"#19d3f3\",\"#FF6692\",\"#B6E880\",\"#FF97FF\",\"#FECB52\"],\"font\":{\"color\":\"#2a3f5f\"},\"hovermode\":\"closest\",\"hoverlabel\":{\"align\":\"left\"},\"paper_bgcolor\":\"white\",\"plot_bgcolor\":\"#E5ECF6\",\"polar\":{\"bgcolor\":\"#E5ECF6\",\"angularaxis\":{\"gridcolor\":\"white\",\"linecolor\":\"white\",\"ticks\":\"\"},\"radialaxis\":{\"gridcolor\":\"white\",\"linecolor\":\"white\",\"ticks\":\"\"}},\"ternary\":{\"bgcolor\":\"#E5ECF6\",\"aaxis\":{\"gridcolor\":\"white\",\"linecolor\":\"white\",\"ticks\":\"\"},\"baxis\":{\"gridcolor\":\"white\",\"linecolor\":\"white\",\"ticks\":\"\"},\"caxis\":{\"gridcolor\":\"white\",\"linecolor\":\"white\",\"ticks\":\"\"}},\"coloraxis\":{\"colorbar\":{\"outlinewidth\":0,\"ticks\":\"\"}},\"colorscale\":{\"sequential\":[[0.0,\"#0d0887\"],[0.1111111111111111,\"#46039f\"],[0.2222222222222222,\"#7201a8\"],[0.3333333333333333,\"#9c179e\"],[0.4444444444444444,\"#bd3786\"],[0.5555555555555556,\"#d8576b\"],[0.6666666666666666,\"#ed7953\"],[0.7777777777777778,\"#fb9f3a\"],[0.8888888888888888,\"#fdca26\"],[1.0,\"#f0f921\"]],\"sequentialminus\":[[0.0,\"#0d0887\"],[0.1111111111111111,\"#46039f\"],[0.2222222222222222,\"#7201a8\"],[0.3333333333333333,\"#9c179e\"],[0.4444444444444444,\"#bd3786\"],[0.5555555555555556,\"#d8576b\"],[0.6666666666666666,\"#ed7953\"],[0.7777777777777778,\"#fb9f3a\"],[0.8888888888888888,\"#fdca26\"],[1.0,\"#f0f921\"]],\"diverging\":[[0,\"#8e0152\"],[0.1,\"#c51b7d\"],[0.2,\"#de77ae\"],[0.3,\"#f1b6da\"],[0.4,\"#fde0ef\"],[0.5,\"#f7f7f7\"],[0.6,\"#e6f5d0\"],[0.7,\"#b8e186\"],[0.8,\"#7fbc41\"],[0.9,\"#4d9221\"],[1,\"#276419\"]]},\"xaxis\":{\"gridcolor\":\"white\",\"linecolor\":\"white\",\"ticks\":\"\",\"title\":{\"standoff\":15},\"zerolinecolor\":\"white\",\"automargin\":true,\"zerolinewidth\":2},\"yaxis\":{\"gridcolor\":\"white\",\"linecolor\":\"white\",\"ticks\":\"\",\"title\":{\"standoff\":15},\"zerolinecolor\":\"white\",\"automargin\":true,\"zerolinewidth\":2},\"scene\":{\"xaxis\":{\"backgroundcolor\":\"#E5ECF6\",\"gridcolor\":\"white\",\"linecolor\":\"white\",\"showbackground\":true,\"ticks\":\"\",\"zerolinecolor\":\"white\",\"gridwidth\":2},\"yaxis\":{\"backgroundcolor\":\"#E5ECF6\",\"gridcolor\":\"white\",\"linecolor\":\"white\",\"showbackground\":true,\"ticks\":\"\",\"zerolinecolor\":\"white\",\"gridwidth\":2},\"zaxis\":{\"backgroundcolor\":\"#E5ECF6\",\"gridcolor\":\"white\",\"linecolor\":\"white\",\"showbackground\":true,\"ticks\":\"\",\"zerolinecolor\":\"white\",\"gridwidth\":2}},\"shapedefaults\":{\"line\":{\"color\":\"#2a3f5f\"}},\"annotationdefaults\":{\"arrowcolor\":\"#2a3f5f\",\"arrowhead\":0,\"arrowwidth\":1},\"geo\":{\"bgcolor\":\"white\",\"landcolor\":\"#E5ECF6\",\"subunitcolor\":\"white\",\"showland\":true,\"showlakes\":true,\"lakecolor\":\"white\"},\"title\":{\"x\":0.05},\"mapbox\":{\"style\":\"light\"}}},\"xaxis\":{\"anchor\":\"y\",\"domain\":[0.0,0.94]},\"yaxis\":{\"anchor\":\"x\",\"domain\":[0.0,1.0]},\"yaxis2\":{\"anchor\":\"x\",\"overlaying\":\"y\",\"side\":\"right\"},\"title\":{\"font\":{\"family\":\"Arial\",\"size\":20,\"color\":\"#000000\"},\"text\":\"<b>Day of the Week vs Number of Trips</b>              <br><i><sup>A visualisation showing the number of trips by day of the week (n = 100k)</sup></i>\",\"x\":0.5,\"y\":0.95},\"shapes\":[{\"line\":{\"color\":\"black\",\"dash\":\"dash\"},\"type\":\"line\",\"x0\":0,\"x1\":1,\"xref\":\"x domain\",\"y0\":14285.714285714286,\"y1\":14285.714285714286,\"yref\":\"y\"}],\"annotations\":[{\"bgcolor\":\"white\",\"bordercolor\":\"black\",\"borderpad\":5,\"font\":{\"color\":\"black\"},\"showarrow\":false,\"text\":\"Average Number of Trips = 14290\",\"textangle\":0,\"x\":0.75,\"xanchor\":\"left\",\"xref\":\"paper\",\"y\":0.95,\"yref\":\"paper\"},{\"font\":{\"color\":\"#000000\"},\"showarrow\":false,\"text\":\"<i>Figure 5 - The Number of Trips by Day of the Week including % of Total Trips</i>\",\"textangle\":0,\"x\":0,\"xanchor\":\"left\",\"xref\":\"paper\",\"y\":-0.15,\"yref\":\"paper\"}]},                        {\"responsive\": true}                    ).then(function(){\n",
              "                            \n",
              "var gd = document.getElementById('b71af1cf-4ea2-43d3-97f7-d6632b3ce297');\n",
              "var x = new MutationObserver(function (mutations, observer) {{\n",
              "        var display = window.getComputedStyle(gd).display;\n",
              "        if (!display || display === 'none') {{\n",
              "            console.log([gd, 'removed!']);\n",
              "            Plotly.purge(gd);\n",
              "            observer.disconnect();\n",
              "        }}\n",
              "}});\n",
              "\n",
              "// Listen for the removal of the full notebook cells\n",
              "var notebookContainer = gd.closest('#notebook-container');\n",
              "if (notebookContainer) {{\n",
              "    x.observe(notebookContainer, {childList: true});\n",
              "}}\n",
              "\n",
              "// Listen for the clearing of the current output cell\n",
              "var outputEl = gd.closest('.output');\n",
              "if (outputEl) {{\n",
              "    x.observe(outputEl, {childList: true});\n",
              "}}\n",
              "\n",
              "                        })                };                            </script>        </div>\n",
              "</body>\n",
              "</html>"
            ]
          },
          "metadata": {}
        },
        {
          "output_type": "execute_result",
          "data": {
            "text/html": [
              "<div>\n",
              "<style scoped>\n",
              "    .dataframe tbody tr th:only-of-type {\n",
              "        vertical-align: middle;\n",
              "    }\n",
              "\n",
              "    .dataframe tbody tr th {\n",
              "        vertical-align: top;\n",
              "    }\n",
              "\n",
              "    .dataframe thead th {\n",
              "        text-align: right;\n",
              "    }\n",
              "</style>\n",
              "<table border=\"1\" class=\"dataframe\">\n",
              "  <thead>\n",
              "    <tr style=\"text-align: right;\">\n",
              "      <th></th>\n",
              "      <th>Day (int)</th>\n",
              "      <th>Day</th>\n",
              "      <th>Number of Trips</th>\n",
              "      <th>% of Total Trips</th>\n",
              "    </tr>\n",
              "  </thead>\n",
              "  <tbody>\n",
              "    <tr>\n",
              "      <th>0</th>\n",
              "      <td>0</td>\n",
              "      <td>Monday</td>\n",
              "      <td>13568</td>\n",
              "      <td>13.57</td>\n",
              "    </tr>\n",
              "    <tr>\n",
              "      <th>1</th>\n",
              "      <td>1</td>\n",
              "      <td>Tuesday</td>\n",
              "      <td>14933</td>\n",
              "      <td>14.93</td>\n",
              "    </tr>\n",
              "    <tr>\n",
              "      <th>2</th>\n",
              "      <td>2</td>\n",
              "      <td>Wednesday</td>\n",
              "      <td>15561</td>\n",
              "      <td>15.56</td>\n",
              "    </tr>\n",
              "    <tr>\n",
              "      <th>3</th>\n",
              "      <td>3</td>\n",
              "      <td>Thursday</td>\n",
              "      <td>15884</td>\n",
              "      <td>15.88</td>\n",
              "    </tr>\n",
              "    <tr>\n",
              "      <th>4</th>\n",
              "      <td>4</td>\n",
              "      <td>Friday</td>\n",
              "      <td>16007</td>\n",
              "      <td>16.01</td>\n",
              "    </tr>\n",
              "    <tr>\n",
              "      <th>5</th>\n",
              "      <td>5</td>\n",
              "      <td>Saturday</td>\n",
              "      <td>13207</td>\n",
              "      <td>13.21</td>\n",
              "    </tr>\n",
              "    <tr>\n",
              "      <th>6</th>\n",
              "      <td>6</td>\n",
              "      <td>Sunday</td>\n",
              "      <td>10840</td>\n",
              "      <td>10.84</td>\n",
              "    </tr>\n",
              "  </tbody>\n",
              "</table>\n",
              "</div>"
            ],
            "application/vnd.google.colaboratory.module+javascript": "\n      import \"https://ssl.gstatic.com/colaboratory/data_table/99dac6621f6ae8c4/data_table.js\";\n\n      window.createDataTable({\n        data: [[{\n            'v': 0,\n            'f': \"0\",\n        },\n{\n            'v': 0,\n            'f': \"0\",\n        },\n\"Monday\",\n{\n            'v': 13568,\n            'f': \"13568\",\n        },\n{\n            'v': 13.57,\n            'f': \"13.57\",\n        }],\n [{\n            'v': 1,\n            'f': \"1\",\n        },\n{\n            'v': 1,\n            'f': \"1\",\n        },\n\"Tuesday\",\n{\n            'v': 14933,\n            'f': \"14933\",\n        },\n{\n            'v': 14.93,\n            'f': \"14.93\",\n        }],\n [{\n            'v': 2,\n            'f': \"2\",\n        },\n{\n            'v': 2,\n            'f': \"2\",\n        },\n\"Wednesday\",\n{\n            'v': 15561,\n            'f': \"15561\",\n        },\n{\n            'v': 15.56,\n            'f': \"15.56\",\n        }],\n [{\n            'v': 3,\n            'f': \"3\",\n        },\n{\n            'v': 3,\n            'f': \"3\",\n        },\n\"Thursday\",\n{\n            'v': 15884,\n            'f': \"15884\",\n        },\n{\n            'v': 15.88,\n            'f': \"15.88\",\n        }],\n [{\n            'v': 4,\n            'f': \"4\",\n        },\n{\n            'v': 4,\n            'f': \"4\",\n        },\n\"Friday\",\n{\n            'v': 16007,\n            'f': \"16007\",\n        },\n{\n            'v': 16.01,\n            'f': \"16.01\",\n        }],\n [{\n            'v': 5,\n            'f': \"5\",\n        },\n{\n            'v': 5,\n            'f': \"5\",\n        },\n\"Saturday\",\n{\n            'v': 13207,\n            'f': \"13207\",\n        },\n{\n            'v': 13.21,\n            'f': \"13.21\",\n        }],\n [{\n            'v': 6,\n            'f': \"6\",\n        },\n{\n            'v': 6,\n            'f': \"6\",\n        },\n\"Sunday\",\n{\n            'v': 10840,\n            'f': \"10840\",\n        },\n{\n            'v': 10.84,\n            'f': \"10.84\",\n        }]],\n        columns: [[\"number\", \"index\"], [\"number\", \"Day (int)\"], [\"string\", \"Day\"], [\"number\", \"Number of Trips\"], [\"number\", \"% of Total Trips\"]],\n        columnOptions: [{\"width\": \"1px\", \"className\": \"index_column\"}],\n        rowsPerPage: 25,\n        helpUrl: \"https://colab.research.google.com/notebooks/data_table.ipynb\",\n        suppressOutputScrolling: true,\n        minimumWidth: undefined,\n      });\n    ",
            "text/plain": [
              "<google.colab.data_table.DataTable object>"
            ]
          },
          "metadata": {},
          "execution_count": 20
        }
      ]
    },
    {
      "cell_type": "code",
      "source": [
        "#@title Analysis\n",
        "display(Markdown(f\"###Figure 5 shows that Wednesday, Thursday and Friday have the highest number of trips in the week, all roughly 16000, or 16% of the total trips. There is a steady rise of number of trips throughout the week until the weekend when the demand dips, with Sunday having the lowest trips by a decent margin.\"))\n",
        "display(Markdown(f\"###Having taxi availability through the weekdays seems viable, with a focus towards the end of the work week being prioritised.\"))"
      ],
      "metadata": {
        "colab": {
          "base_uri": "https://localhost:8080/",
          "height": 135
        },
        "id": "NiTnp1uU4qAv",
        "outputId": "e9c86223-fb36-4101-dad5-885169305eb0",
        "cellView": "form"
      },
      "id": "NiTnp1uU4qAv",
      "execution_count": null,
      "outputs": [
        {
          "output_type": "display_data",
          "data": {
            "text/plain": [
              "<IPython.core.display.Markdown object>"
            ],
            "text/markdown": "###Figure 5 shows that Wednesday, Thursday and Friday have the highest number of trips in the week, all roughly 16000, or 16% of the total trips. There is a steady rise of number of trips throughout the week until the weekend when the demand dips, with Sunday having the lowest trips by a decent margin."
          },
          "metadata": {}
        },
        {
          "output_type": "display_data",
          "data": {
            "text/plain": [
              "<IPython.core.display.Markdown object>"
            ],
            "text/markdown": "###Having taxi availability through the weekdays seems viable, with a focus towards the end of the work week being prioritised."
          },
          "metadata": {}
        }
      ]
    },
    {
      "cell_type": "markdown",
      "source": [
        "### **<h3>Time of Day</h3>**"
      ],
      "metadata": {
        "id": "QaJ5jzPm4hOP"
      },
      "id": "QaJ5jzPm4hOP"
    },
    {
      "cell_type": "markdown",
      "source": [
        "How does the time of day affect the number of trips?<br><br>\n",
        "To analyse how the time of day affects the number of trips taken, I will group the trip_start_timestamp column into 12 separate bins. This will equate to two hourly windows to cut the data up into. Next I will aggregate the unique_key column to find the number of trips by two hourly window, as well as creating a column for the percentage of the grand total."
      ],
      "metadata": {
        "id": "wZ5LHy2Cjd_o"
      },
      "id": "wZ5LHy2Cjd_o"
    },
    {
      "cell_type": "code",
      "source": [
        "#@title Time of Day vs Number of Trips Code\n",
        "df_timeofday = df_random\n",
        "\n",
        "# define the bins\n",
        "bins = [0, 2, 4, 6, 8, 10, 12, 14, 16, 18, 20, 22, 24]\n",
        "# add custom labels\n",
        "labels = ['00:00-01:59', '02:00-03:59', '04:00-05:59', '06:00-07:59', '08:00-09:59', '10:00-11:59', '12:00-13:59', '14:00-15:59', '16:00-17:59', '18:00-19:59', '20:00-21:59', '22:00-23:59']\n",
        "# add the bins to the dataframe\n",
        "df_timeofday['Time Bin'] = pd.cut(df_timeofday.trip_start_timestamp.dt.hour, bins, labels=labels, right=False)\n",
        "#Group by Time Bin column\n",
        "df_timeofday = df_timeofday.groupby(['Time Bin'],as_index=False).agg({'unique_key':'nunique','fare':'mean'})\n",
        "#Round the fare and miles formatting to 2 decimal places\n",
        "df_timeofday = df_timeofday.round({'fare':2})\n",
        "#Rename columns for table output\n",
        "df_timeofday = df_timeofday.rename(columns={'unique_key':'Number of Trips','fare':'Average Fare'})\n",
        "#Add a column for % of Total Trips based on the 100k sample size\n",
        "df_timeofday['% of Total Trips'] = 100*df_timeofday['Number of Trips']/df_timeofday['Number of Trips'].sum()\n",
        "#Format the new column to 2 decimal places\n",
        "df_timeofday = df_timeofday.round({'% of Total Trips':2})\n",
        "#Variables for analysis\n",
        "busy_period = df_timeofday.iloc[6]+df_timeofday.iloc[7]+df_timeofday.iloc[8]+df_timeofday.iloc[9]\n",
        "busy_period = busy_period['% of Total Trips'].round(0)\n",
        "busiest = df_timeofday[df_timeofday['% of Total Trips']==df_timeofday['% of Total Trips'].max()]\n",
        "busiest_time = busiest['Time Bin'].iloc[0]\n",
        "busiest_per = busiest['% of Total Trips'].iloc[0]\n",
        "#Create bar chart of number of trips by week day\n",
        "trace1 = go.Bar(\n",
        "    x=df_timeofday['Time Bin'],\n",
        "    y=df_timeofday['Number of Trips'],\n",
        "    name = 'No. Trips',\n",
        "    marker=dict(\n",
        "        color='rgb(34,163,192)'\n",
        "               )\n",
        ")\n",
        "#Create line chart of the % of Total Trips by Day\n",
        "trace2 = go.Scatter(\n",
        "    x=df_timeofday['Time Bin'],\n",
        "    y=df_timeofday['% of Total Trips'],\n",
        "    name='% of Total Trips',\n",
        "    yaxis='y2'\n",
        "\n",
        ")\n",
        "#Combine both charts\n",
        "fig = make_subplots(specs=[[{\"secondary_y\": True}]])\n",
        "fig.add_trace(trace1)\n",
        "fig.add_trace(trace2,secondary_y=True)\n",
        "fig.update_layout(\n",
        "    title=dict(\n",
        "        text='<b>Time of Day vs Number of Trips</b>\\\n",
        "              <br><i><sup>A visualisation showing the number of trips by two hourly buckets (n = 100k)</sup></i>',\n",
        "        x=0.5,\n",
        "        y=0.9,\n",
        "        font=dict(\n",
        "            family=\"Arial\",\n",
        "            size=20,\n",
        "            color='#000000'\n",
        "        )))\n",
        "# Add highlight box:\n",
        "fig.add_vrect(x0=\"-0.5\",\n",
        "               x1=\"3.5\",\n",
        "               fillcolor=\"darkred\",\n",
        "               opacity=0.3,\n",
        "               line_width=0)\n",
        "# Add highlight box:\n",
        "fig.add_vrect(x0=\"10.5\",\n",
        "               x1=\"12\",\n",
        "               fillcolor=\"darkred\",\n",
        "               opacity=0.3,\n",
        "               line_width=0)\n",
        "# Add explanation of line:\n",
        "fig.add_annotation(x=0.09,\n",
        "                    y=0.3,\n",
        "                    text=\"Quiet period between 22:00 and 08:00\",\n",
        "                    textangle=0,\n",
        "                    xanchor='left',\n",
        "                    xref=\"paper\",\n",
        "                    yref=\"paper\",\n",
        "                    bordercolor='black',\n",
        "                    borderpad=5,\n",
        "                    bgcolor='white',\n",
        "                    font_color='black',\n",
        "                    showarrow=False,\n",
        "                    )\n",
        "# Add highlight box:\n",
        "fig.add_vrect(x0=\"5.5\",\n",
        "               x1=\"9.5\",\n",
        "               fillcolor=\"darkgreen\",\n",
        "               opacity=0.3,\n",
        "               line_width=0)\n",
        "# Add explanation of line:\n",
        "fig.add_annotation(x=0.73,\n",
        "                    y=0.7,\n",
        "                    text=\"Busy period between 12:00 and 20:00 covers \" +str(busy_period)+\"% of total trips\",\n",
        "                    textangle=0,\n",
        "                    xref=\"paper\",\n",
        "                    yref=\"paper\",\n",
        "                    bordercolor='black',\n",
        "                    borderpad=5,\n",
        "                    bgcolor='white',\n",
        "                    font_color='black',\n",
        "                    showarrow=False,\n",
        "                    )\n",
        "# Add figure annotation:\n",
        "fig.add_annotation(x=0,\n",
        "                    y=-0.15,\n",
        "                    showarrow=False,\n",
        "                    text=\"<i>Figure 6 - The Number of Trips by Time of Day including % of Total Trips</i>\",\n",
        "                    textangle=0,\n",
        "                    xanchor='left',\n",
        "                    xref=\"paper\",\n",
        "                    yref=\"paper\",\n",
        "                    font_color='#000000')\n",
        "\n",
        "fig.update_yaxes(automargin=True)\n",
        "#Show the combined charts\n",
        "fig.show()\n",
        "\n",
        "#Display data\n",
        "df_timeofday"
      ],
      "metadata": {
        "colab": {
          "base_uri": "https://localhost:8080/",
          "height": 873
        },
        "id": "cm8nNupr-DR4",
        "outputId": "463d40ae-75d7-4496-e61a-895c5a1d73cf",
        "cellView": "form"
      },
      "id": "cm8nNupr-DR4",
      "execution_count": null,
      "outputs": [
        {
          "output_type": "display_data",
          "data": {
            "text/html": [
              "<html>\n",
              "<head><meta charset=\"utf-8\" /></head>\n",
              "<body>\n",
              "    <div>            <script src=\"https://cdnjs.cloudflare.com/ajax/libs/mathjax/2.7.5/MathJax.js?config=TeX-AMS-MML_SVG\"></script><script type=\"text/javascript\">if (window.MathJax && window.MathJax.Hub && window.MathJax.Hub.Config) {window.MathJax.Hub.Config({SVG: {font: \"STIX-Web\"}});}</script>                <script type=\"text/javascript\">window.PlotlyConfig = {MathJaxConfig: 'local'};</script>\n",
              "        <script src=\"https://cdn.plot.ly/plotly-2.18.2.min.js\"></script>                <div id=\"a44b1d18-b254-41c9-b141-3e81ce323d91\" class=\"plotly-graph-div\" style=\"height:525px; width:100%;\"></div>            <script type=\"text/javascript\">                                    window.PLOTLYENV=window.PLOTLYENV || {};                                    if (document.getElementById(\"a44b1d18-b254-41c9-b141-3e81ce323d91\")) {                    Plotly.newPlot(                        \"a44b1d18-b254-41c9-b141-3e81ce323d91\",                        [{\"marker\":{\"color\":\"rgb(34,163,192)\"},\"name\":\"No. Trips\",\"x\":[\"00:00-01:59\",\"02:00-03:59\",\"04:00-05:59\",\"06:00-07:59\",\"08:00-09:59\",\"10:00-11:59\",\"12:00-13:59\",\"14:00-15:59\",\"16:00-17:59\",\"18:00-19:59\",\"20:00-21:59\",\"22:00-23:59\"],\"y\":[3111,1464,1568,4829,9715,11247,12967,13481,14137,13138,8517,5826],\"type\":\"bar\"},{\"name\":\"% of Total Trips\",\"x\":[\"00:00-01:59\",\"02:00-03:59\",\"04:00-05:59\",\"06:00-07:59\",\"08:00-09:59\",\"10:00-11:59\",\"12:00-13:59\",\"14:00-15:59\",\"16:00-17:59\",\"18:00-19:59\",\"20:00-21:59\",\"22:00-23:59\"],\"y\":[3.11,1.46,1.57,4.83,9.72,11.25,12.97,13.48,14.14,13.14,8.52,5.83],\"yaxis\":\"y2\",\"type\":\"scatter\",\"xaxis\":\"x\"}],                        {\"template\":{\"data\":{\"histogram2dcontour\":[{\"type\":\"histogram2dcontour\",\"colorbar\":{\"outlinewidth\":0,\"ticks\":\"\"},\"colorscale\":[[0.0,\"#0d0887\"],[0.1111111111111111,\"#46039f\"],[0.2222222222222222,\"#7201a8\"],[0.3333333333333333,\"#9c179e\"],[0.4444444444444444,\"#bd3786\"],[0.5555555555555556,\"#d8576b\"],[0.6666666666666666,\"#ed7953\"],[0.7777777777777778,\"#fb9f3a\"],[0.8888888888888888,\"#fdca26\"],[1.0,\"#f0f921\"]]}],\"choropleth\":[{\"type\":\"choropleth\",\"colorbar\":{\"outlinewidth\":0,\"ticks\":\"\"}}],\"histogram2d\":[{\"type\":\"histogram2d\",\"colorbar\":{\"outlinewidth\":0,\"ticks\":\"\"},\"colorscale\":[[0.0,\"#0d0887\"],[0.1111111111111111,\"#46039f\"],[0.2222222222222222,\"#7201a8\"],[0.3333333333333333,\"#9c179e\"],[0.4444444444444444,\"#bd3786\"],[0.5555555555555556,\"#d8576b\"],[0.6666666666666666,\"#ed7953\"],[0.7777777777777778,\"#fb9f3a\"],[0.8888888888888888,\"#fdca26\"],[1.0,\"#f0f921\"]]}],\"heatmap\":[{\"type\":\"heatmap\",\"colorbar\":{\"outlinewidth\":0,\"ticks\":\"\"},\"colorscale\":[[0.0,\"#0d0887\"],[0.1111111111111111,\"#46039f\"],[0.2222222222222222,\"#7201a8\"],[0.3333333333333333,\"#9c179e\"],[0.4444444444444444,\"#bd3786\"],[0.5555555555555556,\"#d8576b\"],[0.6666666666666666,\"#ed7953\"],[0.7777777777777778,\"#fb9f3a\"],[0.8888888888888888,\"#fdca26\"],[1.0,\"#f0f921\"]]}],\"heatmapgl\":[{\"type\":\"heatmapgl\",\"colorbar\":{\"outlinewidth\":0,\"ticks\":\"\"},\"colorscale\":[[0.0,\"#0d0887\"],[0.1111111111111111,\"#46039f\"],[0.2222222222222222,\"#7201a8\"],[0.3333333333333333,\"#9c179e\"],[0.4444444444444444,\"#bd3786\"],[0.5555555555555556,\"#d8576b\"],[0.6666666666666666,\"#ed7953\"],[0.7777777777777778,\"#fb9f3a\"],[0.8888888888888888,\"#fdca26\"],[1.0,\"#f0f921\"]]}],\"contourcarpet\":[{\"type\":\"contourcarpet\",\"colorbar\":{\"outlinewidth\":0,\"ticks\":\"\"}}],\"contour\":[{\"type\":\"contour\",\"colorbar\":{\"outlinewidth\":0,\"ticks\":\"\"},\"colorscale\":[[0.0,\"#0d0887\"],[0.1111111111111111,\"#46039f\"],[0.2222222222222222,\"#7201a8\"],[0.3333333333333333,\"#9c179e\"],[0.4444444444444444,\"#bd3786\"],[0.5555555555555556,\"#d8576b\"],[0.6666666666666666,\"#ed7953\"],[0.7777777777777778,\"#fb9f3a\"],[0.8888888888888888,\"#fdca26\"],[1.0,\"#f0f921\"]]}],\"surface\":[{\"type\":\"surface\",\"colorbar\":{\"outlinewidth\":0,\"ticks\":\"\"},\"colorscale\":[[0.0,\"#0d0887\"],[0.1111111111111111,\"#46039f\"],[0.2222222222222222,\"#7201a8\"],[0.3333333333333333,\"#9c179e\"],[0.4444444444444444,\"#bd3786\"],[0.5555555555555556,\"#d8576b\"],[0.6666666666666666,\"#ed7953\"],[0.7777777777777778,\"#fb9f3a\"],[0.8888888888888888,\"#fdca26\"],[1.0,\"#f0f921\"]]}],\"mesh3d\":[{\"type\":\"mesh3d\",\"colorbar\":{\"outlinewidth\":0,\"ticks\":\"\"}}],\"scatter\":[{\"fillpattern\":{\"fillmode\":\"overlay\",\"size\":10,\"solidity\":0.2},\"type\":\"scatter\"}],\"parcoords\":[{\"type\":\"parcoords\",\"line\":{\"colorbar\":{\"outlinewidth\":0,\"ticks\":\"\"}}}],\"scatterpolargl\":[{\"type\":\"scatterpolargl\",\"marker\":{\"colorbar\":{\"outlinewidth\":0,\"ticks\":\"\"}}}],\"bar\":[{\"error_x\":{\"color\":\"#2a3f5f\"},\"error_y\":{\"color\":\"#2a3f5f\"},\"marker\":{\"line\":{\"color\":\"#E5ECF6\",\"width\":0.5},\"pattern\":{\"fillmode\":\"overlay\",\"size\":10,\"solidity\":0.2}},\"type\":\"bar\"}],\"scattergeo\":[{\"type\":\"scattergeo\",\"marker\":{\"colorbar\":{\"outlinewidth\":0,\"ticks\":\"\"}}}],\"scatterpolar\":[{\"type\":\"scatterpolar\",\"marker\":{\"colorbar\":{\"outlinewidth\":0,\"ticks\":\"\"}}}],\"histogram\":[{\"marker\":{\"pattern\":{\"fillmode\":\"overlay\",\"size\":10,\"solidity\":0.2}},\"type\":\"histogram\"}],\"scattergl\":[{\"type\":\"scattergl\",\"marker\":{\"colorbar\":{\"outlinewidth\":0,\"ticks\":\"\"}}}],\"scatter3d\":[{\"type\":\"scatter3d\",\"line\":{\"colorbar\":{\"outlinewidth\":0,\"ticks\":\"\"}},\"marker\":{\"colorbar\":{\"outlinewidth\":0,\"ticks\":\"\"}}}],\"scattermapbox\":[{\"type\":\"scattermapbox\",\"marker\":{\"colorbar\":{\"outlinewidth\":0,\"ticks\":\"\"}}}],\"scatterternary\":[{\"type\":\"scatterternary\",\"marker\":{\"colorbar\":{\"outlinewidth\":0,\"ticks\":\"\"}}}],\"scattercarpet\":[{\"type\":\"scattercarpet\",\"marker\":{\"colorbar\":{\"outlinewidth\":0,\"ticks\":\"\"}}}],\"carpet\":[{\"aaxis\":{\"endlinecolor\":\"#2a3f5f\",\"gridcolor\":\"white\",\"linecolor\":\"white\",\"minorgridcolor\":\"white\",\"startlinecolor\":\"#2a3f5f\"},\"baxis\":{\"endlinecolor\":\"#2a3f5f\",\"gridcolor\":\"white\",\"linecolor\":\"white\",\"minorgridcolor\":\"white\",\"startlinecolor\":\"#2a3f5f\"},\"type\":\"carpet\"}],\"table\":[{\"cells\":{\"fill\":{\"color\":\"#EBF0F8\"},\"line\":{\"color\":\"white\"}},\"header\":{\"fill\":{\"color\":\"#C8D4E3\"},\"line\":{\"color\":\"white\"}},\"type\":\"table\"}],\"barpolar\":[{\"marker\":{\"line\":{\"color\":\"#E5ECF6\",\"width\":0.5},\"pattern\":{\"fillmode\":\"overlay\",\"size\":10,\"solidity\":0.2}},\"type\":\"barpolar\"}],\"pie\":[{\"automargin\":true,\"type\":\"pie\"}]},\"layout\":{\"autotypenumbers\":\"strict\",\"colorway\":[\"#636efa\",\"#EF553B\",\"#00cc96\",\"#ab63fa\",\"#FFA15A\",\"#19d3f3\",\"#FF6692\",\"#B6E880\",\"#FF97FF\",\"#FECB52\"],\"font\":{\"color\":\"#2a3f5f\"},\"hovermode\":\"closest\",\"hoverlabel\":{\"align\":\"left\"},\"paper_bgcolor\":\"white\",\"plot_bgcolor\":\"#E5ECF6\",\"polar\":{\"bgcolor\":\"#E5ECF6\",\"angularaxis\":{\"gridcolor\":\"white\",\"linecolor\":\"white\",\"ticks\":\"\"},\"radialaxis\":{\"gridcolor\":\"white\",\"linecolor\":\"white\",\"ticks\":\"\"}},\"ternary\":{\"bgcolor\":\"#E5ECF6\",\"aaxis\":{\"gridcolor\":\"white\",\"linecolor\":\"white\",\"ticks\":\"\"},\"baxis\":{\"gridcolor\":\"white\",\"linecolor\":\"white\",\"ticks\":\"\"},\"caxis\":{\"gridcolor\":\"white\",\"linecolor\":\"white\",\"ticks\":\"\"}},\"coloraxis\":{\"colorbar\":{\"outlinewidth\":0,\"ticks\":\"\"}},\"colorscale\":{\"sequential\":[[0.0,\"#0d0887\"],[0.1111111111111111,\"#46039f\"],[0.2222222222222222,\"#7201a8\"],[0.3333333333333333,\"#9c179e\"],[0.4444444444444444,\"#bd3786\"],[0.5555555555555556,\"#d8576b\"],[0.6666666666666666,\"#ed7953\"],[0.7777777777777778,\"#fb9f3a\"],[0.8888888888888888,\"#fdca26\"],[1.0,\"#f0f921\"]],\"sequentialminus\":[[0.0,\"#0d0887\"],[0.1111111111111111,\"#46039f\"],[0.2222222222222222,\"#7201a8\"],[0.3333333333333333,\"#9c179e\"],[0.4444444444444444,\"#bd3786\"],[0.5555555555555556,\"#d8576b\"],[0.6666666666666666,\"#ed7953\"],[0.7777777777777778,\"#fb9f3a\"],[0.8888888888888888,\"#fdca26\"],[1.0,\"#f0f921\"]],\"diverging\":[[0,\"#8e0152\"],[0.1,\"#c51b7d\"],[0.2,\"#de77ae\"],[0.3,\"#f1b6da\"],[0.4,\"#fde0ef\"],[0.5,\"#f7f7f7\"],[0.6,\"#e6f5d0\"],[0.7,\"#b8e186\"],[0.8,\"#7fbc41\"],[0.9,\"#4d9221\"],[1,\"#276419\"]]},\"xaxis\":{\"gridcolor\":\"white\",\"linecolor\":\"white\",\"ticks\":\"\",\"title\":{\"standoff\":15},\"zerolinecolor\":\"white\",\"automargin\":true,\"zerolinewidth\":2},\"yaxis\":{\"gridcolor\":\"white\",\"linecolor\":\"white\",\"ticks\":\"\",\"title\":{\"standoff\":15},\"zerolinecolor\":\"white\",\"automargin\":true,\"zerolinewidth\":2},\"scene\":{\"xaxis\":{\"backgroundcolor\":\"#E5ECF6\",\"gridcolor\":\"white\",\"linecolor\":\"white\",\"showbackground\":true,\"ticks\":\"\",\"zerolinecolor\":\"white\",\"gridwidth\":2},\"yaxis\":{\"backgroundcolor\":\"#E5ECF6\",\"gridcolor\":\"white\",\"linecolor\":\"white\",\"showbackground\":true,\"ticks\":\"\",\"zerolinecolor\":\"white\",\"gridwidth\":2},\"zaxis\":{\"backgroundcolor\":\"#E5ECF6\",\"gridcolor\":\"white\",\"linecolor\":\"white\",\"showbackground\":true,\"ticks\":\"\",\"zerolinecolor\":\"white\",\"gridwidth\":2}},\"shapedefaults\":{\"line\":{\"color\":\"#2a3f5f\"}},\"annotationdefaults\":{\"arrowcolor\":\"#2a3f5f\",\"arrowhead\":0,\"arrowwidth\":1},\"geo\":{\"bgcolor\":\"white\",\"landcolor\":\"#E5ECF6\",\"subunitcolor\":\"white\",\"showland\":true,\"showlakes\":true,\"lakecolor\":\"white\"},\"title\":{\"x\":0.05},\"mapbox\":{\"style\":\"light\"}}},\"xaxis\":{\"anchor\":\"y\",\"domain\":[0.0,0.94]},\"yaxis\":{\"anchor\":\"x\",\"domain\":[0.0,1.0],\"automargin\":true},\"yaxis2\":{\"anchor\":\"x\",\"overlaying\":\"y\",\"side\":\"right\",\"automargin\":true},\"title\":{\"font\":{\"family\":\"Arial\",\"size\":20,\"color\":\"#000000\"},\"text\":\"<b>Time of Day vs Number of Trips</b>              <br><i><sup>A visualisation showing the number of trips by two hourly buckets (n = 100k)</sup></i>\",\"x\":0.5,\"y\":0.9},\"shapes\":[{\"fillcolor\":\"darkred\",\"line\":{\"width\":0},\"opacity\":0.3,\"type\":\"rect\",\"x0\":\"-0.5\",\"x1\":\"3.5\",\"xref\":\"x\",\"y0\":0,\"y1\":1,\"yref\":\"y domain\"},{\"fillcolor\":\"darkred\",\"line\":{\"width\":0},\"opacity\":0.3,\"type\":\"rect\",\"x0\":\"10.5\",\"x1\":\"12\",\"xref\":\"x\",\"y0\":0,\"y1\":1,\"yref\":\"y domain\"},{\"fillcolor\":\"darkgreen\",\"line\":{\"width\":0},\"opacity\":0.3,\"type\":\"rect\",\"x0\":\"5.5\",\"x1\":\"9.5\",\"xref\":\"x\",\"y0\":0,\"y1\":1,\"yref\":\"y domain\"}],\"annotations\":[{\"bgcolor\":\"white\",\"bordercolor\":\"black\",\"borderpad\":5,\"font\":{\"color\":\"black\"},\"showarrow\":false,\"text\":\"Quiet period between 22:00 and 08:00\",\"textangle\":0,\"x\":0.09,\"xanchor\":\"left\",\"xref\":\"paper\",\"y\":0.3,\"yref\":\"paper\"},{\"bgcolor\":\"white\",\"bordercolor\":\"black\",\"borderpad\":5,\"font\":{\"color\":\"black\"},\"showarrow\":false,\"text\":\"Busy period between 12:00 and 20:00 covers 54.0% of total trips\",\"textangle\":0,\"x\":0.73,\"xref\":\"paper\",\"y\":0.7,\"yref\":\"paper\"},{\"font\":{\"color\":\"#000000\"},\"showarrow\":false,\"text\":\"<i>Figure 6 - The Number of Trips by Time of Day including % of Total Trips</i>\",\"textangle\":0,\"x\":0,\"xanchor\":\"left\",\"xref\":\"paper\",\"y\":-0.15,\"yref\":\"paper\"}]},                        {\"responsive\": true}                    ).then(function(){\n",
              "                            \n",
              "var gd = document.getElementById('a44b1d18-b254-41c9-b141-3e81ce323d91');\n",
              "var x = new MutationObserver(function (mutations, observer) {{\n",
              "        var display = window.getComputedStyle(gd).display;\n",
              "        if (!display || display === 'none') {{\n",
              "            console.log([gd, 'removed!']);\n",
              "            Plotly.purge(gd);\n",
              "            observer.disconnect();\n",
              "        }}\n",
              "}});\n",
              "\n",
              "// Listen for the removal of the full notebook cells\n",
              "var notebookContainer = gd.closest('#notebook-container');\n",
              "if (notebookContainer) {{\n",
              "    x.observe(notebookContainer, {childList: true});\n",
              "}}\n",
              "\n",
              "// Listen for the clearing of the current output cell\n",
              "var outputEl = gd.closest('.output');\n",
              "if (outputEl) {{\n",
              "    x.observe(outputEl, {childList: true});\n",
              "}}\n",
              "\n",
              "                        })                };                            </script>        </div>\n",
              "</body>\n",
              "</html>"
            ]
          },
          "metadata": {}
        },
        {
          "output_type": "execute_result",
          "data": {
            "text/plain": [
              "       Time Bin  Number of Trips  Average Fare  % of Total Trips\n",
              "0   00:00-01:59             3111         20.01              3.11\n",
              "1   02:00-03:59             1464         18.63              1.46\n",
              "2   04:00-05:59             1568         27.55              1.57\n",
              "3   06:00-07:59             4829         22.19              4.83\n",
              "4   08:00-09:59             9715         17.98              9.72\n",
              "5   10:00-11:59            11247         19.72             11.25\n",
              "6   12:00-13:59            12967         19.75             12.97\n",
              "7   14:00-15:59            13481         20.97             13.48\n",
              "8   16:00-17:59            14137         18.75             14.14\n",
              "9   18:00-19:59            13138         18.76             13.14\n",
              "10  20:00-21:59             8517         20.08              8.52\n",
              "11  22:00-23:59             5826         19.57              5.83"
            ],
            "text/html": [
              "\n",
              "  <div id=\"df-d6da4057-fcad-4de3-83cc-56c85f3f1523\">\n",
              "    <div class=\"colab-df-container\">\n",
              "      <div>\n",
              "<style scoped>\n",
              "    .dataframe tbody tr th:only-of-type {\n",
              "        vertical-align: middle;\n",
              "    }\n",
              "\n",
              "    .dataframe tbody tr th {\n",
              "        vertical-align: top;\n",
              "    }\n",
              "\n",
              "    .dataframe thead th {\n",
              "        text-align: right;\n",
              "    }\n",
              "</style>\n",
              "<table border=\"1\" class=\"dataframe\">\n",
              "  <thead>\n",
              "    <tr style=\"text-align: right;\">\n",
              "      <th></th>\n",
              "      <th>Time Bin</th>\n",
              "      <th>Number of Trips</th>\n",
              "      <th>Average Fare</th>\n",
              "      <th>% of Total Trips</th>\n",
              "    </tr>\n",
              "  </thead>\n",
              "  <tbody>\n",
              "    <tr>\n",
              "      <th>0</th>\n",
              "      <td>00:00-01:59</td>\n",
              "      <td>3111</td>\n",
              "      <td>20.01</td>\n",
              "      <td>3.11</td>\n",
              "    </tr>\n",
              "    <tr>\n",
              "      <th>1</th>\n",
              "      <td>02:00-03:59</td>\n",
              "      <td>1464</td>\n",
              "      <td>18.63</td>\n",
              "      <td>1.46</td>\n",
              "    </tr>\n",
              "    <tr>\n",
              "      <th>2</th>\n",
              "      <td>04:00-05:59</td>\n",
              "      <td>1568</td>\n",
              "      <td>27.55</td>\n",
              "      <td>1.57</td>\n",
              "    </tr>\n",
              "    <tr>\n",
              "      <th>3</th>\n",
              "      <td>06:00-07:59</td>\n",
              "      <td>4829</td>\n",
              "      <td>22.19</td>\n",
              "      <td>4.83</td>\n",
              "    </tr>\n",
              "    <tr>\n",
              "      <th>4</th>\n",
              "      <td>08:00-09:59</td>\n",
              "      <td>9715</td>\n",
              "      <td>17.98</td>\n",
              "      <td>9.72</td>\n",
              "    </tr>\n",
              "    <tr>\n",
              "      <th>5</th>\n",
              "      <td>10:00-11:59</td>\n",
              "      <td>11247</td>\n",
              "      <td>19.72</td>\n",
              "      <td>11.25</td>\n",
              "    </tr>\n",
              "    <tr>\n",
              "      <th>6</th>\n",
              "      <td>12:00-13:59</td>\n",
              "      <td>12967</td>\n",
              "      <td>19.75</td>\n",
              "      <td>12.97</td>\n",
              "    </tr>\n",
              "    <tr>\n",
              "      <th>7</th>\n",
              "      <td>14:00-15:59</td>\n",
              "      <td>13481</td>\n",
              "      <td>20.97</td>\n",
              "      <td>13.48</td>\n",
              "    </tr>\n",
              "    <tr>\n",
              "      <th>8</th>\n",
              "      <td>16:00-17:59</td>\n",
              "      <td>14137</td>\n",
              "      <td>18.75</td>\n",
              "      <td>14.14</td>\n",
              "    </tr>\n",
              "    <tr>\n",
              "      <th>9</th>\n",
              "      <td>18:00-19:59</td>\n",
              "      <td>13138</td>\n",
              "      <td>18.76</td>\n",
              "      <td>13.14</td>\n",
              "    </tr>\n",
              "    <tr>\n",
              "      <th>10</th>\n",
              "      <td>20:00-21:59</td>\n",
              "      <td>8517</td>\n",
              "      <td>20.08</td>\n",
              "      <td>8.52</td>\n",
              "    </tr>\n",
              "    <tr>\n",
              "      <th>11</th>\n",
              "      <td>22:00-23:59</td>\n",
              "      <td>5826</td>\n",
              "      <td>19.57</td>\n",
              "      <td>5.83</td>\n",
              "    </tr>\n",
              "  </tbody>\n",
              "</table>\n",
              "</div>\n",
              "      <button class=\"colab-df-convert\" onclick=\"convertToInteractive('df-d6da4057-fcad-4de3-83cc-56c85f3f1523')\"\n",
              "              title=\"Convert this dataframe to an interactive table.\"\n",
              "              style=\"display:none;\">\n",
              "        \n",
              "  <svg xmlns=\"http://www.w3.org/2000/svg\" height=\"24px\"viewBox=\"0 0 24 24\"\n",
              "       width=\"24px\">\n",
              "    <path d=\"M0 0h24v24H0V0z\" fill=\"none\"/>\n",
              "    <path d=\"M18.56 5.44l.94 2.06.94-2.06 2.06-.94-2.06-.94-.94-2.06-.94 2.06-2.06.94zm-11 1L8.5 8.5l.94-2.06 2.06-.94-2.06-.94L8.5 2.5l-.94 2.06-2.06.94zm10 10l.94 2.06.94-2.06 2.06-.94-2.06-.94-.94-2.06-.94 2.06-2.06.94z\"/><path d=\"M17.41 7.96l-1.37-1.37c-.4-.4-.92-.59-1.43-.59-.52 0-1.04.2-1.43.59L10.3 9.45l-7.72 7.72c-.78.78-.78 2.05 0 2.83L4 21.41c.39.39.9.59 1.41.59.51 0 1.02-.2 1.41-.59l7.78-7.78 2.81-2.81c.8-.78.8-2.07 0-2.86zM5.41 20L4 18.59l7.72-7.72 1.47 1.35L5.41 20z\"/>\n",
              "  </svg>\n",
              "      </button>\n",
              "      \n",
              "  <style>\n",
              "    .colab-df-container {\n",
              "      display:flex;\n",
              "      flex-wrap:wrap;\n",
              "      gap: 12px;\n",
              "    }\n",
              "\n",
              "    .colab-df-convert {\n",
              "      background-color: #E8F0FE;\n",
              "      border: none;\n",
              "      border-radius: 50%;\n",
              "      cursor: pointer;\n",
              "      display: none;\n",
              "      fill: #1967D2;\n",
              "      height: 32px;\n",
              "      padding: 0 0 0 0;\n",
              "      width: 32px;\n",
              "    }\n",
              "\n",
              "    .colab-df-convert:hover {\n",
              "      background-color: #E2EBFA;\n",
              "      box-shadow: 0px 1px 2px rgba(60, 64, 67, 0.3), 0px 1px 3px 1px rgba(60, 64, 67, 0.15);\n",
              "      fill: #174EA6;\n",
              "    }\n",
              "\n",
              "    [theme=dark] .colab-df-convert {\n",
              "      background-color: #3B4455;\n",
              "      fill: #D2E3FC;\n",
              "    }\n",
              "\n",
              "    [theme=dark] .colab-df-convert:hover {\n",
              "      background-color: #434B5C;\n",
              "      box-shadow: 0px 1px 3px 1px rgba(0, 0, 0, 0.15);\n",
              "      filter: drop-shadow(0px 1px 2px rgba(0, 0, 0, 0.3));\n",
              "      fill: #FFFFFF;\n",
              "    }\n",
              "  </style>\n",
              "\n",
              "      <script>\n",
              "        const buttonEl =\n",
              "          document.querySelector('#df-d6da4057-fcad-4de3-83cc-56c85f3f1523 button.colab-df-convert');\n",
              "        buttonEl.style.display =\n",
              "          google.colab.kernel.accessAllowed ? 'block' : 'none';\n",
              "\n",
              "        async function convertToInteractive(key) {\n",
              "          const element = document.querySelector('#df-d6da4057-fcad-4de3-83cc-56c85f3f1523');\n",
              "          const dataTable =\n",
              "            await google.colab.kernel.invokeFunction('convertToInteractive',\n",
              "                                                     [key], {});\n",
              "          if (!dataTable) return;\n",
              "\n",
              "          const docLinkHtml = 'Like what you see? Visit the ' +\n",
              "            '<a target=\"_blank\" href=https://colab.research.google.com/notebooks/data_table.ipynb>data table notebook</a>'\n",
              "            + ' to learn more about interactive tables.';\n",
              "          element.innerHTML = '';\n",
              "          dataTable['output_type'] = 'display_data';\n",
              "          await google.colab.output.renderOutput(dataTable, element);\n",
              "          const docLink = document.createElement('div');\n",
              "          docLink.innerHTML = docLinkHtml;\n",
              "          element.appendChild(docLink);\n",
              "        }\n",
              "      </script>\n",
              "    </div>\n",
              "  </div>\n",
              "  "
            ],
            "application/vnd.google.colaboratory.module+javascript": "\n      import \"https://ssl.gstatic.com/colaboratory/data_table/99dac6621f6ae8c4/data_table.js\";\n\n      window.createDataTable({\n        data: [[{\n            'v': 0,\n            'f': \"0\",\n        },\n\"00:00-01:59\",\n{\n            'v': 3111,\n            'f': \"3111\",\n        },\n{\n            'v': 20.01,\n            'f': \"20.01\",\n        },\n{\n            'v': 3.11,\n            'f': \"3.11\",\n        }],\n [{\n            'v': 1,\n            'f': \"1\",\n        },\n\"02:00-03:59\",\n{\n            'v': 1464,\n            'f': \"1464\",\n        },\n{\n            'v': 18.63,\n            'f': \"18.63\",\n        },\n{\n            'v': 1.46,\n            'f': \"1.46\",\n        }],\n [{\n            'v': 2,\n            'f': \"2\",\n        },\n\"04:00-05:59\",\n{\n            'v': 1568,\n            'f': \"1568\",\n        },\n{\n            'v': 27.55,\n            'f': \"27.55\",\n        },\n{\n            'v': 1.57,\n            'f': \"1.57\",\n        }],\n [{\n            'v': 3,\n            'f': \"3\",\n        },\n\"06:00-07:59\",\n{\n            'v': 4829,\n            'f': \"4829\",\n        },\n{\n            'v': 22.19,\n            'f': \"22.19\",\n        },\n{\n            'v': 4.83,\n            'f': \"4.83\",\n        }],\n [{\n            'v': 4,\n            'f': \"4\",\n        },\n\"08:00-09:59\",\n{\n            'v': 9715,\n            'f': \"9715\",\n        },\n{\n            'v': 17.98,\n            'f': \"17.98\",\n        },\n{\n            'v': 9.72,\n            'f': \"9.72\",\n        }],\n [{\n            'v': 5,\n            'f': \"5\",\n        },\n\"10:00-11:59\",\n{\n            'v': 11247,\n            'f': \"11247\",\n        },\n{\n            'v': 19.72,\n            'f': \"19.72\",\n        },\n{\n            'v': 11.25,\n            'f': \"11.25\",\n        }],\n [{\n            'v': 6,\n            'f': \"6\",\n        },\n\"12:00-13:59\",\n{\n            'v': 12967,\n            'f': \"12967\",\n        },\n{\n            'v': 19.75,\n            'f': \"19.75\",\n        },\n{\n            'v': 12.97,\n            'f': \"12.97\",\n        }],\n [{\n            'v': 7,\n            'f': \"7\",\n        },\n\"14:00-15:59\",\n{\n            'v': 13481,\n            'f': \"13481\",\n        },\n{\n            'v': 20.97,\n            'f': \"20.97\",\n        },\n{\n            'v': 13.48,\n            'f': \"13.48\",\n        }],\n [{\n            'v': 8,\n            'f': \"8\",\n        },\n\"16:00-17:59\",\n{\n            'v': 14137,\n            'f': \"14137\",\n        },\n{\n            'v': 18.75,\n            'f': \"18.75\",\n        },\n{\n            'v': 14.14,\n            'f': \"14.14\",\n        }],\n [{\n            'v': 9,\n            'f': \"9\",\n        },\n\"18:00-19:59\",\n{\n            'v': 13138,\n            'f': \"13138\",\n        },\n{\n            'v': 18.76,\n            'f': \"18.76\",\n        },\n{\n            'v': 13.14,\n            'f': \"13.14\",\n        }],\n [{\n            'v': 10,\n            'f': \"10\",\n        },\n\"20:00-21:59\",\n{\n            'v': 8517,\n            'f': \"8517\",\n        },\n{\n            'v': 20.08,\n            'f': \"20.08\",\n        },\n{\n            'v': 8.52,\n            'f': \"8.52\",\n        }],\n [{\n            'v': 11,\n            'f': \"11\",\n        },\n\"22:00-23:59\",\n{\n            'v': 5826,\n            'f': \"5826\",\n        },\n{\n            'v': 19.57,\n            'f': \"19.57\",\n        },\n{\n            'v': 5.83,\n            'f': \"5.83\",\n        }]],\n        columns: [[\"number\", \"index\"], [\"string\", \"Time Bin\"], [\"number\", \"Number of Trips\"], [\"number\", \"Average Fare\"], [\"number\", \"% of Total Trips\"]],\n        columnOptions: [{\"width\": \"1px\", \"className\": \"index_column\"}],\n        rowsPerPage: 25,\n        helpUrl: \"https://colab.research.google.com/notebooks/data_table.ipynb\",\n        suppressOutputScrolling: true,\n        minimumWidth: undefined,\n      });\n    "
          },
          "metadata": {},
          "execution_count": 22
        }
      ]
    },
    {
      "cell_type": "code",
      "source": [
        "#@title Analysis\n",
        "display(Markdown(f\"###The busiest part of the day starts from 12:00 and peaks at 16:00 to 18:00 before ending at 20:00. This 8 hour window covers {busy_period}% of the total trips with the {busiest_time} timeframe being the busiest at {busiest_per}%. This timeframe should be prioritised, ensuring enough taxis are available to meet the increased demand to maximise taxi trips.\"))\n",
        "display(Markdown(f\"###The early morning/late night hours are lower in demand with a big drop after 10pm, which doesn't pick up until 8am.\"))"
      ],
      "metadata": {
        "colab": {
          "base_uri": "https://localhost:8080/",
          "height": 135
        },
        "id": "ZFjnp76i4lA2",
        "outputId": "610df33e-f1d4-4e03-b0d8-0af9be3f9450",
        "cellView": "form"
      },
      "id": "ZFjnp76i4lA2",
      "execution_count": null,
      "outputs": [
        {
          "output_type": "display_data",
          "data": {
            "text/plain": [
              "<IPython.core.display.Markdown object>"
            ],
            "text/markdown": "###The busiest part of the day starts from 12:00 and peaks at 16:00 to 18:00 before ending at 20:00. This 8 hour window covers 54.0% of the total trips with the 16:00-17:59 timeframe being the busiest at 14.14%. This timeframe should be prioritised, ensuring enough taxis are available to meet the increased demand to maximise taxi trips."
          },
          "metadata": {}
        },
        {
          "output_type": "display_data",
          "data": {
            "text/plain": [
              "<IPython.core.display.Markdown object>"
            ],
            "text/markdown": "###The early morning/late night hours are lower in demand with a big drop after 10pm, which doesn't pick up until 8am."
          },
          "metadata": {}
        }
      ]
    },
    {
      "cell_type": "markdown",
      "source": [
        "### **<h3>Trip Duration</h3>**"
      ],
      "metadata": {
        "id": "2SBlpx9V4mDl"
      },
      "id": "2SBlpx9V4mDl"
    },
    {
      "cell_type": "markdown",
      "source": [
        "How does the Duration of a Trip affect the amount of Trips a Taxi Company can do?<br><br>\n",
        "Similar to the time of day analysis, I will group the trip_duration column into 10 separate bins of 10 minute intervals each. Next I will aggregate the unique_key column to find the number of trips by 10 minute windows."
      ],
      "metadata": {
        "id": "ZeD1NzNVa9iJ"
      },
      "id": "ZeD1NzNVa9iJ"
    },
    {
      "cell_type": "code",
      "source": [
        "#@title Trip Duration Code\n",
        "df_duration = df_random\n",
        "# define the bins\n",
        "bins = [0, 10, 20, 30, 40, 50, 60, 70, 80, 90, 100]\n",
        "# add custom labels\n",
        "labels = ['0m to 09m', '10m to 19m', '20m to 29m', '30m to 39m', '40m to 49m', '50m to 59m', '60m to 69m', '70m to 79m', '80m to 89m', '90m to 100m',]\n",
        "df_duration['trip_minutes'] = df_duration['trip_seconds']/60\n",
        "# add the bins to the dataframe\n",
        "df_duration['Duration(Buckets)'] = pd.cut(df_duration.trip_minutes, bins, labels=labels, right=False)\n",
        "# Group by Time Bin column\n",
        "df_duration = df_duration.groupby(['Duration(Buckets)'],as_index=False).agg({'unique_key':'nunique'})\n",
        "#Rename columns for table output\n",
        "df_duration = df_duration.rename(columns={'unique_key':'Number of Trips'})\n",
        "#Add a column for % of Total Trips based on the 100k sample size\n",
        "df_duration['% of Total Trips'] = 100*df_duration['Number of Trips']/df_duration['Number of Trips'].sum()\n",
        "#Format the new column to 2 decimal places\n",
        "df_duration = df_duration.round({'% of Total Trips':2})\n",
        "#Create scatter plot with trendline\n",
        "fig = px.bar(df_duration,x=\"Duration(Buckets)\",y=\"Number of Trips\", color=\"Duration(Buckets)\",height=700)\n",
        "fig.update_layout(title=dict(\n",
        "        text='<b>Number of Trips vs Duration</b>\\\n",
        "              <br><i><sup>A visualisation showing the number of trips by 10 minute buckets (n = 100k)</sup></i>',\n",
        "        x=0.5,\n",
        "        y=0.95,\n",
        "        font=dict(\n",
        "            family=\"Arial\",\n",
        "            size=20,\n",
        "            color='#000000'\n",
        "        )))\n",
        "#Add average number of trips line\n",
        "fig.add_hline(y=df_duration['Number of Trips'].mean(),\n",
        "              line_dash='dash',\n",
        "              line_color='black')\n",
        "# Add explanation of line:\n",
        "fig.add_annotation(x=.55,\n",
        "                    y=0.3,\n",
        "                    text=\"Average Number of Trips = \" + str(int(round(df_duration['Number of Trips'].mean(),-1))),\n",
        "                    textangle=0,\n",
        "                    xanchor='left',\n",
        "                    xref=\"paper\",\n",
        "                    yref=\"paper\",\n",
        "                    font_color='black',\n",
        "                    bordercolor='black',\n",
        "                    borderpad=5,\n",
        "                    showarrow=False,\n",
        "                    bgcolor='white',\n",
        "                    )\n",
        "# Add figure annotation:\n",
        "fig.add_annotation(x=0,\n",
        "                    y=-0.1,\n",
        "                    showarrow=False,\n",
        "                    text=\"<i>Figure 7 - The Number of Trips by Duration</i>\",\n",
        "                    textangle=0,\n",
        "                    xanchor='left',\n",
        "                    xref=\"paper\",\n",
        "                    yref=\"paper\",\n",
        "                    font_color='#000000')\n",
        "#Display scatter plot\n",
        "fig.show()\n",
        "#Variables for analysis\n",
        "dur_top1 = df_duration['% of Total Trips'].iloc[0]\n",
        "dur_top2 = df_duration['% of Total Trips'].iloc[1]\n",
        "dur_total = dur_top1 + dur_top2\n",
        "df_duration"
      ],
      "metadata": {
        "id": "Gz8X6at6NaVW",
        "colab": {
          "base_uri": "https://localhost:8080/",
          "height": 1005
        },
        "outputId": "be0f5109-0890-46b3-ddcd-eda51186c2bc",
        "cellView": "form"
      },
      "id": "Gz8X6at6NaVW",
      "execution_count": null,
      "outputs": [
        {
          "output_type": "display_data",
          "data": {
            "text/html": [
              "<html>\n",
              "<head><meta charset=\"utf-8\" /></head>\n",
              "<body>\n",
              "    <div>            <script src=\"https://cdnjs.cloudflare.com/ajax/libs/mathjax/2.7.5/MathJax.js?config=TeX-AMS-MML_SVG\"></script><script type=\"text/javascript\">if (window.MathJax && window.MathJax.Hub && window.MathJax.Hub.Config) {window.MathJax.Hub.Config({SVG: {font: \"STIX-Web\"}});}</script>                <script type=\"text/javascript\">window.PlotlyConfig = {MathJaxConfig: 'local'};</script>\n",
              "        <script src=\"https://cdn.plot.ly/plotly-2.18.2.min.js\"></script>                <div id=\"7aefb40d-4c0b-4bf9-be53-4e273b0642a4\" class=\"plotly-graph-div\" style=\"height:700px; width:100%;\"></div>            <script type=\"text/javascript\">                                    window.PLOTLYENV=window.PLOTLYENV || {};                                    if (document.getElementById(\"7aefb40d-4c0b-4bf9-be53-4e273b0642a4\")) {                    Plotly.newPlot(                        \"7aefb40d-4c0b-4bf9-be53-4e273b0642a4\",                        [{\"alignmentgroup\":\"True\",\"hovertemplate\":\"Duration(Buckets)=%{x}<br>Number of Trips=%{y}<extra></extra>\",\"legendgroup\":\"0m to 09m\",\"marker\":{\"color\":\"#636efa\",\"pattern\":{\"shape\":\"\"}},\"name\":\"0m to 09m\",\"offsetgroup\":\"0m to 09m\",\"orientation\":\"v\",\"showlegend\":true,\"textposition\":\"auto\",\"x\":[\"0m to 09m\"],\"xaxis\":\"x\",\"y\":[37076],\"yaxis\":\"y\",\"type\":\"bar\"},{\"alignmentgroup\":\"True\",\"hovertemplate\":\"Duration(Buckets)=%{x}<br>Number of Trips=%{y}<extra></extra>\",\"legendgroup\":\"10m to 19m\",\"marker\":{\"color\":\"#EF553B\",\"pattern\":{\"shape\":\"\"}},\"name\":\"10m to 19m\",\"offsetgroup\":\"10m to 19m\",\"orientation\":\"v\",\"showlegend\":true,\"textposition\":\"auto\",\"x\":[\"10m to 19m\"],\"xaxis\":\"x\",\"y\":[28450],\"yaxis\":\"y\",\"type\":\"bar\"},{\"alignmentgroup\":\"True\",\"hovertemplate\":\"Duration(Buckets)=%{x}<br>Number of Trips=%{y}<extra></extra>\",\"legendgroup\":\"20m to 29m\",\"marker\":{\"color\":\"#00cc96\",\"pattern\":{\"shape\":\"\"}},\"name\":\"20m to 29m\",\"offsetgroup\":\"20m to 29m\",\"orientation\":\"v\",\"showlegend\":true,\"textposition\":\"auto\",\"x\":[\"20m to 29m\"],\"xaxis\":\"x\",\"y\":[16000],\"yaxis\":\"y\",\"type\":\"bar\"},{\"alignmentgroup\":\"True\",\"hovertemplate\":\"Duration(Buckets)=%{x}<br>Number of Trips=%{y}<extra></extra>\",\"legendgroup\":\"30m to 39m\",\"marker\":{\"color\":\"#ab63fa\",\"pattern\":{\"shape\":\"\"}},\"name\":\"30m to 39m\",\"offsetgroup\":\"30m to 39m\",\"orientation\":\"v\",\"showlegend\":true,\"textposition\":\"auto\",\"x\":[\"30m to 39m\"],\"xaxis\":\"x\",\"y\":[8802],\"yaxis\":\"y\",\"type\":\"bar\"},{\"alignmentgroup\":\"True\",\"hovertemplate\":\"Duration(Buckets)=%{x}<br>Number of Trips=%{y}<extra></extra>\",\"legendgroup\":\"40m to 49m\",\"marker\":{\"color\":\"#FFA15A\",\"pattern\":{\"shape\":\"\"}},\"name\":\"40m to 49m\",\"offsetgroup\":\"40m to 49m\",\"orientation\":\"v\",\"showlegend\":true,\"textposition\":\"auto\",\"x\":[\"40m to 49m\"],\"xaxis\":\"x\",\"y\":[4939],\"yaxis\":\"y\",\"type\":\"bar\"},{\"alignmentgroup\":\"True\",\"hovertemplate\":\"Duration(Buckets)=%{x}<br>Number of Trips=%{y}<extra></extra>\",\"legendgroup\":\"50m to 59m\",\"marker\":{\"color\":\"#19d3f3\",\"pattern\":{\"shape\":\"\"}},\"name\":\"50m to 59m\",\"offsetgroup\":\"50m to 59m\",\"orientation\":\"v\",\"showlegend\":true,\"textposition\":\"auto\",\"x\":[\"50m to 59m\"],\"xaxis\":\"x\",\"y\":[2521],\"yaxis\":\"y\",\"type\":\"bar\"},{\"alignmentgroup\":\"True\",\"hovertemplate\":\"Duration(Buckets)=%{x}<br>Number of Trips=%{y}<extra></extra>\",\"legendgroup\":\"60m to 69m\",\"marker\":{\"color\":\"#FF6692\",\"pattern\":{\"shape\":\"\"}},\"name\":\"60m to 69m\",\"offsetgroup\":\"60m to 69m\",\"orientation\":\"v\",\"showlegend\":true,\"textposition\":\"auto\",\"x\":[\"60m to 69m\"],\"xaxis\":\"x\",\"y\":[1206],\"yaxis\":\"y\",\"type\":\"bar\"},{\"alignmentgroup\":\"True\",\"hovertemplate\":\"Duration(Buckets)=%{x}<br>Number of Trips=%{y}<extra></extra>\",\"legendgroup\":\"70m to 79m\",\"marker\":{\"color\":\"#B6E880\",\"pattern\":{\"shape\":\"\"}},\"name\":\"70m to 79m\",\"offsetgroup\":\"70m to 79m\",\"orientation\":\"v\",\"showlegend\":true,\"textposition\":\"auto\",\"x\":[\"70m to 79m\"],\"xaxis\":\"x\",\"y\":[495],\"yaxis\":\"y\",\"type\":\"bar\"},{\"alignmentgroup\":\"True\",\"hovertemplate\":\"Duration(Buckets)=%{x}<br>Number of Trips=%{y}<extra></extra>\",\"legendgroup\":\"80m to 89m\",\"marker\":{\"color\":\"#FF97FF\",\"pattern\":{\"shape\":\"\"}},\"name\":\"80m to 89m\",\"offsetgroup\":\"80m to 89m\",\"orientation\":\"v\",\"showlegend\":true,\"textposition\":\"auto\",\"x\":[\"80m to 89m\"],\"xaxis\":\"x\",\"y\":[203],\"yaxis\":\"y\",\"type\":\"bar\"},{\"alignmentgroup\":\"True\",\"hovertemplate\":\"Duration(Buckets)=%{x}<br>Number of Trips=%{y}<extra></extra>\",\"legendgroup\":\"90m to 100m\",\"marker\":{\"color\":\"#FECB52\",\"pattern\":{\"shape\":\"\"}},\"name\":\"90m to 100m\",\"offsetgroup\":\"90m to 100m\",\"orientation\":\"v\",\"showlegend\":true,\"textposition\":\"auto\",\"x\":[\"90m to 100m\"],\"xaxis\":\"x\",\"y\":[69],\"yaxis\":\"y\",\"type\":\"bar\"}],                        {\"template\":{\"data\":{\"histogram2dcontour\":[{\"type\":\"histogram2dcontour\",\"colorbar\":{\"outlinewidth\":0,\"ticks\":\"\"},\"colorscale\":[[0.0,\"#0d0887\"],[0.1111111111111111,\"#46039f\"],[0.2222222222222222,\"#7201a8\"],[0.3333333333333333,\"#9c179e\"],[0.4444444444444444,\"#bd3786\"],[0.5555555555555556,\"#d8576b\"],[0.6666666666666666,\"#ed7953\"],[0.7777777777777778,\"#fb9f3a\"],[0.8888888888888888,\"#fdca26\"],[1.0,\"#f0f921\"]]}],\"choropleth\":[{\"type\":\"choropleth\",\"colorbar\":{\"outlinewidth\":0,\"ticks\":\"\"}}],\"histogram2d\":[{\"type\":\"histogram2d\",\"colorbar\":{\"outlinewidth\":0,\"ticks\":\"\"},\"colorscale\":[[0.0,\"#0d0887\"],[0.1111111111111111,\"#46039f\"],[0.2222222222222222,\"#7201a8\"],[0.3333333333333333,\"#9c179e\"],[0.4444444444444444,\"#bd3786\"],[0.5555555555555556,\"#d8576b\"],[0.6666666666666666,\"#ed7953\"],[0.7777777777777778,\"#fb9f3a\"],[0.8888888888888888,\"#fdca26\"],[1.0,\"#f0f921\"]]}],\"heatmap\":[{\"type\":\"heatmap\",\"colorbar\":{\"outlinewidth\":0,\"ticks\":\"\"},\"colorscale\":[[0.0,\"#0d0887\"],[0.1111111111111111,\"#46039f\"],[0.2222222222222222,\"#7201a8\"],[0.3333333333333333,\"#9c179e\"],[0.4444444444444444,\"#bd3786\"],[0.5555555555555556,\"#d8576b\"],[0.6666666666666666,\"#ed7953\"],[0.7777777777777778,\"#fb9f3a\"],[0.8888888888888888,\"#fdca26\"],[1.0,\"#f0f921\"]]}],\"heatmapgl\":[{\"type\":\"heatmapgl\",\"colorbar\":{\"outlinewidth\":0,\"ticks\":\"\"},\"colorscale\":[[0.0,\"#0d0887\"],[0.1111111111111111,\"#46039f\"],[0.2222222222222222,\"#7201a8\"],[0.3333333333333333,\"#9c179e\"],[0.4444444444444444,\"#bd3786\"],[0.5555555555555556,\"#d8576b\"],[0.6666666666666666,\"#ed7953\"],[0.7777777777777778,\"#fb9f3a\"],[0.8888888888888888,\"#fdca26\"],[1.0,\"#f0f921\"]]}],\"contourcarpet\":[{\"type\":\"contourcarpet\",\"colorbar\":{\"outlinewidth\":0,\"ticks\":\"\"}}],\"contour\":[{\"type\":\"contour\",\"colorbar\":{\"outlinewidth\":0,\"ticks\":\"\"},\"colorscale\":[[0.0,\"#0d0887\"],[0.1111111111111111,\"#46039f\"],[0.2222222222222222,\"#7201a8\"],[0.3333333333333333,\"#9c179e\"],[0.4444444444444444,\"#bd3786\"],[0.5555555555555556,\"#d8576b\"],[0.6666666666666666,\"#ed7953\"],[0.7777777777777778,\"#fb9f3a\"],[0.8888888888888888,\"#fdca26\"],[1.0,\"#f0f921\"]]}],\"surface\":[{\"type\":\"surface\",\"colorbar\":{\"outlinewidth\":0,\"ticks\":\"\"},\"colorscale\":[[0.0,\"#0d0887\"],[0.1111111111111111,\"#46039f\"],[0.2222222222222222,\"#7201a8\"],[0.3333333333333333,\"#9c179e\"],[0.4444444444444444,\"#bd3786\"],[0.5555555555555556,\"#d8576b\"],[0.6666666666666666,\"#ed7953\"],[0.7777777777777778,\"#fb9f3a\"],[0.8888888888888888,\"#fdca26\"],[1.0,\"#f0f921\"]]}],\"mesh3d\":[{\"type\":\"mesh3d\",\"colorbar\":{\"outlinewidth\":0,\"ticks\":\"\"}}],\"scatter\":[{\"fillpattern\":{\"fillmode\":\"overlay\",\"size\":10,\"solidity\":0.2},\"type\":\"scatter\"}],\"parcoords\":[{\"type\":\"parcoords\",\"line\":{\"colorbar\":{\"outlinewidth\":0,\"ticks\":\"\"}}}],\"scatterpolargl\":[{\"type\":\"scatterpolargl\",\"marker\":{\"colorbar\":{\"outlinewidth\":0,\"ticks\":\"\"}}}],\"bar\":[{\"error_x\":{\"color\":\"#2a3f5f\"},\"error_y\":{\"color\":\"#2a3f5f\"},\"marker\":{\"line\":{\"color\":\"#E5ECF6\",\"width\":0.5},\"pattern\":{\"fillmode\":\"overlay\",\"size\":10,\"solidity\":0.2}},\"type\":\"bar\"}],\"scattergeo\":[{\"type\":\"scattergeo\",\"marker\":{\"colorbar\":{\"outlinewidth\":0,\"ticks\":\"\"}}}],\"scatterpolar\":[{\"type\":\"scatterpolar\",\"marker\":{\"colorbar\":{\"outlinewidth\":0,\"ticks\":\"\"}}}],\"histogram\":[{\"marker\":{\"pattern\":{\"fillmode\":\"overlay\",\"size\":10,\"solidity\":0.2}},\"type\":\"histogram\"}],\"scattergl\":[{\"type\":\"scattergl\",\"marker\":{\"colorbar\":{\"outlinewidth\":0,\"ticks\":\"\"}}}],\"scatter3d\":[{\"type\":\"scatter3d\",\"line\":{\"colorbar\":{\"outlinewidth\":0,\"ticks\":\"\"}},\"marker\":{\"colorbar\":{\"outlinewidth\":0,\"ticks\":\"\"}}}],\"scattermapbox\":[{\"type\":\"scattermapbox\",\"marker\":{\"colorbar\":{\"outlinewidth\":0,\"ticks\":\"\"}}}],\"scatterternary\":[{\"type\":\"scatterternary\",\"marker\":{\"colorbar\":{\"outlinewidth\":0,\"ticks\":\"\"}}}],\"scattercarpet\":[{\"type\":\"scattercarpet\",\"marker\":{\"colorbar\":{\"outlinewidth\":0,\"ticks\":\"\"}}}],\"carpet\":[{\"aaxis\":{\"endlinecolor\":\"#2a3f5f\",\"gridcolor\":\"white\",\"linecolor\":\"white\",\"minorgridcolor\":\"white\",\"startlinecolor\":\"#2a3f5f\"},\"baxis\":{\"endlinecolor\":\"#2a3f5f\",\"gridcolor\":\"white\",\"linecolor\":\"white\",\"minorgridcolor\":\"white\",\"startlinecolor\":\"#2a3f5f\"},\"type\":\"carpet\"}],\"table\":[{\"cells\":{\"fill\":{\"color\":\"#EBF0F8\"},\"line\":{\"color\":\"white\"}},\"header\":{\"fill\":{\"color\":\"#C8D4E3\"},\"line\":{\"color\":\"white\"}},\"type\":\"table\"}],\"barpolar\":[{\"marker\":{\"line\":{\"color\":\"#E5ECF6\",\"width\":0.5},\"pattern\":{\"fillmode\":\"overlay\",\"size\":10,\"solidity\":0.2}},\"type\":\"barpolar\"}],\"pie\":[{\"automargin\":true,\"type\":\"pie\"}]},\"layout\":{\"autotypenumbers\":\"strict\",\"colorway\":[\"#636efa\",\"#EF553B\",\"#00cc96\",\"#ab63fa\",\"#FFA15A\",\"#19d3f3\",\"#FF6692\",\"#B6E880\",\"#FF97FF\",\"#FECB52\"],\"font\":{\"color\":\"#2a3f5f\"},\"hovermode\":\"closest\",\"hoverlabel\":{\"align\":\"left\"},\"paper_bgcolor\":\"white\",\"plot_bgcolor\":\"#E5ECF6\",\"polar\":{\"bgcolor\":\"#E5ECF6\",\"angularaxis\":{\"gridcolor\":\"white\",\"linecolor\":\"white\",\"ticks\":\"\"},\"radialaxis\":{\"gridcolor\":\"white\",\"linecolor\":\"white\",\"ticks\":\"\"}},\"ternary\":{\"bgcolor\":\"#E5ECF6\",\"aaxis\":{\"gridcolor\":\"white\",\"linecolor\":\"white\",\"ticks\":\"\"},\"baxis\":{\"gridcolor\":\"white\",\"linecolor\":\"white\",\"ticks\":\"\"},\"caxis\":{\"gridcolor\":\"white\",\"linecolor\":\"white\",\"ticks\":\"\"}},\"coloraxis\":{\"colorbar\":{\"outlinewidth\":0,\"ticks\":\"\"}},\"colorscale\":{\"sequential\":[[0.0,\"#0d0887\"],[0.1111111111111111,\"#46039f\"],[0.2222222222222222,\"#7201a8\"],[0.3333333333333333,\"#9c179e\"],[0.4444444444444444,\"#bd3786\"],[0.5555555555555556,\"#d8576b\"],[0.6666666666666666,\"#ed7953\"],[0.7777777777777778,\"#fb9f3a\"],[0.8888888888888888,\"#fdca26\"],[1.0,\"#f0f921\"]],\"sequentialminus\":[[0.0,\"#0d0887\"],[0.1111111111111111,\"#46039f\"],[0.2222222222222222,\"#7201a8\"],[0.3333333333333333,\"#9c179e\"],[0.4444444444444444,\"#bd3786\"],[0.5555555555555556,\"#d8576b\"],[0.6666666666666666,\"#ed7953\"],[0.7777777777777778,\"#fb9f3a\"],[0.8888888888888888,\"#fdca26\"],[1.0,\"#f0f921\"]],\"diverging\":[[0,\"#8e0152\"],[0.1,\"#c51b7d\"],[0.2,\"#de77ae\"],[0.3,\"#f1b6da\"],[0.4,\"#fde0ef\"],[0.5,\"#f7f7f7\"],[0.6,\"#e6f5d0\"],[0.7,\"#b8e186\"],[0.8,\"#7fbc41\"],[0.9,\"#4d9221\"],[1,\"#276419\"]]},\"xaxis\":{\"gridcolor\":\"white\",\"linecolor\":\"white\",\"ticks\":\"\",\"title\":{\"standoff\":15},\"zerolinecolor\":\"white\",\"automargin\":true,\"zerolinewidth\":2},\"yaxis\":{\"gridcolor\":\"white\",\"linecolor\":\"white\",\"ticks\":\"\",\"title\":{\"standoff\":15},\"zerolinecolor\":\"white\",\"automargin\":true,\"zerolinewidth\":2},\"scene\":{\"xaxis\":{\"backgroundcolor\":\"#E5ECF6\",\"gridcolor\":\"white\",\"linecolor\":\"white\",\"showbackground\":true,\"ticks\":\"\",\"zerolinecolor\":\"white\",\"gridwidth\":2},\"yaxis\":{\"backgroundcolor\":\"#E5ECF6\",\"gridcolor\":\"white\",\"linecolor\":\"white\",\"showbackground\":true,\"ticks\":\"\",\"zerolinecolor\":\"white\",\"gridwidth\":2},\"zaxis\":{\"backgroundcolor\":\"#E5ECF6\",\"gridcolor\":\"white\",\"linecolor\":\"white\",\"showbackground\":true,\"ticks\":\"\",\"zerolinecolor\":\"white\",\"gridwidth\":2}},\"shapedefaults\":{\"line\":{\"color\":\"#2a3f5f\"}},\"annotationdefaults\":{\"arrowcolor\":\"#2a3f5f\",\"arrowhead\":0,\"arrowwidth\":1},\"geo\":{\"bgcolor\":\"white\",\"landcolor\":\"#E5ECF6\",\"subunitcolor\":\"white\",\"showland\":true,\"showlakes\":true,\"lakecolor\":\"white\"},\"title\":{\"x\":0.05},\"mapbox\":{\"style\":\"light\"}}},\"xaxis\":{\"anchor\":\"y\",\"domain\":[0.0,1.0],\"title\":{\"text\":\"Duration(Buckets)\"},\"categoryorder\":\"array\",\"categoryarray\":[\"0m to 09m\",\"10m to 19m\",\"20m to 29m\",\"30m to 39m\",\"40m to 49m\",\"50m to 59m\",\"60m to 69m\",\"70m to 79m\",\"80m to 89m\",\"90m to 100m\"]},\"yaxis\":{\"anchor\":\"x\",\"domain\":[0.0,1.0],\"title\":{\"text\":\"Number of Trips\"}},\"legend\":{\"title\":{\"text\":\"Duration(Buckets)\"},\"tracegroupgap\":0},\"margin\":{\"t\":60},\"barmode\":\"relative\",\"height\":700,\"title\":{\"font\":{\"family\":\"Arial\",\"size\":20,\"color\":\"#000000\"},\"text\":\"<b>Number of Trips vs Duration</b>              <br><i><sup>A visualisation showing the number of trips by 10 minute buckets (n = 100k)</sup></i>\",\"x\":0.5,\"y\":0.95},\"shapes\":[{\"line\":{\"color\":\"black\",\"dash\":\"dash\"},\"type\":\"line\",\"x0\":0,\"x1\":1,\"xref\":\"x domain\",\"y0\":9976.1,\"y1\":9976.1,\"yref\":\"y\"}],\"annotations\":[{\"bgcolor\":\"white\",\"bordercolor\":\"black\",\"borderpad\":5,\"font\":{\"color\":\"black\"},\"showarrow\":false,\"text\":\"Average Number of Trips = 9980\",\"textangle\":0,\"x\":0.55,\"xanchor\":\"left\",\"xref\":\"paper\",\"y\":0.3,\"yref\":\"paper\"},{\"font\":{\"color\":\"#000000\"},\"showarrow\":false,\"text\":\"<i>Figure 7 - The Number of Trips by Duration</i>\",\"textangle\":0,\"x\":0,\"xanchor\":\"left\",\"xref\":\"paper\",\"y\":-0.1,\"yref\":\"paper\"}]},                        {\"responsive\": true}                    ).then(function(){\n",
              "                            \n",
              "var gd = document.getElementById('7aefb40d-4c0b-4bf9-be53-4e273b0642a4');\n",
              "var x = new MutationObserver(function (mutations, observer) {{\n",
              "        var display = window.getComputedStyle(gd).display;\n",
              "        if (!display || display === 'none') {{\n",
              "            console.log([gd, 'removed!']);\n",
              "            Plotly.purge(gd);\n",
              "            observer.disconnect();\n",
              "        }}\n",
              "}});\n",
              "\n",
              "// Listen for the removal of the full notebook cells\n",
              "var notebookContainer = gd.closest('#notebook-container');\n",
              "if (notebookContainer) {{\n",
              "    x.observe(notebookContainer, {childList: true});\n",
              "}}\n",
              "\n",
              "// Listen for the clearing of the current output cell\n",
              "var outputEl = gd.closest('.output');\n",
              "if (outputEl) {{\n",
              "    x.observe(outputEl, {childList: true});\n",
              "}}\n",
              "\n",
              "                        })                };                            </script>        </div>\n",
              "</body>\n",
              "</html>"
            ]
          },
          "metadata": {}
        },
        {
          "output_type": "execute_result",
          "data": {
            "text/plain": [
              "  Duration(Buckets)  Number of Trips  % of Total Trips\n",
              "0         0m to 09m            37076             37.16\n",
              "1        10m to 19m            28450             28.52\n",
              "2        20m to 29m            16000             16.04\n",
              "3        30m to 39m             8802              8.82\n",
              "4        40m to 49m             4939              4.95\n",
              "5        50m to 59m             2521              2.53\n",
              "6        60m to 69m             1206              1.21\n",
              "7        70m to 79m              495              0.50\n",
              "8        80m to 89m              203              0.20\n",
              "9       90m to 100m               69              0.07"
            ],
            "text/html": [
              "\n",
              "  <div id=\"df-1f9df20f-00cd-4ca7-b1e7-3d987a183955\">\n",
              "    <div class=\"colab-df-container\">\n",
              "      <div>\n",
              "<style scoped>\n",
              "    .dataframe tbody tr th:only-of-type {\n",
              "        vertical-align: middle;\n",
              "    }\n",
              "\n",
              "    .dataframe tbody tr th {\n",
              "        vertical-align: top;\n",
              "    }\n",
              "\n",
              "    .dataframe thead th {\n",
              "        text-align: right;\n",
              "    }\n",
              "</style>\n",
              "<table border=\"1\" class=\"dataframe\">\n",
              "  <thead>\n",
              "    <tr style=\"text-align: right;\">\n",
              "      <th></th>\n",
              "      <th>Duration(Buckets)</th>\n",
              "      <th>Number of Trips</th>\n",
              "      <th>% of Total Trips</th>\n",
              "    </tr>\n",
              "  </thead>\n",
              "  <tbody>\n",
              "    <tr>\n",
              "      <th>0</th>\n",
              "      <td>0m to 09m</td>\n",
              "      <td>37076</td>\n",
              "      <td>37.16</td>\n",
              "    </tr>\n",
              "    <tr>\n",
              "      <th>1</th>\n",
              "      <td>10m to 19m</td>\n",
              "      <td>28450</td>\n",
              "      <td>28.52</td>\n",
              "    </tr>\n",
              "    <tr>\n",
              "      <th>2</th>\n",
              "      <td>20m to 29m</td>\n",
              "      <td>16000</td>\n",
              "      <td>16.04</td>\n",
              "    </tr>\n",
              "    <tr>\n",
              "      <th>3</th>\n",
              "      <td>30m to 39m</td>\n",
              "      <td>8802</td>\n",
              "      <td>8.82</td>\n",
              "    </tr>\n",
              "    <tr>\n",
              "      <th>4</th>\n",
              "      <td>40m to 49m</td>\n",
              "      <td>4939</td>\n",
              "      <td>4.95</td>\n",
              "    </tr>\n",
              "    <tr>\n",
              "      <th>5</th>\n",
              "      <td>50m to 59m</td>\n",
              "      <td>2521</td>\n",
              "      <td>2.53</td>\n",
              "    </tr>\n",
              "    <tr>\n",
              "      <th>6</th>\n",
              "      <td>60m to 69m</td>\n",
              "      <td>1206</td>\n",
              "      <td>1.21</td>\n",
              "    </tr>\n",
              "    <tr>\n",
              "      <th>7</th>\n",
              "      <td>70m to 79m</td>\n",
              "      <td>495</td>\n",
              "      <td>0.50</td>\n",
              "    </tr>\n",
              "    <tr>\n",
              "      <th>8</th>\n",
              "      <td>80m to 89m</td>\n",
              "      <td>203</td>\n",
              "      <td>0.20</td>\n",
              "    </tr>\n",
              "    <tr>\n",
              "      <th>9</th>\n",
              "      <td>90m to 100m</td>\n",
              "      <td>69</td>\n",
              "      <td>0.07</td>\n",
              "    </tr>\n",
              "  </tbody>\n",
              "</table>\n",
              "</div>\n",
              "      <button class=\"colab-df-convert\" onclick=\"convertToInteractive('df-1f9df20f-00cd-4ca7-b1e7-3d987a183955')\"\n",
              "              title=\"Convert this dataframe to an interactive table.\"\n",
              "              style=\"display:none;\">\n",
              "        \n",
              "  <svg xmlns=\"http://www.w3.org/2000/svg\" height=\"24px\"viewBox=\"0 0 24 24\"\n",
              "       width=\"24px\">\n",
              "    <path d=\"M0 0h24v24H0V0z\" fill=\"none\"/>\n",
              "    <path d=\"M18.56 5.44l.94 2.06.94-2.06 2.06-.94-2.06-.94-.94-2.06-.94 2.06-2.06.94zm-11 1L8.5 8.5l.94-2.06 2.06-.94-2.06-.94L8.5 2.5l-.94 2.06-2.06.94zm10 10l.94 2.06.94-2.06 2.06-.94-2.06-.94-.94-2.06-.94 2.06-2.06.94z\"/><path d=\"M17.41 7.96l-1.37-1.37c-.4-.4-.92-.59-1.43-.59-.52 0-1.04.2-1.43.59L10.3 9.45l-7.72 7.72c-.78.78-.78 2.05 0 2.83L4 21.41c.39.39.9.59 1.41.59.51 0 1.02-.2 1.41-.59l7.78-7.78 2.81-2.81c.8-.78.8-2.07 0-2.86zM5.41 20L4 18.59l7.72-7.72 1.47 1.35L5.41 20z\"/>\n",
              "  </svg>\n",
              "      </button>\n",
              "      \n",
              "  <style>\n",
              "    .colab-df-container {\n",
              "      display:flex;\n",
              "      flex-wrap:wrap;\n",
              "      gap: 12px;\n",
              "    }\n",
              "\n",
              "    .colab-df-convert {\n",
              "      background-color: #E8F0FE;\n",
              "      border: none;\n",
              "      border-radius: 50%;\n",
              "      cursor: pointer;\n",
              "      display: none;\n",
              "      fill: #1967D2;\n",
              "      height: 32px;\n",
              "      padding: 0 0 0 0;\n",
              "      width: 32px;\n",
              "    }\n",
              "\n",
              "    .colab-df-convert:hover {\n",
              "      background-color: #E2EBFA;\n",
              "      box-shadow: 0px 1px 2px rgba(60, 64, 67, 0.3), 0px 1px 3px 1px rgba(60, 64, 67, 0.15);\n",
              "      fill: #174EA6;\n",
              "    }\n",
              "\n",
              "    [theme=dark] .colab-df-convert {\n",
              "      background-color: #3B4455;\n",
              "      fill: #D2E3FC;\n",
              "    }\n",
              "\n",
              "    [theme=dark] .colab-df-convert:hover {\n",
              "      background-color: #434B5C;\n",
              "      box-shadow: 0px 1px 3px 1px rgba(0, 0, 0, 0.15);\n",
              "      filter: drop-shadow(0px 1px 2px rgba(0, 0, 0, 0.3));\n",
              "      fill: #FFFFFF;\n",
              "    }\n",
              "  </style>\n",
              "\n",
              "      <script>\n",
              "        const buttonEl =\n",
              "          document.querySelector('#df-1f9df20f-00cd-4ca7-b1e7-3d987a183955 button.colab-df-convert');\n",
              "        buttonEl.style.display =\n",
              "          google.colab.kernel.accessAllowed ? 'block' : 'none';\n",
              "\n",
              "        async function convertToInteractive(key) {\n",
              "          const element = document.querySelector('#df-1f9df20f-00cd-4ca7-b1e7-3d987a183955');\n",
              "          const dataTable =\n",
              "            await google.colab.kernel.invokeFunction('convertToInteractive',\n",
              "                                                     [key], {});\n",
              "          if (!dataTable) return;\n",
              "\n",
              "          const docLinkHtml = 'Like what you see? Visit the ' +\n",
              "            '<a target=\"_blank\" href=https://colab.research.google.com/notebooks/data_table.ipynb>data table notebook</a>'\n",
              "            + ' to learn more about interactive tables.';\n",
              "          element.innerHTML = '';\n",
              "          dataTable['output_type'] = 'display_data';\n",
              "          await google.colab.output.renderOutput(dataTable, element);\n",
              "          const docLink = document.createElement('div');\n",
              "          docLink.innerHTML = docLinkHtml;\n",
              "          element.appendChild(docLink);\n",
              "        }\n",
              "      </script>\n",
              "    </div>\n",
              "  </div>\n",
              "  "
            ],
            "application/vnd.google.colaboratory.module+javascript": "\n      import \"https://ssl.gstatic.com/colaboratory/data_table/99dac6621f6ae8c4/data_table.js\";\n\n      window.createDataTable({\n        data: [[{\n            'v': 0,\n            'f': \"0\",\n        },\n\"0m to 09m\",\n{\n            'v': 37076,\n            'f': \"37076\",\n        },\n{\n            'v': 37.16,\n            'f': \"37.16\",\n        }],\n [{\n            'v': 1,\n            'f': \"1\",\n        },\n\"10m to 19m\",\n{\n            'v': 28450,\n            'f': \"28450\",\n        },\n{\n            'v': 28.52,\n            'f': \"28.52\",\n        }],\n [{\n            'v': 2,\n            'f': \"2\",\n        },\n\"20m to 29m\",\n{\n            'v': 16000,\n            'f': \"16000\",\n        },\n{\n            'v': 16.04,\n            'f': \"16.04\",\n        }],\n [{\n            'v': 3,\n            'f': \"3\",\n        },\n\"30m to 39m\",\n{\n            'v': 8802,\n            'f': \"8802\",\n        },\n{\n            'v': 8.82,\n            'f': \"8.82\",\n        }],\n [{\n            'v': 4,\n            'f': \"4\",\n        },\n\"40m to 49m\",\n{\n            'v': 4939,\n            'f': \"4939\",\n        },\n{\n            'v': 4.95,\n            'f': \"4.95\",\n        }],\n [{\n            'v': 5,\n            'f': \"5\",\n        },\n\"50m to 59m\",\n{\n            'v': 2521,\n            'f': \"2521\",\n        },\n{\n            'v': 2.53,\n            'f': \"2.53\",\n        }],\n [{\n            'v': 6,\n            'f': \"6\",\n        },\n\"60m to 69m\",\n{\n            'v': 1206,\n            'f': \"1206\",\n        },\n{\n            'v': 1.21,\n            'f': \"1.21\",\n        }],\n [{\n            'v': 7,\n            'f': \"7\",\n        },\n\"70m to 79m\",\n{\n            'v': 495,\n            'f': \"495\",\n        },\n{\n            'v': 0.5,\n            'f': \"0.5\",\n        }],\n [{\n            'v': 8,\n            'f': \"8\",\n        },\n\"80m to 89m\",\n{\n            'v': 203,\n            'f': \"203\",\n        },\n{\n            'v': 0.2,\n            'f': \"0.2\",\n        }],\n [{\n            'v': 9,\n            'f': \"9\",\n        },\n\"90m to 100m\",\n{\n            'v': 69,\n            'f': \"69\",\n        },\n{\n            'v': 0.07,\n            'f': \"0.07\",\n        }]],\n        columns: [[\"number\", \"index\"], [\"string\", \"Duration(Buckets)\"], [\"number\", \"Number of Trips\"], [\"number\", \"% of Total Trips\"]],\n        columnOptions: [{\"width\": \"1px\", \"className\": \"index_column\"}],\n        rowsPerPage: 25,\n        helpUrl: \"https://colab.research.google.com/notebooks/data_table.ipynb\",\n        suppressOutputScrolling: true,\n        minimumWidth: undefined,\n      });\n    "
          },
          "metadata": {},
          "execution_count": 24
        }
      ]
    },
    {
      "cell_type": "code",
      "source": [
        "_#@title Analysis\n",
        "display(Markdown(f\"###{dur_top1}% of the trips last up to 10 minutes with a further {dur_top2}% between 10 minutes and 20 minutes equating to a total of {dur_total}%. This would make sense as the shorter the duration of the trip, the more trips the driver can fit in.\"))\n",
        "display(Markdown(f\"###If the goal is for the company to increase trips, shorter duration trips would be optimal, potentially reducing the focus on Community Area 76 with it's high average distance and duration per trip as previously mentioned.\"))"
      ],
      "metadata": {
        "colab": {
          "base_uri": "https://localhost:8080/",
          "height": 135
        },
        "id": "FIcSRGvC4o4O",
        "outputId": "1e58f35b-e3aa-4224-e1b9-6f9a7cf9982e",
        "cellView": "form"
      },
      "id": "FIcSRGvC4o4O",
      "execution_count": null,
      "outputs": [
        {
          "output_type": "display_data",
          "data": {
            "text/plain": [
              "<IPython.core.display.Markdown object>"
            ],
            "text/markdown": "###37.16% of the trips last up to 10 minutes with a further 28.52% between 10 minutes and 20 minutes equating to a total of 65.67999999999999%. This would make sense as the shorter the duration of the trip, the more trips the driver can fit in."
          },
          "metadata": {}
        },
        {
          "output_type": "display_data",
          "data": {
            "text/plain": [
              "<IPython.core.display.Markdown object>"
            ],
            "text/markdown": "###If the goal is for the company to increase trips, shorter duration trips would be optimal, potentially reducing the focus on Community Area 76 with it's high average distance and duration per trip as previously mentioned."
          },
          "metadata": {}
        }
      ]
    },
    {
      "cell_type": "markdown",
      "source": [
        "## <h2>Summary</h2>"
      ],
      "metadata": {
        "id": "RVaTHC8ldf3V"
      },
      "id": "RVaTHC8ldf3V"
    },
    {
      "cell_type": "markdown",
      "source": [
        "In conclusion, I have analysed the public dataset Chicago Taxi Trips for 2022 and found that if a company wants to increase their total number of taxi trips they should focus on 3 key areas.<br>\n",
        "Firstly, there is a strong correlation between the number of taxis a company owns and how many trips they provide. This means companies should prioritise increasing their fleet size first and foremost. <br>\n",
        "Secondly, with an increased fleet size, companies should focus on ensuring availability within Community Areas 8 and 32 between 12pm and 8pm on weekdays, prioritsing shorter duration trips less than 20 minutes long. For this reason less priority should be placed on Community Area 76 as this typically requires longer duration trips.<br>\n",
        "Thirdly, companies should ensure taxi availability throughout the middle of the year (May to October), with less emphasis placed on the winter months.  \n"
      ],
      "metadata": {
        "id": "AXX8OXPKhZqP"
      },
      "id": "AXX8OXPKhZqP"
    },
    {
      "cell_type": "markdown",
      "source": [
        "## <h2>Final Comments</h2>"
      ],
      "metadata": {
        "id": "Aq40slCWQx3G"
      },
      "id": "Aq40slCWQx3G"
    },
    {
      "cell_type": "markdown",
      "source": [
        "In producing my analysis I have narrowed my scope to answering the question \"How can a company increase their total number of taxi trips?\", but further consideration could be made towards fare costs and in particular company profits. I have highlighted Community Area 76 as having a high average fare rate (in comparison to the other top 5 Community Areas), however it is unclear based on this data whether that would equate to increased company profits. If, when factoring in fuel costs for higher distance trips and reduced number of trips due to longer individual trip duration, this higher average fare equates to higher profits then Community Area 76 takes higher priority.<br>\n",
        "It would also be interesting to investigate how weather impacts taxi usage, my analysis shows that there is an increase in taxi usage in the summer months and a decrease during winter, but it would be interesting to cross reference this against specific temperatures. Incorporating a weather api that tracked average temperatures for each date in 2022 would be a good next step.<br>  "
      ],
      "metadata": {
        "id": "lK83jfOUQ3g-"
      },
      "id": "lK83jfOUQ3g-"
    },
    {
      "cell_type": "markdown",
      "source": [
        "Future Updates:\n",
        "Change figure 3 to show average fare as a whisker plot instead of line chart<br>\n",
        "Include fare analysis by company?<br> Do companies with lower average fares have increased trip amounts?<br>\n",
        "Cost by unit (distance or time) by company to see if companies that offer cheaper rates have increased trips. (Obvious drawbacks on profits).<br>\n",
        "How generalisable is it to non Chicago cities?<br>\n",
        "Population density of Community Areas to comment on supply and demand within areas?"
      ],
      "metadata": {
        "id": "xzearzY0bIfs"
      },
      "id": "xzearzY0bIfs"
    }
  ],
  "metadata": {
    "kernelspec": {
      "display_name": "Python 3",
      "name": "python3"
    },
    "language_info": {
      "name": "python"
    },
    "toc-autonumbering": false,
    "toc-showcode": false,
    "toc-showmarkdowntxt": false,
    "colab": {
      "provenance": [],
      "include_colab_link": true
    },
    "gpuClass": "standard"
  },
  "nbformat": 4,
  "nbformat_minor": 5
}